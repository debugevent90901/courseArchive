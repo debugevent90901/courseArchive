{
 "cells": [
  {
   "cell_type": "markdown",
   "metadata": {},
   "source": [
    "# Lab 1: Exploring languages through word frequencies"
   ]
  },
  {
   "cell_type": "markdown",
   "metadata": {},
   "source": [
    "## Learning Objectives:\n",
    "In this lab you will learn the following linguistic concepts and programming skills:\n",
    "* Basic text processing and regular expressions.\n",
    "* What do word frequencies tell us about a language?\n",
    "* How do different languages compare?\n",
    "* How to manipulate corpora and plot insightful graphs?"
   ]
  },
  {
   "cell_type": "markdown",
   "metadata": {},
   "source": [
    "## About this assignment\n",
    "\n",
    "- This is a Jupyter notebook. You can execute cell blocks by pressing control-enter.\n",
    "- You will be submitting the lab1.py file on Gradescope.\n",
    "- We have provided local access to the Gradescope autograder test cases. In order to run the test cases locally, simply run <code>python run_tests.py</code> or <code>python run_tests.py -j</code> (this commands gives information about the performance on each test case in the form of a readable json object)."
   ]
  },
  {
   "cell_type": "markdown",
   "metadata": {},
   "source": [
    "## Pre-requisites:\n",
    "For this lab, you need to make sure you have the following installed:\n",
    "* python3.6 (python2.7 should also work)\n",
    "* nltk (python package)\n",
    "* matplotlib\n",
    "\n",
    "To make sure your installation is successful, execute the block below."
   ]
  },
  {
   "cell_type": "code",
   "execution_count": 3,
   "metadata": {},
   "outputs": [],
   "source": [
    "import nltk\n",
    "import matplotlib\n",
    "import importlib"
   ]
  },
  {
   "cell_type": "code",
   "execution_count": 34,
   "metadata": {},
   "outputs": [],
   "source": [
    "import lab1"
   ]
  },
  {
   "cell_type": "markdown",
   "metadata": {},
   "source": [
    "As a packaged solution, I would recommend installing [conda](https://docs.conda.io/en/latest/miniconda.html), and creating a conda [environment](https://docs.conda.io/projects/conda/en/latest/user-guide/tasks/manage-environments.html) 'ece365_nlp' to use for the rest of this module."
   ]
  },
  {
   "cell_type": "markdown",
   "metadata": {},
   "source": [
    "## Exercise 1: Working With Text"
   ]
  },
  {
   "cell_type": "markdown",
   "metadata": {},
   "source": [
    "Before getting started, let's work with some simple text processing! "
   ]
  },
  {
   "cell_type": "code",
   "execution_count": 5,
   "metadata": {},
   "outputs": [
    {
     "output_type": "execute_result",
     "data": {
      "text/plain": [
       "76"
      ]
     },
     "metadata": {},
     "execution_count": 5
    }
   ],
   "source": [
    "text1 = \"Ethics are built right into the ideals and objectives of the United Nations \"\n",
    "\n",
    "len(text1) # The length of text1 (String Length)"
   ]
  },
  {
   "cell_type": "code",
   "execution_count": 6,
   "metadata": {},
   "outputs": [
    {
     "output_type": "execute_result",
     "data": {
      "text/plain": [
       "14"
      ]
     },
     "metadata": {},
     "execution_count": 6
    }
   ],
   "source": [
    "text2 = text1.split(' ') # Return a list of the words in text2, separating by ' '.\n",
    "len(text2) # Word Length"
   ]
  },
  {
   "cell_type": "code",
   "execution_count": 7,
   "metadata": {},
   "outputs": [
    {
     "output_type": "execute_result",
     "data": {
      "text/plain": [
       "['Ethics',\n",
       " 'are',\n",
       " 'built',\n",
       " 'right',\n",
       " 'into',\n",
       " 'the',\n",
       " 'ideals',\n",
       " 'and',\n",
       " 'objectives',\n",
       " 'of',\n",
       " 'the',\n",
       " 'United',\n",
       " 'Nations',\n",
       " '']"
      ]
     },
     "metadata": {},
     "execution_count": 7
    }
   ],
   "source": [
    "text2"
   ]
  },
  {
   "cell_type": "markdown",
   "metadata": {},
   "source": [
    "<br>\n",
    "List comprehension allows us to find specific words:"
   ]
  },
  {
   "cell_type": "code",
   "execution_count": 8,
   "metadata": {},
   "outputs": [
    {
     "output_type": "execute_result",
     "data": {
      "text/plain": [
       "['Ethics',\n",
       " 'built',\n",
       " 'right',\n",
       " 'into',\n",
       " 'ideals',\n",
       " 'objectives',\n",
       " 'United',\n",
       " 'Nations']"
      ]
     },
     "metadata": {},
     "execution_count": 8
    }
   ],
   "source": [
    "[w for w in text2 if len(w) > 3] # Words that are greater than 3 letters long in text2"
   ]
  },
  {
   "cell_type": "code",
   "execution_count": 9,
   "metadata": {},
   "outputs": [
    {
     "output_type": "execute_result",
     "data": {
      "text/plain": [
       "['Ethics', 'United', 'Nations']"
      ]
     },
     "metadata": {},
     "execution_count": 9
    }
   ],
   "source": [
    "[w for w in text2 if w.istitle()] # Capitalized words in text2"
   ]
  },
  {
   "cell_type": "code",
   "execution_count": 10,
   "metadata": {},
   "outputs": [
    {
     "output_type": "execute_result",
     "data": {
      "text/plain": [
       "['Ethics', 'ideals', 'objectives', 'Nations']"
      ]
     },
     "metadata": {},
     "execution_count": 10
    }
   ],
   "source": [
    "[w for w in text2 if w.endswith('s')] # Words in text2 that end in 's'"
   ]
  },
  {
   "cell_type": "markdown",
   "metadata": {},
   "source": [
    "<br>\n",
    "We can find unique words using 'set()'."
   ]
  },
  {
   "cell_type": "code",
   "execution_count": 11,
   "metadata": {},
   "outputs": [
    {
     "output_type": "execute_result",
     "data": {
      "text/plain": [
       "6"
      ]
     },
     "metadata": {},
     "execution_count": 11
    }
   ],
   "source": [
    "text3 = 'To be or not to be'\n",
    "text4 = text3.split(' ')\n",
    "\n",
    "len(text4)"
   ]
  },
  {
   "cell_type": "code",
   "execution_count": 12,
   "metadata": {},
   "outputs": [
    {
     "output_type": "execute_result",
     "data": {
      "text/plain": [
       "5"
      ]
     },
     "metadata": {},
     "execution_count": 12
    }
   ],
   "source": [
    "len(set(text4))"
   ]
  },
  {
   "cell_type": "code",
   "execution_count": 13,
   "metadata": {},
   "outputs": [
    {
     "output_type": "execute_result",
     "data": {
      "text/plain": [
       "{'To', 'be', 'not', 'or', 'to'}"
      ]
     },
     "metadata": {},
     "execution_count": 13
    }
   ],
   "source": [
    "set(text4)"
   ]
  },
  {
   "cell_type": "code",
   "execution_count": 14,
   "metadata": {},
   "outputs": [
    {
     "output_type": "execute_result",
     "data": {
      "text/plain": [
       "4"
      ]
     },
     "metadata": {},
     "execution_count": 14
    }
   ],
   "source": [
    "len(set([w.lower() for w in text4])) # .lower converts the string to lowercase."
   ]
  },
  {
   "cell_type": "code",
   "execution_count": 15,
   "metadata": {},
   "outputs": [
    {
     "output_type": "execute_result",
     "data": {
      "text/plain": [
       "{'be', 'not', 'or', 'to'}"
      ]
     },
     "metadata": {},
     "execution_count": 15
    }
   ],
   "source": [
    "set([w.lower() for w in text4])"
   ]
  },
  {
   "cell_type": "markdown",
   "metadata": {},
   "source": [
    "### Processing free-text"
   ]
  },
  {
   "cell_type": "code",
   "execution_count": 17,
   "metadata": {},
   "outputs": [
    {
     "output_type": "execute_result",
     "data": {
      "text/plain": [
       "['\"Ethics',\n",
       " 'are',\n",
       " 'built',\n",
       " 'right',\n",
       " 'into',\n",
       " 'the',\n",
       " 'ideals',\n",
       " 'and',\n",
       " 'objectives',\n",
       " 'of',\n",
       " 'the',\n",
       " 'United',\n",
       " 'Nations\"',\n",
       " '#UNSG',\n",
       " '@',\n",
       " 'NY',\n",
       " 'Society',\n",
       " 'for',\n",
       " 'Ethical',\n",
       " 'Culture',\n",
       " 'bit.ly/2guVelr']"
      ]
     },
     "metadata": {},
     "execution_count": 17
    }
   ],
   "source": [
    "text5 = '\"Ethics are built right into the ideals and objectives of the United Nations\" \\\n",
    "#UNSG @ NY Society for Ethical Culture bit.ly/2guVelr'\n",
    "text6 = text5.split(' ')\n",
    "\n",
    "text6"
   ]
  },
  {
   "cell_type": "markdown",
   "metadata": {},
   "source": [
    "<br>\n",
    "Finding hastags:"
   ]
  },
  {
   "cell_type": "code",
   "execution_count": 18,
   "metadata": {},
   "outputs": [
    {
     "output_type": "execute_result",
     "data": {
      "text/plain": [
       "['#UNSG']"
      ]
     },
     "metadata": {},
     "execution_count": 18
    }
   ],
   "source": [
    "[w for w in text6 if w.startswith('#')]"
   ]
  },
  {
   "cell_type": "markdown",
   "metadata": {},
   "source": [
    "<br>\n",
    "Finding callouts:"
   ]
  },
  {
   "cell_type": "code",
   "execution_count": 19,
   "metadata": {},
   "outputs": [
    {
     "output_type": "execute_result",
     "data": {
      "text/plain": [
       "['@']"
      ]
     },
     "metadata": {},
     "execution_count": 19
    }
   ],
   "source": [
    "[w for w in text6 if w.startswith('@')]"
   ]
  },
  {
   "cell_type": "code",
   "execution_count": 20,
   "metadata": {},
   "outputs": [
    {
     "output_type": "execute_result",
     "data": {
      "text/plain": [
       "['@UN', '@UN_Women', '@']"
      ]
     },
     "metadata": {},
     "execution_count": 20
    }
   ],
   "source": [
    "text7 = '@UN @UN_Women \"Ethics are built right into the ideals and objectives of the United Nations\" \\\n",
    "#UNSG @ NY Society for Ethical Culture bit.ly/2guVelr'\n",
    "text8 = text7.split(' ')\n",
    "[w for w in text8 if w.startswith('@')]"
   ]
  },
  {
   "cell_type": "markdown",
   "metadata": {},
   "source": [
    "### Regular Expressions"
   ]
  },
  {
   "cell_type": "markdown",
   "metadata": {},
   "source": [
    "We can use regular expressions to help us with more complex parsing. A regular expression is a special sequence of characters that helps you match or find other strings or sets of strings, using a specialized syntax held in a pattern. Regular expressions are widely used in UNIX world.\n",
    "\n",
    "For example `'@[A-Za-z0-9_]+'` will return all words that: \n",
    "* start with `'@'` and are followed by at least one: \n",
    "* capital letter (`'A-Z'`)\n",
    "* lowercase letter (`'a-z'`) \n",
    "* number (`'0-9'`)\n",
    "* or underscore (`'_'`)"
   ]
  },
  {
   "cell_type": "code",
   "execution_count": 21,
   "metadata": {},
   "outputs": [
    {
     "output_type": "execute_result",
     "data": {
      "text/plain": [
       "['@UN', '@UN_Women']"
      ]
     },
     "metadata": {},
     "execution_count": 21
    }
   ],
   "source": [
    "import re # import re - a module that provides support for regular expressions\n",
    "\n",
    "[w for w in text8 if re.search('@[A-Za-z0-9_]+', w)]"
   ]
  },
  {
   "cell_type": "markdown",
   "metadata": {},
   "source": [
    "Let's get more familiar with Regular Expression on pandas (pandas is a powerful open source data analysis Python tool.)!"
   ]
  },
  {
   "cell_type": "code",
   "execution_count": 22,
   "metadata": {
    "scrolled": true
   },
   "outputs": [
    {
     "output_type": "execute_result",
     "data": {
      "text/plain": [
       "                                                text\n",
       "0     Monday: The doctor's appointment is at 2:45pm.\n",
       "1  Tuesday: The dentist's appointment is at 11:30...\n",
       "2  Wednesday: At 7:00pm, there is a basketball game!\n",
       "3  Thursday: Be back home by 11:15 pm at the latest.\n",
       "4  Friday: Take the train at 08:10 am, arrive at ..."
      ],
      "text/html": "<div>\n<style scoped>\n    .dataframe tbody tr th:only-of-type {\n        vertical-align: middle;\n    }\n\n    .dataframe tbody tr th {\n        vertical-align: top;\n    }\n\n    .dataframe thead th {\n        text-align: right;\n    }\n</style>\n<table border=\"1\" class=\"dataframe\">\n  <thead>\n    <tr style=\"text-align: right;\">\n      <th></th>\n      <th>text</th>\n    </tr>\n  </thead>\n  <tbody>\n    <tr>\n      <th>0</th>\n      <td>Monday: The doctor's appointment is at 2:45pm.</td>\n    </tr>\n    <tr>\n      <th>1</th>\n      <td>Tuesday: The dentist's appointment is at 11:30...</td>\n    </tr>\n    <tr>\n      <th>2</th>\n      <td>Wednesday: At 7:00pm, there is a basketball game!</td>\n    </tr>\n    <tr>\n      <th>3</th>\n      <td>Thursday: Be back home by 11:15 pm at the latest.</td>\n    </tr>\n    <tr>\n      <th>4</th>\n      <td>Friday: Take the train at 08:10 am, arrive at ...</td>\n    </tr>\n  </tbody>\n</table>\n</div>"
     },
     "metadata": {},
     "execution_count": 22
    }
   ],
   "source": [
    "import pandas as pd\n",
    "\n",
    "time_sentences = [\"Monday: The doctor's appointment is at 2:45pm.\", \n",
    "                  \"Tuesday: The dentist's appointment is at 11:30 am.\",\n",
    "                  \"Wednesday: At 7:00pm, there is a basketball game!\",\n",
    "                  \"Thursday: Be back home by 11:15 pm at the latest.\",\n",
    "                  \"Friday: Take the train at 08:10 am, arrive at 09:00am.\"]\n",
    "\n",
    "df = pd.DataFrame(time_sentences, columns=['text'])\n",
    "df"
   ]
  },
  {
   "cell_type": "code",
   "execution_count": 23,
   "metadata": {},
   "outputs": [
    {
     "output_type": "execute_result",
     "data": {
      "text/plain": [
       "0    46\n",
       "1    50\n",
       "2    49\n",
       "3    49\n",
       "4    54\n",
       "Name: text, dtype: int64"
      ]
     },
     "metadata": {},
     "execution_count": 23
    }
   ],
   "source": [
    "# find the number of characters for each string in df['text']\n",
    "df['text'].str.len()"
   ]
  },
  {
   "cell_type": "code",
   "execution_count": 24,
   "metadata": {},
   "outputs": [
    {
     "output_type": "execute_result",
     "data": {
      "text/plain": [
       "0     7\n",
       "1     8\n",
       "2     8\n",
       "3    10\n",
       "4    10\n",
       "Name: text, dtype: int64"
      ]
     },
     "metadata": {},
     "execution_count": 24
    }
   ],
   "source": [
    "# find the number of tokens for each string in df['text']\n",
    "df['text'].str.split().str.len()"
   ]
  },
  {
   "cell_type": "code",
   "execution_count": 25,
   "metadata": {},
   "outputs": [
    {
     "output_type": "execute_result",
     "data": {
      "text/plain": [
       "0     True\n",
       "1     True\n",
       "2    False\n",
       "3    False\n",
       "4    False\n",
       "Name: text, dtype: bool"
      ]
     },
     "metadata": {},
     "execution_count": 25
    }
   ],
   "source": [
    "# find which entries contain the word 'appointment'\n",
    "df['text'].str.contains('appointment')"
   ]
  },
  {
   "cell_type": "code",
   "execution_count": 26,
   "metadata": {},
   "outputs": [
    {
     "output_type": "execute_result",
     "data": {
      "text/plain": [
       "0    3\n",
       "1    4\n",
       "2    3\n",
       "3    4\n",
       "4    8\n",
       "Name: text, dtype: int64"
      ]
     },
     "metadata": {},
     "execution_count": 26
    }
   ],
   "source": [
    "# find how many times a digit occurs in each string\n",
    "df['text'].str.count(r'\\d')"
   ]
  },
  {
   "cell_type": "code",
   "execution_count": 27,
   "metadata": {},
   "outputs": [
    {
     "output_type": "execute_result",
     "data": {
      "text/plain": [
       "0                   [2, 4, 5]\n",
       "1                [1, 1, 3, 0]\n",
       "2                   [7, 0, 0]\n",
       "3                [1, 1, 1, 5]\n",
       "4    [0, 8, 1, 0, 0, 9, 0, 0]\n",
       "Name: text, dtype: object"
      ]
     },
     "metadata": {},
     "execution_count": 27
    }
   ],
   "source": [
    "# find all occurances of the digits\n",
    "df['text'].str.findall(r'\\d')"
   ]
  },
  {
   "cell_type": "code",
   "execution_count": 28,
   "metadata": {},
   "outputs": [
    {
     "output_type": "execute_result",
     "data": {
      "text/plain": [
       "0               [(2, 45)]\n",
       "1              [(11, 30)]\n",
       "2               [(7, 00)]\n",
       "3              [(11, 15)]\n",
       "4    [(08, 10), (09, 00)]\n",
       "Name: text, dtype: object"
      ]
     },
     "metadata": {},
     "execution_count": 28
    }
   ],
   "source": [
    "# group and find the hours and minutes\n",
    "df['text'].str.findall(r'(\\d?\\d):(\\d\\d)')"
   ]
  },
  {
   "cell_type": "code",
   "execution_count": 29,
   "metadata": {},
   "outputs": [
    {
     "output_type": "stream",
     "name": "stderr",
     "text": [
      "<ipython-input-29-df59da514eee>:2: FutureWarning: The default value of regex will change from True to False in a future version.\n  df['text'].str.replace(r'\\w+day\\b', '???')\n"
     ]
    },
    {
     "output_type": "execute_result",
     "data": {
      "text/plain": [
       "0          ???: The doctor's appointment is at 2:45pm.\n",
       "1       ???: The dentist's appointment is at 11:30 am.\n",
       "2          ???: At 7:00pm, there is a basketball game!\n",
       "3         ???: Be back home by 11:15 pm at the latest.\n",
       "4    ???: Take the train at 08:10 am, arrive at 09:...\n",
       "Name: text, dtype: object"
      ]
     },
     "metadata": {},
     "execution_count": 29
    }
   ],
   "source": [
    "# replace weekdays with '???'\n",
    "df['text'].str.replace(r'\\w+day\\b', '???')"
   ]
  },
  {
   "cell_type": "code",
   "execution_count": 30,
   "metadata": {},
   "outputs": [
    {
     "output_type": "stream",
     "name": "stderr",
     "text": [
      "<ipython-input-30-fadab594b26c>:2: FutureWarning: The default value of regex will change from True to False in a future version.\n  df['text'].str.replace(r'(\\w+day\\b)', lambda x: x.groups()[0][:3])\n"
     ]
    },
    {
     "output_type": "execute_result",
     "data": {
      "text/plain": [
       "0          Mon: The doctor's appointment is at 2:45pm.\n",
       "1       Tue: The dentist's appointment is at 11:30 am.\n",
       "2          Wed: At 7:00pm, there is a basketball game!\n",
       "3         Thu: Be back home by 11:15 pm at the latest.\n",
       "4    Fri: Take the train at 08:10 am, arrive at 09:...\n",
       "Name: text, dtype: object"
      ]
     },
     "metadata": {},
     "execution_count": 30
    }
   ],
   "source": [
    "# replace weekdays with 3 letter abbrevations\n",
    "df['text'].str.replace(r'(\\w+day\\b)', lambda x: x.groups()[0][:3])"
   ]
  },
  {
   "cell_type": "code",
   "execution_count": 31,
   "metadata": {},
   "outputs": [
    {
     "output_type": "execute_result",
     "data": {
      "text/plain": [
       "    0   1\n",
       "0   2  45\n",
       "1  11  30\n",
       "2   7  00\n",
       "3  11  15\n",
       "4  08  10"
      ],
      "text/html": "<div>\n<style scoped>\n    .dataframe tbody tr th:only-of-type {\n        vertical-align: middle;\n    }\n\n    .dataframe tbody tr th {\n        vertical-align: top;\n    }\n\n    .dataframe thead th {\n        text-align: right;\n    }\n</style>\n<table border=\"1\" class=\"dataframe\">\n  <thead>\n    <tr style=\"text-align: right;\">\n      <th></th>\n      <th>0</th>\n      <th>1</th>\n    </tr>\n  </thead>\n  <tbody>\n    <tr>\n      <th>0</th>\n      <td>2</td>\n      <td>45</td>\n    </tr>\n    <tr>\n      <th>1</th>\n      <td>11</td>\n      <td>30</td>\n    </tr>\n    <tr>\n      <th>2</th>\n      <td>7</td>\n      <td>00</td>\n    </tr>\n    <tr>\n      <th>3</th>\n      <td>11</td>\n      <td>15</td>\n    </tr>\n    <tr>\n      <th>4</th>\n      <td>08</td>\n      <td>10</td>\n    </tr>\n  </tbody>\n</table>\n</div>"
     },
     "metadata": {},
     "execution_count": 31
    }
   ],
   "source": [
    "# create new columns from first match of extracted groups\n",
    "df['text'].str.extract(r'(\\d?\\d):(\\d\\d)')"
   ]
  },
  {
   "cell_type": "code",
   "execution_count": 32,
   "metadata": {},
   "outputs": [
    {
     "output_type": "execute_result",
     "data": {
      "text/plain": [
       "                0   1   2   3\n",
       "  match                      \n",
       "0 0        2:45pm   2  45  pm\n",
       "1 0      11:30 am  11  30  am\n",
       "2 0        7:00pm   7  00  pm\n",
       "3 0      11:15 pm  11  15  pm\n",
       "4 0      08:10 am  08  10  am\n",
       "  1       09:00am  09  00  am"
      ],
      "text/html": "<div>\n<style scoped>\n    .dataframe tbody tr th:only-of-type {\n        vertical-align: middle;\n    }\n\n    .dataframe tbody tr th {\n        vertical-align: top;\n    }\n\n    .dataframe thead th {\n        text-align: right;\n    }\n</style>\n<table border=\"1\" class=\"dataframe\">\n  <thead>\n    <tr style=\"text-align: right;\">\n      <th></th>\n      <th></th>\n      <th>0</th>\n      <th>1</th>\n      <th>2</th>\n      <th>3</th>\n    </tr>\n    <tr>\n      <th></th>\n      <th>match</th>\n      <th></th>\n      <th></th>\n      <th></th>\n      <th></th>\n    </tr>\n  </thead>\n  <tbody>\n    <tr>\n      <th>0</th>\n      <th>0</th>\n      <td>2:45pm</td>\n      <td>2</td>\n      <td>45</td>\n      <td>pm</td>\n    </tr>\n    <tr>\n      <th>1</th>\n      <th>0</th>\n      <td>11:30 am</td>\n      <td>11</td>\n      <td>30</td>\n      <td>am</td>\n    </tr>\n    <tr>\n      <th>2</th>\n      <th>0</th>\n      <td>7:00pm</td>\n      <td>7</td>\n      <td>00</td>\n      <td>pm</td>\n    </tr>\n    <tr>\n      <th>3</th>\n      <th>0</th>\n      <td>11:15 pm</td>\n      <td>11</td>\n      <td>15</td>\n      <td>pm</td>\n    </tr>\n    <tr>\n      <th rowspan=\"2\" valign=\"top\">4</th>\n      <th>0</th>\n      <td>08:10 am</td>\n      <td>08</td>\n      <td>10</td>\n      <td>am</td>\n    </tr>\n    <tr>\n      <th>1</th>\n      <td>09:00am</td>\n      <td>09</td>\n      <td>00</td>\n      <td>am</td>\n    </tr>\n  </tbody>\n</table>\n</div>"
     },
     "metadata": {},
     "execution_count": 32
    }
   ],
   "source": [
    "# extract the entire time, the hours, the minutes, and the period\n",
    "df['text'].str.extractall(r'((\\d?\\d):(\\d\\d) ?([ap]m))')"
   ]
  },
  {
   "cell_type": "code",
   "execution_count": 33,
   "metadata": {
    "scrolled": true
   },
   "outputs": [
    {
     "output_type": "execute_result",
     "data": {
      "text/plain": [
       "             time hour minute period\n",
       "  match                             \n",
       "0 0        2:45pm    2     45     pm\n",
       "1 0      11:30 am   11     30     am\n",
       "2 0        7:00pm    7     00     pm\n",
       "3 0      11:15 pm   11     15     pm\n",
       "4 0      08:10 am   08     10     am\n",
       "  1       09:00am   09     00     am"
      ],
      "text/html": "<div>\n<style scoped>\n    .dataframe tbody tr th:only-of-type {\n        vertical-align: middle;\n    }\n\n    .dataframe tbody tr th {\n        vertical-align: top;\n    }\n\n    .dataframe thead th {\n        text-align: right;\n    }\n</style>\n<table border=\"1\" class=\"dataframe\">\n  <thead>\n    <tr style=\"text-align: right;\">\n      <th></th>\n      <th></th>\n      <th>time</th>\n      <th>hour</th>\n      <th>minute</th>\n      <th>period</th>\n    </tr>\n    <tr>\n      <th></th>\n      <th>match</th>\n      <th></th>\n      <th></th>\n      <th></th>\n      <th></th>\n    </tr>\n  </thead>\n  <tbody>\n    <tr>\n      <th>0</th>\n      <th>0</th>\n      <td>2:45pm</td>\n      <td>2</td>\n      <td>45</td>\n      <td>pm</td>\n    </tr>\n    <tr>\n      <th>1</th>\n      <th>0</th>\n      <td>11:30 am</td>\n      <td>11</td>\n      <td>30</td>\n      <td>am</td>\n    </tr>\n    <tr>\n      <th>2</th>\n      <th>0</th>\n      <td>7:00pm</td>\n      <td>7</td>\n      <td>00</td>\n      <td>pm</td>\n    </tr>\n    <tr>\n      <th>3</th>\n      <th>0</th>\n      <td>11:15 pm</td>\n      <td>11</td>\n      <td>15</td>\n      <td>pm</td>\n    </tr>\n    <tr>\n      <th rowspan=\"2\" valign=\"top\">4</th>\n      <th>0</th>\n      <td>08:10 am</td>\n      <td>08</td>\n      <td>10</td>\n      <td>am</td>\n    </tr>\n    <tr>\n      <th>1</th>\n      <td>09:00am</td>\n      <td>09</td>\n      <td>00</td>\n      <td>am</td>\n    </tr>\n  </tbody>\n</table>\n</div>"
     },
     "metadata": {},
     "execution_count": 33
    }
   ],
   "source": [
    "# extract the entire time, the hours, the minutes, and the period with group names\n",
    "df['text'].str.extractall(r'(?P<time>(?P<hour>\\d?\\d):(?P<minute>\\d\\d) ?(?P<period>[ap]m))')"
   ]
  },
  {
   "cell_type": "markdown",
   "metadata": {},
   "source": [
    "You may realize there is nothing for you to answer. This section is ungraded, but you are strongly recommended to read&understand this section before moving on. "
   ]
  },
  {
   "cell_type": "markdown",
   "metadata": {},
   "source": [
    "## Exercise 2: Word Frequencies"
   ]
  },
  {
   "cell_type": "markdown",
   "metadata": {},
   "source": [
    "We live in a multi-lingual world. The languages we use are like English in some ways and distinct from English in many ways. In this exercise, we will explore some aspects of languages that make them different from English by the use of quantitative indices. \n",
    "\n",
    "Before we begin comparing languages, let us begin with English. How many words are there in English? Well, that depends on who we ask. The Second Edition of the 20-volume Oxford English Dictionary contains full entries for 171,476 words in current use (and 47,156 obsolete words). Looking elsewhere, Webster's Third New International Dictionary, Unabridged, together with its 1993 Addenda Section, includes some 470,000 entries. But, the number of words in the Oxford and Webster Dictionaries are not the same as the number of words in English. Why is that? First, it takes a while for dictionary publishers like Oxford University and Merriam-Webster to include new words in their dictionaries. While it may seem surprising new words are being coined at a rapid rate, a recent article in The Guardian reports that English speakers are adding new words at the rate of around 1,000 a year. Recent dictionary debutants include blog, grok, crowdfunding, hackathon, airball, e-marketing, sudoku, twerk and Brexit, many of which are words we find in use in our everyday lives. Slang and jargon could also be considered in this list. You have probably observed how some of these terms depend on where you live (e.g., 'prepone' in India means the opposite of postpone), whereas others are common in many places (e.g. the portmanteau, brunch = breakfast + lunch).\n",
    "\n",
    "A natural question that arises in this setting is, are all words equally likely, or do they occur with different frequencies? As you can expect, words occur with different frequencies, but what you would would not have expected is how skewed the word frequencies can be. That is what you will see in your first exercise. \n",
    "\n",
    "First, you will count the frequency of words from a word list derived from a large collection of words -- a 'corpus' (meaning 'a body of text'). For this part of the exercise, you will use the corpus of Reuters from which you will count the number of times each word occurs.\n",
    "                                                                                                                     For this, you will need to do some tokenization. Towards that, you will lowercase all words, remove the punctuation marks and numbers. Then you will use NLTK to get the frequency distribution of the tokenized text.\n",
    "                                                                                                                     \n",
    "Based on the frequency distribution of word that you will collect, you will answer the following questions.\n",
    "\n",
    "* What are the 10 most frequent words?\n",
    "* What are the 10 least frequent words?\n",
    "* What proportion of words have a frequency of 1? These singleton words are termed 'hapax legomena' (a sophisticated Greek name) and the numebr of singletons in a corpus is a measure of the richness of the vocabulary of that collection, giving you the rate at which new words appear in that text. If you take a very large text in a language and call it representative of that language, then the rate of singletons is a measure of its richness.\n",
    "* What are the answers to the above questions, if we consider stemming or lemmatization? \n",
    "\n",
    "**Total points: 50 points**"
   ]
  },
  {
   "cell_type": "markdown",
   "metadata": {},
   "source": [
    "### Coding Questions\n",
    "\n",
    "a. In the lab1.py file, complete the function \"get_freqs\" that takes as an input the \"Reuters\" corpus (type str) from nltk and returns as an output a dictionary with the key being a word, and the value being the frequency of the word in the corpus.\n",
    "Make sure to lowercase all words in the corpus and to replace all punctuations and digits with a space character. This will take care of tokenization for you. To avoid confusion, the list of punctuation marks are given to you. (15 points)"
   ]
  },
  {
   "cell_type": "code",
   "execution_count": 35,
   "metadata": {
    "nbgrader": {
     "grade": false,
     "grade_id": "cell-053fc5a44cfd341b",
     "locked": false,
     "schema_version": 3,
     "solution": true,
     "task": false
    }
   },
   "outputs": [],
   "source": [
    "puncts = ['.','!','?',',',';',':','[', ']', '{', '}', '(', ')', '\\'', '\\\"']"
   ]
  },
  {
   "cell_type": "code",
   "execution_count": 38,
   "metadata": {},
   "outputs": [],
   "source": [
    "importlib.reload(lab1)\n",
    "\n",
    "raw_corpus = nltk.corpus.reuters.raw()\n",
    "freqs = lab1.get_freqs(raw_corpus, puncts)"
   ]
  },
  {
   "cell_type": "code",
   "execution_count": 39,
   "metadata": {},
   "outputs": [
    {
     "output_type": "execute_result",
     "data": {
      "text/plain": [
       "{'asian': 63,\n",
       " 'exporters': 255,\n",
       " 'fear': 51,\n",
       " 'damage': 141,\n",
       " 'from': 8217,\n",
       " 'u': 6316,\n",
       " 's': 15601,\n",
       " '-japan': 22,\n",
       " 'rift': 3,\n",
       " 'mounting': 22,\n",
       " 'trade': 3059,\n",
       " 'friction': 29,\n",
       " 'between': 1076,\n",
       " 'the': 69246,\n",
       " 'and': 25617,\n",
       " 'japan': 1836,\n",
       " 'has': 4864,\n",
       " 'raised': 351,\n",
       " 'fears': 80,\n",
       " 'among': 290,\n",
       " 'many': 349,\n",
       " 'of': 36749,\n",
       " 'asia': 69,\n",
       " 'exporting': 68,\n",
       " 'nations': 438,\n",
       " 'that': 7540,\n",
       " 'row': 110,\n",
       " 'could': 1468,\n",
       " 'inflict': 1,\n",
       " 'far-reaching': 2,\n",
       " 'economic': 1022,\n",
       " 'businessmen': 59,\n",
       " 'officials': 969,\n",
       " 'said': 25382,\n",
       " 'they': 2595,\n",
       " 'told': 1427,\n",
       " 'reuter': 72,\n",
       " 'correspondents': 7,\n",
       " 'in': 29217,\n",
       " 'capitals': 7,\n",
       " 'a': 24940,\n",
       " 'move': 450,\n",
       " 'against': 1492,\n",
       " 'might': 402,\n",
       " 'boost': 222,\n",
       " 'protectionist': 90,\n",
       " 'sentiment': 64,\n",
       " 'lead': 269,\n",
       " 'to': 36278,\n",
       " 'curbs': 44,\n",
       " 'on': 9094,\n",
       " 'american': 967,\n",
       " 'imports': 943,\n",
       " 'their': 1370,\n",
       " 'products': 845,\n",
       " 'but': 3600,\n",
       " 'some': 1422,\n",
       " 'while': 934,\n",
       " 'conflict': 37,\n",
       " 'would': 4671,\n",
       " 'hurt': 76,\n",
       " 'them': 402,\n",
       " 'long-run': 4,\n",
       " 'short-term': 170,\n",
       " 'tokyo': 274,\n",
       " 'loss': 5115,\n",
       " 'be': 6353,\n",
       " 'gain': 784,\n",
       " 'it': 11100,\n",
       " 'will': 5950,\n",
       " 'impose': 75,\n",
       " 'mln': 18598,\n",
       " 'dlrs': 12330,\n",
       " 'tariffs': 259,\n",
       " 'japanese': 938,\n",
       " 'electronics': 124,\n",
       " 'goods': 404,\n",
       " 'april': 1973,\n",
       " 'retaliation': 127,\n",
       " 'for': 13419,\n",
       " 'alleged': 51,\n",
       " 'failure': 114,\n",
       " 'stick': 22,\n",
       " 'pact': 428,\n",
       " 'not': 4384,\n",
       " 'sell': 767,\n",
       " 'semiconductors': 79,\n",
       " 'world': 1163,\n",
       " 'markets': 809,\n",
       " 'at': 7014,\n",
       " 'below': 462,\n",
       " 'cost': 431,\n",
       " 'unofficial': 8,\n",
       " 'estimates': 262,\n",
       " 'put': 317,\n",
       " 'impact': 248,\n",
       " 'billion': 5809,\n",
       " 'spokesmen': 18,\n",
       " 'major': 1000,\n",
       " 'firms': 341,\n",
       " 'virtually': 47,\n",
       " 'halt': 53,\n",
       " 'exports': 1207,\n",
       " 'hit': 215,\n",
       " 'by': 7082,\n",
       " 'new': 2704,\n",
       " 'taxes': 131,\n",
       " 'we': 1595,\n",
       " 'wouldn': 17,\n",
       " 't': 477,\n",
       " 'able': 160,\n",
       " 'do': 463,\n",
       " 'business': 931,\n",
       " 'spokesman': 969,\n",
       " 'leading': 245,\n",
       " 'firm': 596,\n",
       " 'matsushita': 3,\n",
       " 'electric': 141,\n",
       " 'industrial': 606,\n",
       " 'co': 1757,\n",
       " 'ltd': 1001,\n",
       " '&lt': 8573,\n",
       " 'mc': 2,\n",
       " 't>': 99,\n",
       " 'if': 1554,\n",
       " 'remain': 316,\n",
       " 'place': 189,\n",
       " 'any': 925,\n",
       " 'length': 14,\n",
       " 'time': 778,\n",
       " 'beyond': 51,\n",
       " 'few': 218,\n",
       " 'months': 1020,\n",
       " 'mean': 90,\n",
       " 'complete': 132,\n",
       " 'erosion': 13,\n",
       " 'subject': 373,\n",
       " 'tom': 21,\n",
       " 'murtha': 6,\n",
       " 'stock': 2625,\n",
       " 'analyst': 350,\n",
       " 'office': 235,\n",
       " 'broker': 57,\n",
       " 'james': 198,\n",
       " 'capel': 30,\n",
       " 'co>': 82,\n",
       " 'taiwan': 345,\n",
       " 'are': 3215,\n",
       " 'also': 2532,\n",
       " 'worried': 40,\n",
       " 'aware': 40,\n",
       " 'seriousness': 3,\n",
       " 'threat': 73,\n",
       " 'because': 1076,\n",
       " 'serves': 25,\n",
       " 'as': 4523,\n",
       " 'warning': 37,\n",
       " 'us': 203,\n",
       " 'senior': 277,\n",
       " 'taiwanese': 17,\n",
       " 'official': 1174,\n",
       " 'who': 608,\n",
       " 'asked': 412,\n",
       " 'named': 107,\n",
       " 'had': 2975,\n",
       " 'surplus': 713,\n",
       " 'last': 3227,\n",
       " 'year': 6715,\n",
       " 'pct': 9771,\n",
       " 'with': 6179,\n",
       " 'helped': 115,\n",
       " 'swell': 2,\n",
       " 'foreign': 1424,\n",
       " 'exchange': 1599,\n",
       " 'reserves': 794,\n",
       " 'largest': 377,\n",
       " 'must': 339,\n",
       " 'quickly': 98,\n",
       " 'open': 398,\n",
       " 'our': 503,\n",
       " 'remove': 43,\n",
       " 'barriers': 65,\n",
       " 'cut': 882,\n",
       " 'import': 404,\n",
       " 'allow': 216,\n",
       " 'want': 206,\n",
       " 'defuse': 9,\n",
       " 'problems': 263,\n",
       " 'possible': 409,\n",
       " 'paul': 100,\n",
       " 'sheen': 1,\n",
       " 'chairman': 736,\n",
       " 'textile': 65,\n",
       " 'safe': 12,\n",
       " 'group>': 14,\n",
       " 'south': 632,\n",
       " 'korea': 224,\n",
       " 'promotion': 22,\n",
       " 'association': 414,\n",
       " 'dispute': 166,\n",
       " 'pressure': 281,\n",
       " 'whose': 85,\n",
       " 'chief': 309,\n",
       " 'similar': 165,\n",
       " 'those': 398,\n",
       " 'up': 2190,\n",
       " 'malaysia': 140,\n",
       " 'officers': 43,\n",
       " 'tough': 62,\n",
       " 'hard-hit': 4,\n",
       " 'producers': 565,\n",
       " 'third': 429,\n",
       " 'countries': 944,\n",
       " 'expand': 148,\n",
       " 'sales': 2212,\n",
       " 'hong': 160,\n",
       " 'kong': 161,\n",
       " 'where': 263,\n",
       " 'newspapers': 34,\n",
       " 'have': 3107,\n",
       " 'been': 2070,\n",
       " 'selling': 270,\n",
       " 'below-cost': 2,\n",
       " 'manufacturers': 97,\n",
       " 'share': 3085,\n",
       " 'view': 149,\n",
       " 'other': 1652,\n",
       " 'such': 684,\n",
       " 'commercial': 321,\n",
       " 'advantage': 53,\n",
       " 'outweighed': 6,\n",
       " 'further': 887,\n",
       " 'block': 123,\n",
       " 'is': 7666,\n",
       " 'very': 428,\n",
       " 'lawrence': 23,\n",
       " 'mills': 80,\n",
       " 'director-general': 8,\n",
       " 'federation': 74,\n",
       " 'industry': 1038,\n",
       " 'whole': 104,\n",
       " 'purpose': 37,\n",
       " 'prevent': 113,\n",
       " 'one': 2534,\n",
       " 'day': 469,\n",
       " 'extended': 149,\n",
       " 'sources': 877,\n",
       " 'much': 489,\n",
       " 'more': 1881,\n",
       " 'serious': 115,\n",
       " 'disadvantage': 8,\n",
       " 'action': 461,\n",
       " 'restraining': 16,\n",
       " 'he': 5208,\n",
       " 'was': 5816,\n",
       " 'biggest': 94,\n",
       " 'export': 1041,\n",
       " 'market': 2789,\n",
       " 'accounting': 142,\n",
       " 'over': 1409,\n",
       " 'domestically': 20,\n",
       " 'produced': 186,\n",
       " 'australian': 246,\n",
       " 'government': 1706,\n",
       " 'awaiting': 28,\n",
       " 'outcome': 45,\n",
       " 'talks': 721,\n",
       " 'interest': 1361,\n",
       " 'concern': 200,\n",
       " 'minister': 736,\n",
       " 'john': 134,\n",
       " 'button': 2,\n",
       " 'canberra': 2,\n",
       " 'friday': 315,\n",
       " 'this': 3516,\n",
       " 'kind': 53,\n",
       " 'deterioration': 34,\n",
       " 'relations': 90,\n",
       " 'two': 2275,\n",
       " 'which': 3664,\n",
       " 'trading': 770,\n",
       " 'partners': 295,\n",
       " 'ours': 5,\n",
       " 'matter': 72,\n",
       " 'australia': 270,\n",
       " 'concerns': 56,\n",
       " 'centred': 9,\n",
       " 'coal': 107,\n",
       " 'beef': 208,\n",
       " 'significant': 187,\n",
       " 'country': 515,\n",
       " 'meanwhile': 55,\n",
       " '-japanese': 19,\n",
       " 'diplomatic': 34,\n",
       " 'manoeuvres': 3,\n",
       " 'solve': 39,\n",
       " 'stand-off': 1,\n",
       " 'continue': 567,\n",
       " 'ruling': 126,\n",
       " 'liberal': 34,\n",
       " 'democratic': 44,\n",
       " 'party': 115,\n",
       " 'yesterday': 692,\n",
       " 'outlined': 34,\n",
       " 'package': 155,\n",
       " 'measures': 287,\n",
       " 'economy': 620,\n",
       " 'proposed': 552,\n",
       " 'include': 466,\n",
       " 'large': 342,\n",
       " 'supplementary': 8,\n",
       " 'budget': 492,\n",
       " 'record': 1293,\n",
       " 'public': 464,\n",
       " 'works': 39,\n",
       " 'spending': 255,\n",
       " 'first': 1878,\n",
       " 'half': 545,\n",
       " 'financial': 916,\n",
       " 'call': 187,\n",
       " 'stepped-up': 5,\n",
       " 'an': 4543,\n",
       " 'emergency': 66,\n",
       " 'measure': 140,\n",
       " 'stimulate': 85,\n",
       " 'despite': 302,\n",
       " 'prime': 387,\n",
       " 'yasuhiro': 41,\n",
       " 'nakasone': 122,\n",
       " 'avowed': 1,\n",
       " 'fiscal': 535,\n",
       " 'reform': 116,\n",
       " 'program': 542,\n",
       " 'deputy': 91,\n",
       " 'representative': 122,\n",
       " 'michael': 79,\n",
       " 'smith': 82,\n",
       " 'makoto': 6,\n",
       " 'kuroda': 12,\n",
       " 'international': 1412,\n",
       " 'miti': 88,\n",
       " 'due': 871,\n",
       " 'meet': 299,\n",
       " 'washington': 357,\n",
       " 'week': 1581,\n",
       " 'effort': 129,\n",
       " 'end': 963,\n",
       " 'china': 495,\n",
       " 'daily': 264,\n",
       " 'says': 895,\n",
       " 'vermin': 2,\n",
       " 'eat': 6,\n",
       " '-': 2615,\n",
       " 'grain': 678,\n",
       " 'stocks': 520,\n",
       " 'survey': 103,\n",
       " 'provinces': 29,\n",
       " 'seven': 582,\n",
       " 'cities': 19,\n",
       " 'showed': 270,\n",
       " 'consume': 4,\n",
       " 'each': 545,\n",
       " 'tonnes': 2508,\n",
       " 'or': 3218,\n",
       " 'fruit': 25,\n",
       " 'output': 696,\n",
       " 'left': 131,\n",
       " 'rot': 11,\n",
       " 'its': 7402,\n",
       " 'vegetables': 13,\n",
       " 'paper': 176,\n",
       " 'blamed': 30,\n",
       " 'waste': 92,\n",
       " 'inadequate': 38,\n",
       " 'storage': 97,\n",
       " 'bad': 70,\n",
       " 'preservation': 5,\n",
       " 'methods': 36,\n",
       " 'launched': 84,\n",
       " 'national': 917,\n",
       " 'programme': 47,\n",
       " 'reduce': 387,\n",
       " 'calling': 45,\n",
       " 'improved': 193,\n",
       " 'technology': 197,\n",
       " 'greater': 155,\n",
       " 'production': 1455,\n",
       " 'additives': 3,\n",
       " 'gave': 208,\n",
       " 'no': 1490,\n",
       " 'details': 267,\n",
       " 'revise': 20,\n",
       " 'long-term': 179,\n",
       " 'energy': 545,\n",
       " 'demand': 649,\n",
       " 'downwards': 19,\n",
       " 'ministry': 552,\n",
       " 'supply/demand': 32,\n",
       " 'outlook': 158,\n",
       " 'august': 243,\n",
       " 'forecast': 531,\n",
       " 'downtrend': 5,\n",
       " 'expected': 1373,\n",
       " 'lower': 846,\n",
       " 'projection': 19,\n",
       " 'primary': 156,\n",
       " 'supplies': 194,\n",
       " 'kilolitres': 1,\n",
       " 'kl': 2,\n",
       " 'decision': 350,\n",
       " 'follows': 129,\n",
       " 'emergence': 3,\n",
       " 'structural': 32,\n",
       " 'changes': 273,\n",
       " 'following': 397,\n",
       " 'rise': 1322,\n",
       " 'value': 536,\n",
       " 'yen': 869,\n",
       " 'decline': 430,\n",
       " 'domestic': 696,\n",
       " 'power': 203,\n",
       " 'planning': 118,\n",
       " 'work': 289,\n",
       " 'out': 754,\n",
       " 'revised': 374,\n",
       " 'through': 721,\n",
       " 'deliberations': 5,\n",
       " 'committee': 452,\n",
       " 'meetings': 111,\n",
       " 'agency': 341,\n",
       " 'natural': 291,\n",
       " 'resources': 359,\n",
       " 'review': 204,\n",
       " 'breakdown': 42,\n",
       " 'supply': 577,\n",
       " 'including': 536,\n",
       " 'oil': 3187,\n",
       " 'nuclear': 50,\n",
       " 'gas': 804,\n",
       " 'provided': 156,\n",
       " 'bulk': 88,\n",
       " 'ended': 742,\n",
       " 'march': 2005,\n",
       " 'supplying': 16,\n",
       " 'estimated': 569,\n",
       " 'kilowatt/hour': 1,\n",
       " 'basis': 372,\n",
       " 'followed': 111,\n",
       " 'liquefied': 12,\n",
       " 'noted': 368,\n",
       " 'thai': 75,\n",
       " 'deficit': 869,\n",
       " 'widens': 10,\n",
       " 'quarter': 1788,\n",
       " 'thailand': 110,\n",
       " 'widened': 35,\n",
       " 'baht': 20,\n",
       " 'ago': 510,\n",
       " 'economics': 48,\n",
       " 'department': 983,\n",
       " 'janunary/march': 1,\n",
       " 'rose': 1366,\n",
       " 'climate': 32,\n",
       " 'resulted': 92,\n",
       " 'increase': 1170,\n",
       " 'raw': 96,\n",
       " 'materials': 127,\n",
       " 'semi-finished': 8,\n",
       " 'bill': 467,\n",
       " 'however': 632,\n",
       " 'fell': 894,\n",
       " 'prices': 2193,\n",
       " 'expanded': 56,\n",
       " 'growth': 1158,\n",
       " 'smaller': 87,\n",
       " 'than': 1771,\n",
       " 'earnings': 1078,\n",
       " 'key': 236,\n",
       " 'commodities': 126,\n",
       " 'rice': 193,\n",
       " 'declined': 380,\n",
       " 'maize': 220,\n",
       " 'sugar': 783,\n",
       " 'tin': 150,\n",
       " 'canned': 10,\n",
       " 'pineapples': 1,\n",
       " 'registering': 5,\n",
       " 'high': 588,\n",
       " 'were': 3092,\n",
       " 'jewellery': 5,\n",
       " 'clothing': 16,\n",
       " 'rubber': 223,\n",
       " 'indonesia': 228,\n",
       " 'sees': 473,\n",
       " 'cpo': 15,\n",
       " 'price': 1793,\n",
       " 'rising': 294,\n",
       " 'sharply': 241,\n",
       " 'expects': 628,\n",
       " 'crude': 746,\n",
       " 'palm': 161,\n",
       " 'tonne': 302,\n",
       " 'fob': 67,\n",
       " 'sometime': 17,\n",
       " 'better': 242,\n",
       " 'european': 650,\n",
       " 'fall': 748,\n",
       " 'malaysian': 81,\n",
       " 'hasrul': 1,\n",
       " 'harahap': 3,\n",
       " 'junior': 19,\n",
       " 'tree': 8,\n",
       " 'crops': 167,\n",
       " 'indonesian': 78,\n",
       " 'reporters': 259,\n",
       " 'sumatran': 2,\n",
       " 'now': 953,\n",
       " 'around': 859,\n",
       " 'cif': 36,\n",
       " 'delivery': 210,\n",
       " 'rotterdam': 48,\n",
       " 'traders': 588,\n",
       " 'maintain': 156,\n",
       " 'making': 344,\n",
       " 'recent': 591,\n",
       " 'purchases': 255,\n",
       " 'so': 498,\n",
       " 'possibly': 72,\n",
       " 'second': 502,\n",
       " 'producer': 281,\n",
       " 'after': 1958,\n",
       " 'forced': 83,\n",
       " 'ensure': 56,\n",
       " 'during': 674,\n",
       " 'moslem': 3,\n",
       " 'fasting': 3,\n",
       " 'month': 1116,\n",
       " 'ramadan': 8,\n",
       " 'cover': 138,\n",
       " 'temporary': 139,\n",
       " 'shortage': 154,\n",
       " 'lose': 41,\n",
       " 'calendar': 120,\n",
       " 'according': 360,\n",
       " 'central': 881,\n",
       " 'bank': 3578,\n",
       " 'figures': 696,\n",
       " 'ship': 119,\n",
       " 'ban': 61,\n",
       " 'ends': 119,\n",
       " 'nsw': 14,\n",
       " 'ports': 84,\n",
       " 'tug': 9,\n",
       " 'crews': 14,\n",
       " 'wales': 16,\n",
       " 'victoria': 14,\n",
       " 'western': 338,\n",
       " 'lifted': 49,\n",
       " 'foreign-flag': 4,\n",
       " 'ships': 185,\n",
       " 'carrying': 42,\n",
       " 'containers': 13,\n",
       " 'still': 632,\n",
       " 'being': 554,\n",
       " 'disrupted': 16,\n",
       " 'separate': 77,\n",
       " 'shipping': 222,\n",
       " 'imposed': 82,\n",
       " 'pay': 910,\n",
       " 'claim': 29,\n",
       " 'prevented': 21,\n",
       " 'movement': 68,\n",
       " 'port': 217,\n",
       " 'nearly': 166,\n",
       " 'vessels': 99,\n",
       " 'went': 96,\n",
       " 'before': 766,\n",
       " 'hearing': 64,\n",
       " 'arbitration': 19,\n",
       " 'commission': 735,\n",
       " 'today': 1445,\n",
       " 'disruption': 16,\n",
       " 'began': 217,\n",
       " 'cargo': 114,\n",
       " 'handling': 38,\n",
       " 'sydney': 22,\n",
       " 'newcastle': 6,\n",
       " 'kembla': 3,\n",
       " 'part': 532,\n",
       " 'called': 290,\n",
       " 'trades': 36,\n",
       " 'labour': 93,\n",
       " 'council': 363,\n",
       " 'protest': 54,\n",
       " 'state': 585,\n",
       " 'workers': 240,\n",
       " 'compensation': 39,\n",
       " 'laws': 97,\n",
       " 'various': 110,\n",
       " 'unions': 58,\n",
       " 'appear': 47,\n",
       " 'taking': 192,\n",
       " 'turn': 66,\n",
       " 'short': 256,\n",
       " 'start': 308,\n",
       " 'shift': 59,\n",
       " 'then': 243,\n",
       " 'walk': 4,\n",
       " 'off': 488,\n",
       " 'container': 48,\n",
       " 'movements': 64,\n",
       " 'most': 607,\n",
       " 'affected': 166,\n",
       " 'stopped': 46,\n",
       " 'altogether': 7,\n",
       " 'say': 466,\n",
       " 'how': 265,\n",
       " 'long': 390,\n",
       " 'go': 236,\n",
       " 'what': 430,\n",
       " 'effect': 300,\n",
       " 'commodity': 267,\n",
       " 'may': 2056,\n",
       " 'likely': 588,\n",
       " 'least': 312,\n",
       " 'paian': 1,\n",
       " 'nainggolan': 3,\n",
       " 'reuters': 530,\n",
       " 'telephone': 148,\n",
       " 'interview': 166,\n",
       " 'sawn': 1,\n",
       " 'timber': 21,\n",
       " 'pepper': 2,\n",
       " 'tobacco': 43,\n",
       " 'considered': 132,\n",
       " 'either': 117,\n",
       " 'refined': 77,\n",
       " 'introduced': 81,\n",
       " 'question': 129,\n",
       " 'rachmat': 3,\n",
       " 'saleh': 6,\n",
       " 'when': 921,\n",
       " 'ahead': 163,\n",
       " 'made': 952,\n",
       " 'fledgling': 4,\n",
       " 'currently': 330,\n",
       " 'coffee': 665,\n",
       " 'physicals': 7,\n",
       " 'outcry': 2,\n",
       " 'system': 644,\n",
       " 'four': 894,\n",
       " 'days': 497,\n",
       " 'several': 386,\n",
       " 'factors': 168,\n",
       " 'make': 590,\n",
       " 'cautiously': 13,\n",
       " 'slowly': 24,\n",
       " 'safely': 11,\n",
       " 'mistake': 10,\n",
       " 'undermine': 14,\n",
       " 'confidence': 75,\n",
       " 'physical': 35,\n",
       " 'added': 1108,\n",
       " 'january': 1667,\n",
       " 'contracts': 231,\n",
       " 'traded': 137,\n",
       " 'five': 1195,\n",
       " 'forward': 101,\n",
       " 'robusta': 15,\n",
       " 'grades': 76,\n",
       " 'prompt': 33,\n",
       " 'board': 1151,\n",
       " 'considering': 158,\n",
       " 'introduction': 47,\n",
       " 'futures': 380,\n",
       " 'later': 330,\n",
       " 'feasibility': 32,\n",
       " 'study': 225,\n",
       " 'needed': 217,\n",
       " 'decisions': 61,\n",
       " 'until': 423,\n",
       " 'elections': 27,\n",
       " 'monday': 240,\n",
       " 'should': 853,\n",
       " 'marketing': 318,\n",
       " 'hoped': 70,\n",
       " 'development': 495,\n",
       " 'help': 478,\n",
       " 'trying': 109,\n",
       " 'overseas': 152,\n",
       " 'building': 131,\n",
       " 'contacts': 20,\n",
       " 'end-users': 11,\n",
       " 'teams': 8,\n",
       " 'already': 453,\n",
       " 'encourage': 87,\n",
       " 'direct': 112,\n",
       " 'use': 386,\n",
       " 'delegation': 46,\n",
       " 'visit': 103,\n",
       " 'europe': 230,\n",
       " 'mexico': 104,\n",
       " 'latin': 62,\n",
       " 'states': 848,\n",
       " 'participation': 72,\n",
       " 'infant': 2,\n",
       " 'good': 360,\n",
       " 'although': 324,\n",
       " 'disappointing': 16,\n",
       " 'transactions': 152,\n",
       " 'december': 915,\n",
       " 'totalled': 165,\n",
       " 'worth': 275,\n",
       " 'plus': 176,\n",
       " 'rupiah': 15,\n",
       " 'delivered': 48,\n",
       " 'locally': 12,\n",
       " 'latest': 305,\n",
       " 'report': 962,\n",
       " 'amounted': 45,\n",
       " 'only': 837,\n",
       " 'lots': 21,\n",
       " 'valued': 113,\n",
       " 'total': 1318,\n",
       " 'membership': 33,\n",
       " 'nine': 1263,\n",
       " 'brokers': 93,\n",
       " 'sri': 54,\n",
       " 'lanka': 48,\n",
       " 'gets': 83,\n",
       " 'usda': 511,\n",
       " 'approval': 382,\n",
       " 'wheat': 1016,\n",
       " 'food': 285,\n",
       " 'agriculture': 662,\n",
       " 'approved': 380,\n",
       " 'continental': 139,\n",
       " 'sale': 1061,\n",
       " 'soft': 88,\n",
       " 'c': 247,\n",
       " 'f': 186,\n",
       " 'pacific': 348,\n",
       " 'northwest': 49,\n",
       " 'colombo': 11,\n",
       " 'shipment': 187,\n",
       " 'mining': 230,\n",
       " 'gold': 650,\n",
       " 'mine': 274,\n",
       " 'corp': 3152,\n",
       " 'holdings': 336,\n",
       " 'wmng': 2,\n",
       " 's>': 112,\n",
       " 'wmc': 6,\n",
       " 'establish': 58,\n",
       " 'joint': 286,\n",
       " 'venture': 228,\n",
       " 'northern': 160,\n",
       " 'territory': 15,\n",
       " 'about': 2812,\n",
       " 'known': 87,\n",
       " 'goodall': 1,\n",
       " 'project': 150,\n",
       " 'owned': 385,\n",
       " 'local': 231,\n",
       " 'w': 88,\n",
       " 'r': 67,\n",
       " 'grace': 27,\n",
       " 'gra>': 4,\n",
       " 'unit': 1037,\n",
       " 'located': 61,\n",
       " 'kms': 9,\n",
       " 'east': 229,\n",
       " 'adelaide': 4,\n",
       " 'river': 108,\n",
       " 'mt': 40,\n",
       " 'bundey': 1,\n",
       " 'statement': 793,\n",
       " 'open-pit': 3,\n",
       " 'conventional': 14,\n",
       " 'leach': 5,\n",
       " 'treatment': 41,\n",
       " 'plant': 358,\n",
       " 'produce': 161,\n",
       " 'ounces': 172,\n",
       " 'mid-': 49,\n",
       " 'annual': 624,\n",
       " 'ore': 155,\n",
       " 'capacity': 242,\n",
       " 'sumitomo': 41,\n",
       " 'aims': 34,\n",
       " 'quick': 32,\n",
       " 'recovery': 134,\n",
       " 'merger': 790,\n",
       " 'sumi': 1,\n",
       " 'certain': 323,\n",
       " 'status': 65,\n",
       " 'profitable': 84,\n",
       " 'result': 445,\n",
       " 'heiwa': 4,\n",
       " 'sogo': 4,\n",
       " 'analysts': 941,\n",
       " 'osaka-based': 1,\n",
       " 'desposits': 1,\n",
       " 'trillion': 27,\n",
       " 'merged': 54,\n",
       " 'small': 220,\n",
       " 'struggling': 7,\n",
       " 'unrecoverable': 1,\n",
       " 'loans': 474,\n",
       " 'october': 330,\n",
       " 'link-up': 2,\n",
       " 'president': 839,\n",
       " 'koh': 1,\n",
       " 'komatsu': 11,\n",
       " 'confident': 82,\n",
       " 'his': 672,\n",
       " 'can': 607,\n",
       " 'regain': 13,\n",
       " 'position': 285,\n",
       " 'll': 39,\n",
       " 'back': 318,\n",
       " 'within': 348,\n",
       " 'three': 1366,\n",
       " 'years': 853,\n",
       " 'initially': 52,\n",
       " 'profitability': 57,\n",
       " 'efficiency': 22,\n",
       " 'vastly': 3,\n",
       " 'branch': 58,\n",
       " 'network': 103,\n",
       " 'metropolitan': 37,\n",
       " 'area': 317,\n",
       " 'relatively': 97,\n",
       " 'weak': 104,\n",
       " 'divided': 36,\n",
       " 'whether': 327,\n",
       " 'gamble': 4,\n",
       " 'paid': 304,\n",
       " 'too': 254,\n",
       " 'debts': 53,\n",
       " 'others': 116,\n",
       " 'argue': 23,\n",
       " 'effective': 406,\n",
       " 'creating': 21,\n",
       " 'comparable': 46,\n",
       " 'scratch': 1,\n",
       " 'agreed': 907,\n",
       " 'aggressive': 41,\n",
       " 'entered': 123,\n",
       " 'lucrative': 7,\n",
       " 'securities': 837,\n",
       " 'geared': 8,\n",
       " 'competition': 143,\n",
       " 'questioned': 25,\n",
       " 'wisdom': 5,\n",
       " 'moves': 141,\n",
       " 've': 75,\n",
       " 'bold': 10,\n",
       " 'everything': 19,\n",
       " 'largely': 127,\n",
       " 'hands': 69,\n",
       " 'kleinwort': 20,\n",
       " 'benson': 13,\n",
       " 'simon': 33,\n",
       " 'smithson': 8,\n",
       " 'limits': 85,\n",
       " 'placed': 76,\n",
       " 'enter': 65,\n",
       " 'investment': 951,\n",
       " 'goldman': 35,\n",
       " 'sachs': 48,\n",
       " 'limited': 202,\n",
       " 'partnership': 187,\n",
       " 'federal': 836,\n",
       " 'reserve': 496,\n",
       " 'forbidden': 1,\n",
       " 'personnel': 35,\n",
       " 'tie-up': 3,\n",
       " 'widely': 49,\n",
       " 'looked': 27,\n",
       " 'lame': 1,\n",
       " 'duck': 1,\n",
       " 'fed': 685,\n",
       " 'stricter': 7,\n",
       " 'regulations': 58,\n",
       " 'change': 428,\n",
       " 'near': 231,\n",
       " 'future': 406,\n",
       " 'things': 61,\n",
       " 'wait': 45,\n",
       " 'st': 687,\n",
       " 'century': 33,\n",
       " 'willing': 86,\n",
       " 'patient': 8,\n",
       " 'routes': 20,\n",
       " 'into': 1020,\n",
       " 'home': 232,\n",
       " 'article': 29,\n",
       " 'act': 173,\n",
       " 'version': 19,\n",
       " 'glass-steagall': 1,\n",
       " 'separates': 2,\n",
       " 'banking': 368,\n",
       " 'walls': 4,\n",
       " 'crumbling': 2,\n",
       " 'hopes': 93,\n",
       " 'deregulation': 38,\n",
       " 'create': 66,\n",
       " 'opportunities': 59,\n",
       " 'need': 342,\n",
       " 'find': 135,\n",
       " 'chances': 40,\n",
       " 'cases': 54,\n",
       " 'these': 457,\n",
       " 'related': 154,\n",
       " 'trust': 331,\n",
       " 'occur': 44,\n",
       " 'focus': 62,\n",
       " 'bond': 253,\n",
       " 'dealing': 44,\n",
       " 'strengthening': 31,\n",
       " 'meiko': 1,\n",
       " 'holds': 175,\n",
       " 'optimistic': 80,\n",
       " 'entering': 25,\n",
       " 'here': 364,\n",
       " 'swiss': 163,\n",
       " 'universal': 37,\n",
       " 'subsidiary': 629,\n",
       " 'banca': 8,\n",
       " 'del': 39,\n",
       " 'gottardo': 2,\n",
       " 'finance': 560,\n",
       " 'grant': 38,\n",
       " 'licences': 80,\n",
       " 'subsidiaries': 108,\n",
       " 'banks': 1008,\n",
       " 'soon': 219,\n",
       " 'parent': 155,\n",
       " 'less': 412,\n",
       " 'reluctant': 31,\n",
       " 'push': 80,\n",
       " 'hard': 141,\n",
       " 'don': 191,\n",
       " 'waves': 5,\n",
       " 'expect': 283,\n",
       " 'allowed': 125,\n",
       " 'like': 194,\n",
       " 'city': 221,\n",
       " 'pushing': 34,\n",
       " 'lending': 208,\n",
       " 'individuals': 30,\n",
       " 'medium': 57,\n",
       " 'businesses': 195,\n",
       " 'replace': 50,\n",
       " 'disappearing': 4,\n",
       " 'big': 104,\n",
       " 'devote': 1,\n",
       " 'lot': 91,\n",
       " 'digesting': 1,\n",
       " 'initiatives': 15,\n",
       " 'ailing': 14,\n",
       " 'strategies': 10,\n",
       " 'absorbing': 5,\n",
       " 'juggling': 1,\n",
       " 'next': 775,\n",
       " 'decade': 28,\n",
       " 'see': 339,\n",
       " 'strategy': 104,\n",
       " 'right': 221,\n",
       " 'wrong': 14,\n",
       " 'subroto': 37,\n",
       " 'supports': 42,\n",
       " 'extension': 67,\n",
       " 'mines': 174,\n",
       " 'confirmed': 97,\n",
       " 'support': 401,\n",
       " 'sixth': 29,\n",
       " 'agreement': 1550,\n",
       " 'ita': 9,\n",
       " 'necessary': 162,\n",
       " 'clarify': 9,\n",
       " 'lapse': 5,\n",
       " 'ready': 75,\n",
       " 'seventh': 11,\n",
       " 'accord': 410,\n",
       " 'believe': 188,\n",
       " 'unnecessary': 11,\n",
       " 'expire': 73,\n",
       " 'june': 688,\n",
       " 'unless': 150,\n",
       " 'two-thirds': 34,\n",
       " 'majority': 138,\n",
       " 'members': 331,\n",
       " 'vote': 128,\n",
       " 'bundesbank': 355,\n",
       " 'allocates': 6,\n",
       " 'marks': 571,\n",
       " 'tender': 749,\n",
       " 'accepted': 141,\n",
       " ...}"
      ]
     },
     "metadata": {},
     "execution_count": 39
    }
   ],
   "source": [
    "freqs"
   ]
  },
  {
   "cell_type": "markdown",
   "metadata": {},
   "source": [
    "b. Next, complete the function called \"get_top_10\" that takes in the \"freqs\" dictionary, and returns the top 10 most frequent words as a list. (5 points)"
   ]
  },
  {
   "cell_type": "code",
   "execution_count": 47,
   "metadata": {
    "nbgrader": {
     "grade": false,
     "grade_id": "cell-4aec5a37bbd4cef5",
     "locked": false,
     "schema_version": 3,
     "solution": true,
     "task": false
    }
   },
   "outputs": [
    {
     "output_type": "stream",
     "name": "stdout",
     "text": [
      "['the', 'of', 'to', 'in', 'and', 'said', 'a', 'mln', 's', 'vs']\n"
     ]
    }
   ],
   "source": [
    "importlib.reload(lab1)\n",
    "print(lab1.get_top_10(freqs))"
   ]
  },
  {
   "cell_type": "code",
   "execution_count": 48,
   "metadata": {
    "nbgrader": {
     "grade": true,
     "grade_id": "cell-76c42b84f8038afc",
     "locked": true,
     "points": 20,
     "schema_version": 3,
     "solution": false,
     "task": false
    }
   },
   "outputs": [],
   "source": [
    "### BEGIN HIDDEN TESTS\n",
    "assert lab1.get_top_10(freqs) == ['the', 'of', 'to', 'in', 'and', 'said', 'a', 'mln', 's', 'vs']\n",
    "### END HIDDEN TESTS"
   ]
  },
  {
   "cell_type": "markdown",
   "metadata": {},
   "source": [
    "c. Next, complete the function called \"get_bottom_10\" that takes in the \"freqs\" dictionary, and returns the top 10 least frequent words as a list. (5 points)"
   ]
  },
  {
   "cell_type": "code",
   "execution_count": 51,
   "metadata": {
    "nbgrader": {
     "grade": false,
     "grade_id": "cell-f7d5084d8b86ea60",
     "locked": false,
     "schema_version": 3,
     "solution": true,
     "task": false
    }
   },
   "outputs": [
    {
     "output_type": "stream",
     "name": "stdout",
     "text": [
      "['inflict', 'sheen', 'stand-off', 'avowed', 'kilolitres', 'kilowatt/hour', 'janunary/march', 'pineapples', 'hasrul', 'paian']\n"
     ]
    }
   ],
   "source": [
    "importlib.reload(lab1)\n",
    "print(lab1.get_bottom_10(freqs))"
   ]
  },
  {
   "cell_type": "code",
   "execution_count": 52,
   "metadata": {
    "nbgrader": {
     "grade": true,
     "grade_id": "cell-eedc6f45889eadd8",
     "locked": true,
     "points": 5,
     "schema_version": 3,
     "solution": false,
     "task": false
    }
   },
   "outputs": [],
   "source": [
    "### BEGIN HIDDEN TESTS\n",
    "assert lab1.get_bottom_10(freqs) == ['inflict', 'sheen', 'stand-off', 'avowed', 'kilolitres', 'kilowatt/hour', 'janunary/march', 'pineapples', 'hasrul', 'paian']\n",
    "### END HIDDEN TESTS"
   ]
  },
  {
   "cell_type": "markdown",
   "metadata": {},
   "source": [
    "d. Complete the function called \"get_percentage_singletons\" which takes in the \"freqs\" dictionary and returns a float value of the percentage of words that appear once in the corpus. (5 points)"
   ]
  },
  {
   "cell_type": "code",
   "execution_count": 53,
   "metadata": {
    "tags": [
     "outputPrepend"
    ]
   },
   "outputs": [
    {
     "output_type": "stream",
     "name": "stdout",
     "text": [
      " 2, 'cut-rate': 2, 'santi': 2, 'chaiviratana': 1, 'durian': 1, 'orchards': 2, 'chanthaburi': 1, 'digging': 1, 'canals': 1, 'revitalise': 1, 'shr/avg': 1, 'construction/development': 1, 'anti-drought': 1, 'hui': 1, 'bao': 1, 'snowfall': 1, 'macquarie': 2, 'bunzl': 1, 'koji': 2, 'kidokoro': 4, 'haruya': 2, 'uehara': 2, 'bitterly': 1, 'submissions': 1, 'disincentives': 2, 'negates': 1, 'ringside': 2, 'deepen': 2, 'understandng': 2, 'problem-plagued': 2, 'waterhouse': 2, 'massy-greene': 1, 'self-sufficency': 1, 'massy-green': 1, 'stricken': 1, 'secondly': 2, 'davos': 2, 'canada/u': 2, 'conferences': 2, 'shining': 1, 'rain-making': 2, 'kenca>': 1, 'wvz': 1, 'october-february': 2, 'prul': 1, 'unemploymnent': 1, 'second-worst': 1, 'unemployement': 1, 'export-related': 1, 'carmakers': 1, '-agency': 1, 'compensates': 1, 'whipple': 3, 'cnpf': 1, 'perigot': 2, 'homogeneous': 1, 'figaro': 1, 'isolation': 1, 'confronting': 1, 'undervalues': 1, 'damage-diplomats': 1, 'attaches': 1, 'test-fired': 3, 'anti-shipping': 3, 'unreseved': 1, 'circumstasnces': 1, 'chocolates': 2, 'bdm': 2, 'bdm>': 1, 'nondefense': 2, 'premises': 1, 'predepreciation': 1, 'threshholds': 1, 'thundershowers': 1, 'gusts': 1, 'blowingand': 1, 'flash': 1, 'lowland': 1, 'tecas': 1, 'blowing': 1, 'slick': 1, 'roadways': 1, 'deserts': 1, 'appalachians': 1, 'non-electrical': 1, 'pharmacist': 1, 'charlie': 1, 'datachecker': 1, 'alternaitcve': 1, 'carson-affiliated': 1, 'beetle': 2, 'beetles': 2, 'amber': 1, 'coloured': 1, 'females': 1, 'shopkeepers': 1, 'widepread': 1, 'forged': 3, 'eckhart': 1, 'hager': 1, 'window-dressing': 1, 'trsl>': 1, 'alloytek': 4, 'spitz': 2, 'simulation': 1, 'grandville': 1, 'subcontracts': 1, 'onwed': 2, 'gecc': 1, 'koei': 1, 'narusawa': 2, 'actp>': 1, 'mri-a>': 1, 'mccrae': 1, 'cffs>': 1, 'hagerstown': 1, 'reopend': 1, 'angelica': 1, 'agl>': 1, 'wqith': 1, 'iac': 4, 'kerin': 4, 'wheat-marketing': 2, 'wheatgrowers': 1, 'ameriana': 1, 'asbi>': 1, 'griffin': 1, 'grif>': 1, 'slowness': 2, 'respectable': 1, 'tarrif': 2, 'ex-im': 1, 'hojatoleslam': 2, 'insecure': 1, 'narrowest': 1, 'ensue': 1, 'vallen': 1, 'valn>': 1, 'draugen': 4, 'shell>': 1, 'northermost': 1, '-meter': 1, 'single-leg': 1, 'gravity-base': 1, 'subsea': 1, 'reservoir': 3, 'buoy-loading': 1, 'ddrinks': 1, 'conjecture': 1, 'practise': 1, 'claremont': 9, 'catena>': 1, 'catena': 5, 'safveans': 2, 'och': 1, 'ponsbach': 1, 'fondkommission': 1, 'tanis': 1, 'cirigliano': 1, 'evolve': 1, 'nonpublic': 2, 'cyacq>': 1, 'dei': 3, 'neomar': 1, 'soleley': 1, 'astrotech': 4, 'aix>': 1, 'pnu>': 1, 'curtice-burns': 1, 'thc>': 1, 'preway': 1, 'prew>': 1, 'moore-mccormack': 1, 'mmr>': 1, 'tregurtha': 1, 'suna': 3, 'omer': 3, 'khartoum': 4, 'abdel-shakour': 1, 'shaalan': 1, 'thriving': 1, 'grouped': 1, 'twenty-three': 1, 'snat>': 1, 'semiconductor&lt': 1, 'year-to-year': 1, 'all-year-round': 1, 'deteriorates': 1, 'add-need': 1, 'kleinert': 1, 'klrt>': 1, 'microdyme': 1, 'off-shore': 1, 'court-ordered': 1, 'bering': 1, 'eskimos': 1, 'sohio': 1, 'voiding': 1, 'gambell': 1, 'stebbins': 1, 'eskimo': 1, 'natives': 1, 'entrant': 2, 'superannuation': 1, 'haslam': 2, 'gannet': 1, 'tern': 1, 'eider': 1, 'jaap': 1, 'klootwijk': 1, 'stanlow': 1, 'iclb>': 1, 'electro-chimie': 1, 'lead-acid': 1, 'ridiculed': 1, 'taxwriter': 2, 'outrageous': 1, 'allowance--which': 1, '--would': 1, 'sleeping': 1, 'winkle': 1, 're-imposes': 1, 're-imposed': 1, 'guidepost': 1, 'nher': 1, 'renovations': 1, 'redeemd': 1, 'owen-illinois': 1, 'assaying': 2, 'trackless': 1, 'preproduction': 1, 'exaias': 1, 'lamborghini': 6, 'automobili': 1, 'bologna': 1, 'mimran': 1, 'alfieri': 1, 'maserati': 1, 'zverev': 2, 'deployment': 3, 'suliman': 1, 'gram': 1, 'drch>': 1, 'ppti>': 1, 'national>': 1, 'sirrine': 4, 'da>': 1, 'consolidations': 1, 'crss': 1, 'productvitiy': 1, 'cfs': 2, 'continental>': 1, 'technitrol': 2, 'tnl>': 2, 'cmac': 3, 'unalloyed': 3, 'rugeroni': 3, 'corrected-hecla': 1, 'minging': 1, 'gnc>': 1, 'stockdraw': 1, 'b/d': 1, 'stockbuild': 1, 'sufferer': 1, 'collapses': 1, 'voters': 2, 'cross-rate': 1, 'kiuchi': 2, 'koichi': 3, 'tsukihara': 3, 'stimulates': 1, 'plenum': 1, 'plen>': 1, 'honeybee': 1, 'hbe>': 1, 'scms>': 1, 'psr>': 1, 'bad-debt': 3, 'debs': 1, 'succesfully': 1, 'recently-introduced': 1, 'pbpf': 1, 'sgs-thomson': 1, 'stet': 2, 'thomson-csf': 1, 'tcsf': 1, 'sgs': 1, 'microelettronica': 1, 'semiconducteurs>': 1, 'enserch': 1, 'ens>': 1, 'dickson': 1, 'sanborn': 1, 'mfc>': 1, 'staqrted': 1, 'microsize': 1, 'msiz>': 1, 'marcove': 2, 'marvoce': 1, 'showroom': 1, 'carlisle': 1, 'tajon': 1, 'trc>': 1, 'centerior': 1, 'cx>': 1, 'sfcp>': 1, 'satisified': 1, 'cit': 1, 'group/business': 1, 'onc': 1, 'sigr>': 1, 'chip-export': 1, 'grey-market': 1, 'partially-oriented': 1, 'filament': 1, 'poy': 3, 'kingsport': 3, 'holsten': 1, 'kodel': 1, 'enrolling': 2, 'acitivity': 1, 'co-op': 7, 'demise': 3, 'adm/growmark': 1, 'mulligan': 6, 'agriindustries': 1, 'goldkist': 1, 'midstates': 1, 'observors': 1, 'banding': 1, 'cohesiveness': 2, 'hanes': 2, 'crunch': 1, 'co-ops': 2, 'commercials': 1, 'multi-million-dollar': 1, 'folks': 1, 'gun-shy': 1, 'wayside': 1, 'cavanaugh': 2, 'patronage': 3, 'teens': 1, 'confers': 1, 'beginners': 1, 'hodge-podge': 1, 'non-related': 1, 'universe': 1, 'displays': 1, 'welding': 1, 'hokanson': 2, 'lazr>': 1, 'gluch': 1, 'designates': 1, 'friedkin': 1, 'fukuhara': 1, 'watnick': 1, 'ira': 2, 'thurman': 1, 'sasser': 1, 'clinger': 1, 'milner': 1, 'com>': 1, 'val': 4, 'surfrace': 1, 'downdip': 1, 'manageable': 1, 'calumet': 2, 'cali>': 1, 'salvino': 2, 'hydrocal': 1, 'princeton': 2, 'nimit': 1, 'nonthapanthawat': 2, 'five-and-a-half': 1, 'member-country': 1, 'handicaps': 1, 'earnest': 1, 'untouchable': 1, 'market-stabilizing': 1, 'augment': 1, 'petroeleos': 1, 'bolivares': 1, 'anwi>': 1, 'mott': 1, 'msm>': 1, 'mnln': 1, 'yearago': 2, 'alx>': 2, 'haynes': 4, 'nu>': 1, 'overheads': 2, 'siemen': 1, 'ire>': 1, 'wid>': 1, 'soviet-bloc': 1, 'democratic-controlled': 1, 'bonker': 1, 'highly-sensitive': 1, 'stna>': 1, 'fisons': 1, 'fisn': 1, 'horticulture': 1, 'optima': 2, 'credit-card': 2, 'pei-yuan': 1, 'chia': 2, 'two-to-one': 1, 'braddock': 3, 'crunched': 1, 'noz>': 1, 'ptco>': 1, 'texun': 1, 'bqr>': 1, 'louis-based': 1, 'hayes': 3, 'qchr>': 2, 'dioxin-related': 4, 'numerex': 1, 'nmrx>': 1, 'nic': 1, '-series': 1, 'lorain': 1, 'unionist': 1, 'bywater': 4, 'lightweights': 1, 'antidumping': 1, 'industory': 1, 'midivest': 4, 'renovated': 1, 'beechcraft': 1, 'airborne': 1, 'subdivisions': 1, 'staunching': 1, 'sway': 1, 'fore': 1, 'watered-down': 1, 'bourdain': 2, 'soria': 1, 'politicized': 1, 'kicked': 1, 'nucleic': 1, 'noverco': 5, 'acklands': 1, 'peso/dollar': 3, 'free-floating': 1, 'arithmetic': 1, 'bltfx>': 1, 'bbusx>': 1, 'bulhx>': 1, 'nashua': 3, 'nsh>': 1, 'alrn>': 1, 'energies': 1, 'cgld': 1, 'vfsc>': 1, 'ksz': 9, 'gart>': 1, 'comtec': 3, 'rt': 1, 'ri': 2, 'cos>': 1, 'certian': 1, 'two-page': 1, 'sterns': 1, 'solters': 2, 'bankcard': 1, 'wd-': 1, 'wdfc>': 1, 'closed-minister': 1, 'svc': 1, 'nipsco': 2, 'n-': 1, 'germain': 1, 'inappropriateness': 1, 'intitiate': 1, 'formalized': 1, 'unsurpassed': 1, 'sixty': 1, 'payment-in-kind': 3, 'higher-producing': 1, 'kirschner': 3, 'kmdc>': 1, 'orthopedic': 1, 'implant': 1, 'baucus': 1, 'mnc': 1, 'chacin': 2, 'pablo': 1, 'reimpell': 2, 'gottschalks': 1, 'got>': 1, 'slaid': 1, 'cmic>': 1, 'eight-mln-dlr': 1, 'argo': 1, 'arizona-based': 1, 'flashpoint': 1, 'provincially': 1, 'axworthy': 3, 'harrassment': 1, 'bumbled': 1, 'trintoc': 3, 'methanol': 3, 'snamprogetti': 2, 'fortin': 1, 'smoothly': 1, 'lue': 1, 'twin-island': 1, 'tin-export': 1, 'siaahan': 2, 'crink': 1, 'poison-pill': 1, 'fixes': 1, 'oxm>': 1, 'digigraphic': 1, 'byou>': 1, 'definitie': 1, 'tgp>': 1, 'magnetics': 2, 'gulton': 1, 'mikron': 1, 'mikr>': 1, 'canty': 2, 'austn': 1, 'dealerships': 7, 'multi-store': 1, 'cole': 4, 'freeform': 1, 'arvid': 2, 'jauppi': 7, 'car--a': 1, 'chevy': 1, 'studebaker': 1, 'overseas--germany': 1, 'beatle--began': 1, 'rebellion': 1, 'dealership': 1, 'sales--a': 1, '--and': 1, 'keithley': 1, 'experimenting': 1, 'chevrolet': 3, 'publicly-owned': 1, 'dealers--dealer': 1, 'chpn>': 1, 'troon': 6, 'lien': 1, 'contemplates': 2, 'settelment': 1, 'repoted': 1, 'vstr>': 1, 'ca': 1, 'wpma': 1, 'balnces': 1, 'encompass': 2, 'tragets': 2, 's/japan': 2, 'rate-sumita': 2, 'dior': 1, 'mercedes': 1, 'benz': 1, 'hargreaves': 3, 'reorganisations': 1, 'creatively': 1, 'xiamen': 7, 'xib': 2, 'shuxun': 1, 'hongshan': 1, 'luso': 1, 'panin': 3, 'unequal': 1, 'nisshin': 1, 'autoparts': 3, 'kokusan': 1, 'kinzoku': 1, 'kkk': 3, 'nsan': 1, 'master-cast': 1, 'technology>': 1, 'nikkeiren': 4, 'clues': 1, 'resettle': 2, 'nhan': 2, 'dong': 1, 'highlands': 1, 'resettled': 1, 'deltas': 1, 'morondava': 2, 'geophysical': 2, 'idrocarburi>': 1, 'omnis': 2, 'ratsimandresy': 1, 'ceremenony': 1, 'finanziara': 1, 'non-recurrent': 1, 'bat': 19, 'floatation': 1, 'cwe': 3, 'stamps': 1, 'undertakes': 2, 'similiar': 2, 'cambiste': 1, 'treasurers': 2, 'non-arab': 1, 'nucleus': 1, 'jeddah-based': 1, 'taker': 2, 'saturdays': 1, 'sundays': 1, 'mooted': 1, 'rubbing': 1, 'inmont': 1, 'freeport': 1, 'refitted': 1, 'geismar': 1, 'amines': 1, 'polytetrahydrofuran': 1, 'tetrahydrofuran': 1, 'bicc': 2, '-b': 2, 'dlruntied': 1, 'tito': 1, 'ayal': 1, 'ayala': 2, 'nueva': 1, 'teapa': 1, 'salina': 5, 'lazaro': 1, 'sheehy': 5, 'argos': 1, 'saks': 1, 'avenue': 1, 'teape': 2, 'williamson': 1, 'dunbar': 2, 'batus': 1, 'grovewood': 1, 'ming-yi': 1, 'babk': 2, 'dltl': 1, 'three-gram-per-tonne': 1, '-gram-a-tonne': 1, 'fata': 1, 'fossil-fired': 1, 'zhao': 3, 'ziyang': 1, 'commemorating': 1, 'silver-copper': 1, 'stcl': 1, 'balancers': 1, 'cattle/calf': 1, 'write-back': 1, 'profit-participation': 1, 'interefere': 1, 'dispelled': 1, 'encumbrance': 1, 'inception': 1, 'polyphenylene': 3, 'industrietechnik': 1, 'pohang': 2, 'non-corrosive': 1, 'supervise': 1, 'ladles': 1, 'phases': 1, 'result-trade': 1, 'overshadowed': 1, 'al-bukhoosh': 5, 'anti-aircraft': 2, 'wellheads': 1, 'housed': 1, 'accomodations': 1, 'pads': 1, 'recapitalised': 1, 'unrealised': 2, 'heatley': 2, 'forthe': 1, 'pid': 1, 'imputed': 1, 'bougainville': 1, 'buva': 1, 'iron-ore': 1, 'argyle': 1, 'loath': 1, 'ottl': 1, 'ocl': 1, 'missstatements': 1, 'unmanageable': 1, 'hiap': 2, 'weritedown': 1, 'johnstown/consolidated': 1, 'jct>': 1, 'duriron': 2, 'duri>': 1, 'rowley-scher': 3, 'rsch>': 1, 'reprographics': 1, 'repro': 2, 'reprographic': 1, 'washington/baltimore': 1, 'companmy': 1, 'cayacq': 2, 'trans-shipped': 2, 'anti-communist': 1, 'centralled': 1, 'instruction': 1, 'levers': 1, 'kbh>': 1, 'fereidun': 1, 'fesharaki': 5, 'honolulu': 1, 'ecuador-level': 1, 'condensates': 1, 'little-explored': 1, 'sedimentary': 1, 'mcfarland': 5, 'mcfe>': 1, 'petrominerals': 5, 'ptro>': 1, 'canadian-based': 1, 'festivities': 2, 'paloma': 1, 'decaffeinated': 1, 'ovwv>': 1, 'ndta>': 1, 'vti>': 1, 'marcxh': 2, 'oakridge': 1, 'gccc>': 1, 'avatar': 1, 'avtr>': 1, 'elfp': 1, 'operatorships': 3, 'troll': 1, 'smoerbukk': 1, 'tgt': 1, 'deminex>': 1, 'moere': 1, 'barents': 2, 'sagp': 1, 'petb': 1, 'fina': 1, 'ahc': 1, 'pcep>': 1, 'amnount': 1, 'time-sharing': 2, 'packet-switching': 2, 'specially-created': 2, 'hrzb>': 1, 'ackerly': 1, 'myriad': 1, 'esmah': 1, 'arabic': 1, 'al-sharq': 1, 'al-awsat': 1, 'observing': 1, 'reviving': 1, 'obstinate': 1, 'crossland': 10, 'crld>acquires': 1, 'loand': 1, 'executived': 1, 'heagerty': 1, 'fsla': 1, 'bradenton': 1, 'vicorp': 1, 'vres>': 1, 'type-setting': 1, 'ald': 1, 'on-going': 1, 'athuorised': 1, 'pios>': 1, 'cmte': 2, 'fabri-centers': 1, 'fca>': 1, 'tseng': 6, 'tsng>': 2, 'electrochemical': 1, 'pke>': 1, 'committess': 1, 'schipol': 1, 'tpsi>': 2, 'midland-ross': 1, 'georgian': 1, 'avalanches': 1, 'thaw': 2, 'maintenenace': 1, 'kootenay': 1, 'costomers': 1, 'ssiaa>': 1, 'ccpt>': 1, 'lifi>': 2, 'quartger': 1, 'bfs>': 1, 'anxiety': 1, 'maytag': 4, 'myg>': 1, 'krumm': 1, 'refrigerator': 1, 'galesburg': 1, 'ccab>': 1, 'mdr': 1, 'wone>': 1, 'qwtr': 1, 'shore-to-sea': 2, 'overran': 1, 'sensation': 1, 'westerners': 1, 'tct': 1, 'electrocuted': 1, 'breawater': 1, 'commonwealty': 1, 'crtyz>': 1, 'ctp>': 1, 'presidnt': 1, 'ara': 1, 'sunstar': 1, 'sunf>': 1, 'seax>': 1, 'enetrprises': 1, 'yogurt-related': 1, 'glp>': 1, 'norex': 2, 'triweb': 2, 'nov/feb': 1, 'plummeted': 1, 'disenchanted': 1, 'rallying': 1, 'rost>': 1, 'lennox': 5, 'springer': 1, 'cotting': 1, 'corrected-lilly': 1, 'donations': 1, 'fas': 3, 'rausen': 1, 'ibca>': 1, 'biac>': 1, 'free-trading': 1, 'idly': 2, 'mtp>': 1, 'stocker': 1, 'tmi>': 1, 'rsi': 1, 'rsic>': 1, 'rcm': 1, 'rcmt>': 1, 'synalloy': 2, 'syo>': 1, 'blackman': 1, 'uhler': 1, 'intex': 1, 'c-i-l': 4, 'mississauga': 1, 'ontario-based': 1, 'foreclosing': 1, 'criteria--increase': 1, 'spurring': 1, 'loan-price': 1, 'defaults': 3, 'minimums': 1, 'energy/security': 1, 'fill-rate': 1, 'oil-supply': 1, 'term-loan': 1, 'retentions': 1, 'delaval': 2, 'imd>': 1, 'non-tax': 1, 'messidor': 6, 'beleggingen': 1, 'beleggineng': 1, 'hendrik': 1, 'bokma': 1, 'conversative': 1, 'lupberger': 4, 'msu': 1, 'self-destruct': 2, 'crystalline': 1, 'self-interest': 1, 'pair': 1, 'slaine': 1, 'elbe': 2, 'trave': 2, 'christa': 2, 'proceeded': 1, 'tow': 1, 'hershey': 1, 'hso>': 1, 'eg': 1, 'egg>': 1, 'bankworkers': 1, 'crisis-laden': 1, 'teachers': 2, 'fleischer': 1, 'strapped': 1, 'pfl': 2, 'january-february': 1, 'asta': 2, 'installment': 1, 'briarcliff': 1, 'condominium': 1, 'aiki>': 1, 'kitchens': 1, 'paves': 1, 'marckesano': 1, 'engineering&lt': 1, 'lummus': 3, 'crest': 3, 'downsizings': 1, 'dentists': 1, 'pnre>': 1, 'qchm>': 1, 'outlaw': 1, 'imprisoned': 1, 'offence': 1, 'lafarege': 1, 'laf>': 1, 'sentuc': 1, 'porxpan': 1, 'sector-specific': 1, 'usr>': 1, 'giggletree': 1, 'domestics': 1, 'dries': 1, 'appointees': 2, 'earthquake-stricken': 1, 'ruputured': 1, 'nsp>': 1, 'sua>': 1, 'phrases': 1, 'restricts': 2, 'non-canadians': 1, 'reads': 1, 'signatories': 1, 'widdrington': 3, 'insterest': 1, 'wgl>': 1, 'rleated': 1, 'prn>': 1, 'exasperating': 1, 'trans-shipment': 1, 'wsc>': 1, 'bamberger': 6, 'ampal-american': 1, 'ais': 1, 'formulated': 1, 'snc': 5, 'arsenals': 1, 'preoducts': 1, 'acivities': 1, 'auergesellschaft': 1, 'wholly-': 1, 'angl>': 1, 'boart-msa': 1, 'assn': 2, 'chemfix': 3, 'cfix>': 2, 'elex': 2, 'electrostatic': 1, 'precipitators': 1, 'flae>': 1, 'nike': 1, 'nike>': 1, 'znat>': 1, 'redkin': 1, 'rdkn>': 1, 'secrets': 1, 'need-to-know': 1, 'market-sensitive': 1, 'impede': 1, 'shouls': 1, 'predator': 1, 'unkonwn': 1, 'pannzoil': 1, 'nonsubsidiary': 1, 'porcine': 1, 'somatotropin': 1, 'pst': 2, 'bio-synthetic': 1, 'ibs': 1, 'painstaking': 1, 'steel-exporting': 1, 'non-flat': 1, 'nordson': 2, 'ndsn>': 1, 'shlh': 1, 'kadoorie': 6, 'evergo': 12, 'evgh': 1, 'liang': 3, 'lau': 4, 'redevelopment': 1, 'lai': 6, 'coincidence': 1, 'countermoves': 1, 'styles': 1, 'ealier': 1, 'marlborough': 1, 'waterfront': 1, 'ifsl>': 1, 'lear-siegler': 2, 'billion-dlr-leveraged': 1, 'remotely': 1, 'piloted': 1, 'astronics': 1, 'avionic': 1, 'romek': 1, 'elyria': 1, 'advsiors': 1, 'handgun': 1, 'starcraft': 1, 'recreational': 1, 'piper': 1, 'viking': 1, 'brush': 1, 'brushes': 1, 'brooms': 1, 'tikes': 3, 'cor>': 1, 'ior>': 1, 'resales': 2, 'alot': 1, 'supporter': 1, 'undivided': 1, 'prefabricated': 1, 'quinta': 1, 'lqm>': 1, 'foreign-based': 2, 'tokepa': 1, 'contigent': 1, 'disproves': 1, 'derogation': 1, 'sourthern': 1, 'sfsp': 3, 'end-to-end': 1, 'preseving': 1, 'independece': 1, 'kanasa': 1, 'willingnes': 1, 'kcsi': 1, 'cyril': 1, 'fidelilty': 1, 'materialy': 1, 'hartley': 2, 'hostage': 1, 'varity&lt': 1, 'walther': 1, 'legended': 2, 'metrobanc': 3, 'mtbc>': 1, 'pzl': 1, 'bluebell-altamont': 1, 'gv': 1, 'gvmi>': 1, 'tradition': 1, 'miga': 1, 'investigative': 1, 'ers': 1, 'manchester': 1, 'trafford': 1, 'friedman': 1, 'frd>': 1, 'ashton-tate': 1, 'tate>': 1, 'ciots>': 1, 'trust/': 1, 'co-operate': 2, 'inferences': 2, 'co-ordination': 2, 'j-curve': 1, 'six-week-old': 1, 'sww': 2, 'evansville': 1, 'baltimore/': 1, 'norf': 1, '/phil': 1, 'amarillo/': 1, 'lou': 2, 'portland/': 1, 'brly': 1, 'soyb': 1, 'evnsvlle': 1, 'cinci': 1, 'mpls': 1, 'balt/nor/': 1, 'kc': 1, 'amarlo/': 1, 'lubbck': 1, 'port/': 1, 'psc': 2, 'inseperable': 1, 're-negotiate': 1, 'punte': 1, 'quan': 1, 'doi': 1, 'meinhardt': 7, 'fork': 1, 'depreciating': 2, 'adminstration': 2, 'chinese-built': 2, 'srd': 1, 'dyes': 1, 'sheeting': 1, 'roussel': 1, 'uclaf': 1, 'rucf': 1, 'lowest-earning': 1, 'orissa': 1, 'lucs': 2, 'halfyear': 1, 'revolver': 1, 'co-lead': 1, 'indexes': 2, 'holocaust': 2, 'tomorrow/next': 1, 'spot/next': 1, 'beatty': 2, 'nyse>': 1, 'saloman': 1, 'service>': 1, 'uis': 1, 'generale>': 1, 'oilmeal/veg': 1, 'oilcake': 2, 'karlheinz': 1, 'kaske': 7, 'kraftwerk': 1, 'krpg': 1, 'cold-rolled': 1, 'ludolf': 1, 'georg': 1, 'wartenberg': 4, 'watchfulness': 1, 'miyazaki': 1, 'tadahiko': 1, 'nashimoto': 1, 'cuurent': 2, 'jaafar': 2, 'hand-to-mouth': 1, 'jnauary': 2, 'stablised': 1, 'departnment': 1, 'iwc': 20, 'transcapital': 2, 'ken': 1, 'wikeley': 1, 'critic': 1, 'grrl>': 1, 'sidro': 1, 'colc>': 1, 'resown': 1, 'endof': 1, 'unreservedly': 2, 'wroblewski': 4, 'aberrational': 2, 'flattening': 2, 'import-intensive': 2, 'evaporated': 2, 'prudency': 1, 'needing': 1, 'distinguish': 1, 'exchequers': 1, 'moneyline': 1, 'taxed': 1, 'regimes': 1, 'witte': 6, 'waver': 2, 'strohmeyer': 2, 'pinola': 15, 'medium-to': 1, 'nonperformind': 1, 'disquieting': 1, 'discomforting': 1, 'ayer': 2, 'unidare': 3, 'hnz': 1, 'whack': 1, 'trizec': 1, 'bse>': 1, 'transponders': 3, 'equitorial': 2, 'inabiliuty': 1, 'agreed-upon': 1, 'lessors': 2, 'oblitations': 1, 'cross-default': 1, 'conteol': 1, 'transponder': 2, 'leasing>': 1, 'tinto': 4, 'lithium': 1, 'entrepot': 1, 'bes>': 1, 'prtax': 1, 'ey>': 1, 'nelr>': 1, 'revoking': 1, 'expediture': 1, 'manufactureres': 1, 'marplan': 1, 'neck': 2, 'enthusiastically': 1, 'indifferent': 1, 'eonomists': 1, 'dented': 1, 'inflation-reducing': 1, 'huh': 2, 'sun-yong': 1, 'carolian': 4, 'hewlett-packard': 1, 'refrained': 1, 'one-ounce': 1, 'novatronics': 3, 'veeco': 1, 'vee>': 1, 'becomleted': 1, 'military-specification': 1, 'avionics': 1, 'gevirtz': 3, 'non-earning': 1, 'publicise': 1, 'non-exective': 1, 'cravath': 1, 'swaine': 1, 'agls>': 1, 'hocking': 1, 'arh>': 1, 'macneal-schwendler': 2, 'mns>': 2, 'phlcorp': 2, 'phx>': 1, 'baldwin-united': 1, 'kwh': 2, 'gle>': 1, 'slt>': 1, 'healthmate': 7, 'hmte>': 3, 'nbcc>': 1, 'harsco': 2, 'hsc>': 2, 'pre-publication': 1, 'four-lock': 1, 'daylight': 1, 'co-ordinating': 1, 'z-seven': 2, 'sub-cabinet-level': 1, 'antagonising': 1, 'halve': 1, 'coruna-based': 1, '-tonnes-per-year': 1, 'tarragona': 1, 'petronor': 1, 'bilbao': 1, 'cepsa': 1, 'algeciras': 1, 'stocks/u': 2, 'shines': 2, 'wstna>': 1, 'effecitive': 1, 'firstg': 1, 'video>': 1, 'safras': 1, 'mercado': 1, 'committments': 1, 'gramm': 3, 'overvaluing': 1, 'unquantifiable': 1, 'krestmark': 4, 'lcb': 2, 'joists': 1, 'rack': 1, 'cti': 5, 'cstk>': 1, 'condemn': 2, 'egregious': 1, 'milastar': 1, 'mila>': 1, 'restructurings': 1, 'equadorian': 1, 'optimitic': 1, 'nonaccural': 1, 'stepanian': 1, 'misreading': 1, 'articulation': 1, 'condemnation': 2, 'weill': 1, 'withstood': 1, 'operationally': 1, 'sorted': 1, 'rebutts': 1, 'rebutted': 1, 'baur': 3, 'handelsblatt': 1, 'switchboard': 1, 'bauer': 2, 'profit-sharing': 4, 'recognizes': 1, 'fulfills': 1, 'lacr>': 1, 'lab>': 1, 'fmdc>': 1, 'laventhol': 1, 'horwath': 1, 'fluoroscan': 1, 'supersedes': 1, 'basius': 1, 'showcase': 2, 'hde': 2, 'hinrichs': 2, 'triennial': 1, 'accommodating': 1, 'ig': 4, 'metall': 4, 'metalworkers': 1, 'gesamtmetall': 1, '-hour-week': 1, 'seven-week': 1, 'low-key': 1, 'humiliation': 1, 'obstinacy': 1, 'squarely': 1, 'steinkuehler': 1, 'zahnradfabrik': 1, 'passau': 1, 'messerschmitt-boelkow-blohm': 1, 'politically-inhibited': 1, 'nineth': 1, 'citybank': 2, 'rejuvenation': 1, 'franchising': 1, 'communciate': 1, 'genencor': 2, 'multimillion': 1, 'genecor': 1, 'additivies': 1, 'krn>': 1}\n"
     ]
    }
   ],
   "source": [
    "print(freqs)"
   ]
  },
  {
   "cell_type": "code",
   "execution_count": 54,
   "metadata": {
    "nbgrader": {
     "grade": false,
     "grade_id": "cell-a165768ae088ea2c",
     "locked": false,
     "schema_version": 3,
     "solution": true,
     "task": false
    }
   },
   "outputs": [
    {
     "output_type": "stream",
     "name": "stdout",
     "text": [
      "40.480636029633196\n"
     ]
    }
   ],
   "source": [
    "importlib.reload(lab1)\n",
    "print(lab1.get_percentage_singletons(freqs))"
   ]
  },
  {
   "cell_type": "code",
   "execution_count": 55,
   "metadata": {
    "nbgrader": {
     "grade": true,
     "grade_id": "cell-9e57695b3b6a675d",
     "locked": true,
     "points": 5,
     "schema_version": 3,
     "solution": false,
     "task": false
    }
   },
   "outputs": [],
   "source": [
    "### BEGIN HIDDEN TESTS\n",
    "assert (lab1.get_percentage_singletons(freqs)>40.4)\n",
    "assert (lab1.get_percentage_singletons(freqs)<40.6)\n",
    "### END HIDDEN TESTS"
   ]
  },
  {
   "cell_type": "markdown",
   "metadata": {},
   "source": [
    "e. The next two blocks show examples of how stemming and lemmatization are done. "
   ]
  },
  {
   "cell_type": "code",
   "execution_count": 56,
   "metadata": {},
   "outputs": [
    {
     "output_type": "stream",
     "name": "stdout",
     "text": [
      "cat\ntroubl\ntroubl\ntroubl\n"
     ]
    }
   ],
   "source": [
    "from nltk.stem import PorterStemmer\n",
    "porter = PorterStemmer()\n",
    "print(porter.stem(\"cats\"))\n",
    "print(porter.stem(\"trouble\"))\n",
    "print(porter.stem(\"troubling\"))\n",
    "print(porter.stem(\"troubled\"))"
   ]
  },
  {
   "cell_type": "code",
   "execution_count": 58,
   "metadata": {
    "scrolled": true
   },
   "outputs": [
    {
     "output_type": "stream",
     "name": "stdout",
     "text": [
      "He                  He                  \nwas                 be                  \nrunning             run                 \nand                 and                 \neating              eat                 \nat                  at                  \nsame                same                \ntime.               time.               \nHe                  He                  \nhas                 have                \nbad                 bad                 \nhabit               habit               \nof                  of                  \nswimming            swim                \nafter               after               \nplaying             play                \nlong                long                \nhours               hours               \nin                  in                  \nthe                 the                 \nSun.                Sun.                \n"
     ]
    }
   ],
   "source": [
    "from nltk.stem import WordNetLemmatizer\n",
    "wordnet_lemmatizer = WordNetLemmatizer()\n",
    "sentence = \"He was running and eating at same time. He has bad habit of swimming after playing long hours in the Sun.\"\n",
    "for word in sentence.split():\n",
    "    print (\"{0:20}{1:20}\".format(word,wordnet_lemmatizer.lemmatize(word, pos=\"v\")))"
   ]
  },
  {
   "cell_type": "markdown",
   "metadata": {},
   "source": [
    "f. Repeat steps b,c,d by doing stemming. You should modify the get_freqs_stemming function. (5 points)"
   ]
  },
  {
   "cell_type": "code",
   "execution_count": 61,
   "metadata": {
    "nbgrader": {
     "grade": false,
     "grade_id": "cell-9e9343b8ca4c2880",
     "locked": false,
     "schema_version": 3,
     "solution": true,
     "task": false
    }
   },
   "outputs": [
    {
     "output_type": "stream",
     "name": "stdout",
     "text": [
      "['the', 'of', 'to', 'in', 'and', 'said', 'a', 'mln', 'it', 's']\n['inflict', 'sheen', 'stand-off', 'avow', 'kilolitr', 'kilowatt/hour', 'janunary/march', 'hasrul', 'paian', 'sawn']\n42.06299945690123\n"
     ]
    }
   ],
   "source": [
    "importlib.reload(lab1)\n",
    "freqs_stemming = lab1.get_freqs_stemming(raw_corpus, puncts)\n",
    "print(lab1.get_top_10(freqs_stemming))\n",
    "print(lab1.get_bottom_10(freqs_stemming))\n",
    "print(lab1.get_percentage_singletons(freqs_stemming))"
   ]
  },
  {
   "cell_type": "code",
   "execution_count": 62,
   "metadata": {
    "nbgrader": {
     "grade": true,
     "grade_id": "cell-d58f04c1eef6cf43",
     "locked": true,
     "points": 5,
     "schema_version": 3,
     "solution": false,
     "task": false
    }
   },
   "outputs": [],
   "source": [
    "### BEGIN HIDDEN TESTS\n",
    "assert lab1.get_top_10(freqs_stemming) == ['the', 'of', 'to', 'in', 'and', 'said', 'a', 'mln', 'it', 's']\n",
    "assert lab1.get_bottom_10(freqs_stemming) == ['inflict', 'sheen', 'stand-off', 'avow', 'kilolitr', 'kilowatt/hour', 'janunary/march', 'hasrul', 'paian', 'sawn']\n",
    "assert (lab1.get_percentage_singletons(freqs_stemming)>41.9)\n",
    "assert (lab1.get_percentage_singletons(freqs_stemming)<42.2)\n",
    "### END HIDDEN TESTS"
   ]
  },
  {
   "cell_type": "markdown",
   "metadata": {},
   "source": [
    "g. Repeat steps b,c,d by doing lemmatization. You should modify the get_freqs_lemmatized function.  (5 points)"
   ]
  },
  {
   "cell_type": "code",
   "execution_count": 63,
   "metadata": {
    "nbgrader": {
     "grade": false,
     "grade_id": "cell-f364b1fc291d7e74",
     "locked": false,
     "schema_version": 3,
     "solution": true,
     "task": false
    },
    "scrolled": true
   },
   "outputs": [
    {
     "output_type": "stream",
     "name": "stdout",
     "text": [
      "['the', 'of', 'to', 'in', 'be', 'say', 'and', 'a', 'mln', 's']\n['inflict', 'sheen', 'stand-off', 'avow', 'kilolitres', 'kilowatt/hour', 'janunary/march', 'pineapples', 'hasrul', 'paian']\n42.03981813171673\n"
     ]
    }
   ],
   "source": [
    "importlib.reload(lab1)\n",
    "freqs_lemmatized = lab1.get_freqs_lemmatized(raw_corpus, puncts)\n",
    "print(lab1.get_top_10(freqs_lemmatized))\n",
    "print(lab1.get_bottom_10(freqs_lemmatized))\n",
    "print(lab1.get_percentage_singletons(freqs_lemmatized))"
   ]
  },
  {
   "cell_type": "code",
   "execution_count": 64,
   "metadata": {
    "nbgrader": {
     "grade": true,
     "grade_id": "cell-cad80b5f0643a89f",
     "locked": true,
     "points": 5,
     "schema_version": 3,
     "solution": false,
     "task": false
    }
   },
   "outputs": [],
   "source": [
    "### BEGIN HIDDEN TESTS\n",
    "assert lab1.get_top_10(freqs_lemmatized) == ['the', 'of', 'to', 'in', 'be', 'say', 'and', 'a', 'mln', 's']\n",
    "assert lab1.get_bottom_10(freqs_lemmatized) == ['inflict', 'sheen', 'stand-off', 'avow', 'kilolitres', 'kilowatt/hour', 'janunary/march', 'pineapples', 'hasrul', 'paian']\n",
    "assert (lab1.get_percentage_singletons(freqs_lemmatized)>41.9)\n",
    "assert (lab1.get_percentage_singletons(freqs_lemmatized)<42.2)\n",
    "### END HIDDEN TESTS"
   ]
  },
  {
   "cell_type": "markdown",
   "metadata": {},
   "source": [
    "h. What is the vocabulary size of this corpus (i.e., raw_corpus)? How about the vocabulary size after doing stemming and lemmatization respectively? Note that we lowercase all words in the corpus and replace all punctuations and digits with empty spaces. Add your code to the size_of_raw_corpus, size_of_stemmed_raw_corpus and size_of_lemmatized_raw_corpus functions (5 points)"
   ]
  },
  {
   "cell_type": "code",
   "execution_count": 66,
   "metadata": {
    "nbgrader": {
     "grade": false,
     "grade_id": "cell-60cc741a45f09b60",
     "locked": false,
     "schema_version": 3,
     "solution": true,
     "task": false
    }
   },
   "outputs": [
    {
     "output_type": "stream",
     "name": "stdout",
     "text": [
      "33206\n25778\n29032\n"
     ]
    }
   ],
   "source": [
    "importlib.reload(lab1)\n",
    "print(lab1.size_of_raw_corpus(freqs))  # Vocalbulary size of raw_corpus. \n",
    "print(lab1.size_of_stemmed_raw_corpus(freqs_stemming))  # Vocalbulary size of raw_corpus after stemming. \n",
    "print(lab1.size_of_lemmatized_raw_corpus(freqs_lemmatized))  # Vocalbulary size of raw_corpus after lemmatization. "
   ]
  },
  {
   "cell_type": "code",
   "execution_count": 67,
   "metadata": {
    "nbgrader": {
     "grade": true,
     "grade_id": "cell-c3277367acf9daa0",
     "locked": true,
     "points": 5,
     "schema_version": 3,
     "solution": false,
     "task": false
    }
   },
   "outputs": [],
   "source": [
    "### BEGIN HIDDEN TESTS\n",
    "assert lab1.size_of_raw_corpus(freqs) == 33206\n",
    "assert lab1.size_of_stemmed_raw_corpus(freqs_stemming) == 25778\n",
    "assert lab1.size_of_lemmatized_raw_corpus(freqs_lemmatized) == 29032\n",
    "### END HIDDEN TESTS"
   ]
  },
  {
   "cell_type": "markdown",
   "metadata": {},
   "source": [
    "i. Different documents, even of equal length are usually composed of different vocabularies. We will compare two documents of equal length, and see the percentage of unseen vocabulary between them. \n",
    "\n",
    "More specifically, we have document \"a\" to be the first 100 words of raw_corpus and document \"b\" to be the last 100 words of raw_corpus. How many percent of words in document \"a\" does NOT appear in document \"b\"? What if we change the document size to be 1000 (first 1000 words of raw_corpus v.s. last 1000 words of raw_corpus), 10000, 100000, 500000? \n",
    "What do you observe with the document size increasing? You may find set(a)-set(b) is a useful function. Modify the percentage_of_unseen_vocab function (5 points)"
   ]
  },
  {
   "cell_type": "code",
   "execution_count": 68,
   "metadata": {
    "nbgrader": {
     "grade": true,
     "grade_id": "cell-3e819a96835cdc2b",
     "locked": false,
     "points": 5,
     "schema_version": 3,
     "solution": true,
     "task": false
    }
   },
   "outputs": [
    {
     "output_type": "stream",
     "name": "stdout",
     "text": [
      "0.79\n",
      "0.464\n",
      "0.2182\n",
      "0.10077\n",
      "0.052344\n"
     ]
    }
   ],
   "source": [
    "importlib.reload(lab1)\n",
    "length = [100,1000,10000,100000,500000]\n",
    "for length_i in length:\n",
    "    a = raw_corpus.split()[:length_i]\n",
    "    b = raw_corpus.split()[-length_i:]\n",
    "    print(lab1.percentage_of_unseen_vocab(a, b, length_i))\n",
    "    \n",
    "\n",
    "### Write down your observation here: (Ungraded) "
   ]
  },
  {
   "cell_type": "code",
   "execution_count": 69,
   "metadata": {
    "nbgrader": {
     "grade": true,
     "grade_id": "cell-3e391821c0e4a4d1",
     "locked": true,
     "points": 5,
     "schema_version": 3,
     "solution": false,
     "task": false
    }
   },
   "outputs": [],
   "source": [
    "### BEGIN HIDDEN TESTS\n",
    "assert lab1.percentage_of_unseen_vocab(raw_corpus.split()[:100], raw_corpus.split()[-100:], 100) == 0.79\n",
    "assert lab1.percentage_of_unseen_vocab(raw_corpus.split()[:1000], raw_corpus.split()[-1000:], 1000) == 0.464\n",
    "assert lab1.percentage_of_unseen_vocab(raw_corpus.split()[:10000], raw_corpus.split()[-10000:], 10000) == 0.2182\n",
    "assert lab1.percentage_of_unseen_vocab(raw_corpus.split()[:100000], raw_corpus.split()[-100000:], 100000) == 0.10077\n",
    "assert lab1.percentage_of_unseen_vocab(raw_corpus.split()[:500000], raw_corpus.split()[-500000:], 500000) == 0.052344\n",
    "\n",
    "### END HIDDEN TESTS"
   ]
  },
  {
   "cell_type": "markdown",
   "metadata": {},
   "source": [
    "## Exercise 3: Pareto principle"
   ]
  },
  {
   "cell_type": "markdown",
   "metadata": {},
   "source": [
    "The popular Pareto principle (also known as the 80/20 rule), states that for many events, roughly 80% of the effects come from 20% of the causes. This includes observations that found that the distribution of global income is very uneven, with the richest 20% of the world's population controlling 82.7% of the world's income. This seems to be the case with words as well. \n",
    "\n",
    "In this exercise, we observe something similar to the Pareto principle in words. By calculating what fraction of the most frequent words accounts for 80% of the total words in the corpus, you will see that a very small number of frequent words account for a large number of words. \n",
    "\n",
    "**Total points: 15 points**\n",
    "\n",
    "a. Complete the function called \"frac_80_perc\" which takes in \"freqs\" as an input, and returns a float representing the fraction of words that account for 80% of the tokens in the corpus (the expected answer is around 3% for Reuters corpus -- a News corpus). Note: you should be considering the words in decreasing order of frequency until reaching 80% of word (frequency) count.  (15 points)"
   ]
  },
  {
   "cell_type": "code",
   "execution_count": 71,
   "metadata": {
    "nbgrader": {
     "grade": false,
     "grade_id": "cell-7d532348cdd5379a",
     "locked": false,
     "schema_version": 3,
     "solution": true,
     "task": false
    }
   },
   "outputs": [
    {
     "output_type": "stream",
     "name": "stdout",
     "text": [
      "0.033307233632476056\n"
     ]
    }
   ],
   "source": [
    "importlib.reload(lab1)\n",
    "print(lab1.frac_80_perc(freqs))"
   ]
  },
  {
   "cell_type": "code",
   "execution_count": 72,
   "metadata": {
    "nbgrader": {
     "grade": true,
     "grade_id": "cell-d39b1cdba3cd5662",
     "locked": true,
     "points": 15,
     "schema_version": 3,
     "solution": false,
     "task": false
    }
   },
   "outputs": [],
   "source": [
    "### BEGIN HIDDEN TESTS\n",
    "assert lab1.frac_80_perc(freqs) > 0.033\n",
    "assert lab1.frac_80_perc(freqs) < 0.034\n",
    "### END HIDDEN TESTS"
   ]
  },
  {
   "cell_type": "markdown",
   "metadata": {},
   "source": [
    "This relation between the frequency and rank for words is called Zipf's law. It states that given a large sample of words used, the frequency of any word is inversely proportional to its rank in the frequency table. So word number n has a frequency proportional to 1/n. In order to see this, sort the words in a decreasing order of their frequencies and do a rank-frequency plot, with the words (indicated by their ranks) indicated along the x-axis and their frequencies in the y-axis.\n",
    "\n",
    "b. Accordingly, we will plot the frequency of words when ranked in decreasing order. Complete the function \"plot_zipf\" that takes in \"freqs\" as an input, and generates a plot using matplotlib. In this plot, the x-axis represents the rank of words in decreasing order of frequency, and the y-axis represents the frequency of the corresponding word. (Ungraded)"
   ]
  },
  {
   "cell_type": "code",
   "execution_count": 73,
   "metadata": {
    "nbgrader": {
     "grade": true,
     "grade_id": "cell-42ff4546787c495e",
     "locked": false,
     "points": 5,
     "schema_version": 3,
     "solution": true,
     "task": false
    }
   },
   "outputs": [],
   "source": [
    "import matplotlib.pyplot as plt"
   ]
  },
  {
   "cell_type": "code",
   "execution_count": 76,
   "metadata": {},
   "outputs": [
    {
     "output_type": "display_data",
     "data": {
      "text/plain": "<Figure size 432x288 with 1 Axes>",
      "image/svg+xml": "<?xml version=\"1.0\" encoding=\"utf-8\" standalone=\"no\"?>\n<!DOCTYPE svg PUBLIC \"-//W3C//DTD SVG 1.1//EN\"\n  \"http://www.w3.org/Graphics/SVG/1.1/DTD/svg11.dtd\">\n<!-- Created with matplotlib (https://matplotlib.org/) -->\n<svg height=\"262.19625pt\" version=\"1.1\" viewBox=\"0 0 401.690625 262.19625\" width=\"401.690625pt\" xmlns=\"http://www.w3.org/2000/svg\" xmlns:xlink=\"http://www.w3.org/1999/xlink\">\n <metadata>\n  <rdf:RDF xmlns:cc=\"http://creativecommons.org/ns#\" xmlns:dc=\"http://purl.org/dc/elements/1.1/\" xmlns:rdf=\"http://www.w3.org/1999/02/22-rdf-syntax-ns#\">\n   <cc:Work>\n    <dc:type rdf:resource=\"http://purl.org/dc/dcmitype/StillImage\"/>\n    <dc:date>2021-04-14T19:01:08.769822</dc:date>\n    <dc:format>image/svg+xml</dc:format>\n    <dc:creator>\n     <cc:Agent>\n      <dc:title>Matplotlib v3.3.3, https://matplotlib.org/</dc:title>\n     </cc:Agent>\n    </dc:creator>\n   </cc:Work>\n  </rdf:RDF>\n </metadata>\n <defs>\n  <style type=\"text/css\">*{stroke-linecap:butt;stroke-linejoin:round;}</style>\n </defs>\n <g id=\"figure_1\">\n  <g id=\"patch_1\">\n   <path d=\"M 0 262.19625 \nL 401.690625 262.19625 \nL 401.690625 0 \nL 0 0 \nz\n\" style=\"fill:none;\"/>\n  </g>\n  <g id=\"axes_1\">\n   <g id=\"patch_2\">\n    <path d=\"M 59.690625 224.64 \nL 394.490625 224.64 \nL 394.490625 7.2 \nL 59.690625 7.2 \nz\n\" style=\"fill:#ffffff;\"/>\n   </g>\n   <g id=\"matplotlib.axis_1\">\n    <g id=\"xtick_1\">\n     <g id=\"line2d_1\">\n      <defs>\n       <path d=\"M 0 0 \nL 0 3.5 \n\" id=\"m4304bf6039\" style=\"stroke:#000000;stroke-width:0.8;\"/>\n      </defs>\n      <g>\n       <use style=\"stroke:#000000;stroke-width:0.8;\" x=\"74.899641\" xlink:href=\"#m4304bf6039\" y=\"224.64\"/>\n      </g>\n     </g>\n     <g id=\"text_1\">\n      <!-- 0 -->\n      <g transform=\"translate(71.718391 239.238437)scale(0.1 -0.1)\">\n       <defs>\n        <path d=\"M 31.78125 66.40625 \nQ 24.171875 66.40625 20.328125 58.90625 \nQ 16.5 51.421875 16.5 36.375 \nQ 16.5 21.390625 20.328125 13.890625 \nQ 24.171875 6.390625 31.78125 6.390625 \nQ 39.453125 6.390625 43.28125 13.890625 \nQ 47.125 21.390625 47.125 36.375 \nQ 47.125 51.421875 43.28125 58.90625 \nQ 39.453125 66.40625 31.78125 66.40625 \nz\nM 31.78125 74.21875 \nQ 44.046875 74.21875 50.515625 64.515625 \nQ 56.984375 54.828125 56.984375 36.375 \nQ 56.984375 17.96875 50.515625 8.265625 \nQ 44.046875 -1.421875 31.78125 -1.421875 \nQ 19.53125 -1.421875 13.0625 8.265625 \nQ 6.59375 17.96875 6.59375 36.375 \nQ 6.59375 54.828125 13.0625 64.515625 \nQ 19.53125 74.21875 31.78125 74.21875 \nz\n\" id=\"DejaVuSans-48\"/>\n       </defs>\n       <use xlink:href=\"#DejaVuSans-48\"/>\n      </g>\n     </g>\n    </g>\n    <g id=\"xtick_2\">\n     <g id=\"line2d_2\">\n      <g>\n       <use style=\"stroke:#000000;stroke-width:0.8;\" x=\"120.730635\" xlink:href=\"#m4304bf6039\" y=\"224.64\"/>\n      </g>\n     </g>\n     <g id=\"text_2\">\n      <!-- 5000 -->\n      <g transform=\"translate(108.005635 239.238437)scale(0.1 -0.1)\">\n       <defs>\n        <path d=\"M 10.796875 72.90625 \nL 49.515625 72.90625 \nL 49.515625 64.59375 \nL 19.828125 64.59375 \nL 19.828125 46.734375 \nQ 21.96875 47.46875 24.109375 47.828125 \nQ 26.265625 48.1875 28.421875 48.1875 \nQ 40.625 48.1875 47.75 41.5 \nQ 54.890625 34.8125 54.890625 23.390625 \nQ 54.890625 11.625 47.5625 5.09375 \nQ 40.234375 -1.421875 26.90625 -1.421875 \nQ 22.3125 -1.421875 17.546875 -0.640625 \nQ 12.796875 0.140625 7.71875 1.703125 \nL 7.71875 11.625 \nQ 12.109375 9.234375 16.796875 8.0625 \nQ 21.484375 6.890625 26.703125 6.890625 \nQ 35.15625 6.890625 40.078125 11.328125 \nQ 45.015625 15.765625 45.015625 23.390625 \nQ 45.015625 31 40.078125 35.4375 \nQ 35.15625 39.890625 26.703125 39.890625 \nQ 22.75 39.890625 18.8125 39.015625 \nQ 14.890625 38.140625 10.796875 36.28125 \nz\n\" id=\"DejaVuSans-53\"/>\n       </defs>\n       <use xlink:href=\"#DejaVuSans-53\"/>\n       <use x=\"63.623047\" xlink:href=\"#DejaVuSans-48\"/>\n       <use x=\"127.246094\" xlink:href=\"#DejaVuSans-48\"/>\n       <use x=\"190.869141\" xlink:href=\"#DejaVuSans-48\"/>\n      </g>\n     </g>\n    </g>\n    <g id=\"xtick_3\">\n     <g id=\"line2d_3\">\n      <g>\n       <use style=\"stroke:#000000;stroke-width:0.8;\" x=\"166.56163\" xlink:href=\"#m4304bf6039\" y=\"224.64\"/>\n      </g>\n     </g>\n     <g id=\"text_3\">\n      <!-- 10000 -->\n      <g transform=\"translate(150.65538 239.238437)scale(0.1 -0.1)\">\n       <defs>\n        <path d=\"M 12.40625 8.296875 \nL 28.515625 8.296875 \nL 28.515625 63.921875 \nL 10.984375 60.40625 \nL 10.984375 69.390625 \nL 28.421875 72.90625 \nL 38.28125 72.90625 \nL 38.28125 8.296875 \nL 54.390625 8.296875 \nL 54.390625 0 \nL 12.40625 0 \nz\n\" id=\"DejaVuSans-49\"/>\n       </defs>\n       <use xlink:href=\"#DejaVuSans-49\"/>\n       <use x=\"63.623047\" xlink:href=\"#DejaVuSans-48\"/>\n       <use x=\"127.246094\" xlink:href=\"#DejaVuSans-48\"/>\n       <use x=\"190.869141\" xlink:href=\"#DejaVuSans-48\"/>\n       <use x=\"254.492188\" xlink:href=\"#DejaVuSans-48\"/>\n      </g>\n     </g>\n    </g>\n    <g id=\"xtick_4\">\n     <g id=\"line2d_4\">\n      <g>\n       <use style=\"stroke:#000000;stroke-width:0.8;\" x=\"212.392625\" xlink:href=\"#m4304bf6039\" y=\"224.64\"/>\n      </g>\n     </g>\n     <g id=\"text_4\">\n      <!-- 15000 -->\n      <g transform=\"translate(196.486375 239.238437)scale(0.1 -0.1)\">\n       <use xlink:href=\"#DejaVuSans-49\"/>\n       <use x=\"63.623047\" xlink:href=\"#DejaVuSans-53\"/>\n       <use x=\"127.246094\" xlink:href=\"#DejaVuSans-48\"/>\n       <use x=\"190.869141\" xlink:href=\"#DejaVuSans-48\"/>\n       <use x=\"254.492188\" xlink:href=\"#DejaVuSans-48\"/>\n      </g>\n     </g>\n    </g>\n    <g id=\"xtick_5\">\n     <g id=\"line2d_5\">\n      <g>\n       <use style=\"stroke:#000000;stroke-width:0.8;\" x=\"258.22362\" xlink:href=\"#m4304bf6039\" y=\"224.64\"/>\n      </g>\n     </g>\n     <g id=\"text_5\">\n      <!-- 20000 -->\n      <g transform=\"translate(242.31737 239.238437)scale(0.1 -0.1)\">\n       <defs>\n        <path d=\"M 19.1875 8.296875 \nL 53.609375 8.296875 \nL 53.609375 0 \nL 7.328125 0 \nL 7.328125 8.296875 \nQ 12.9375 14.109375 22.625 23.890625 \nQ 32.328125 33.6875 34.8125 36.53125 \nQ 39.546875 41.84375 41.421875 45.53125 \nQ 43.3125 49.21875 43.3125 52.78125 \nQ 43.3125 58.59375 39.234375 62.25 \nQ 35.15625 65.921875 28.609375 65.921875 \nQ 23.96875 65.921875 18.8125 64.3125 \nQ 13.671875 62.703125 7.8125 59.421875 \nL 7.8125 69.390625 \nQ 13.765625 71.78125 18.9375 73 \nQ 24.125 74.21875 28.421875 74.21875 \nQ 39.75 74.21875 46.484375 68.546875 \nQ 53.21875 62.890625 53.21875 53.421875 \nQ 53.21875 48.921875 51.53125 44.890625 \nQ 49.859375 40.875 45.40625 35.40625 \nQ 44.1875 33.984375 37.640625 27.21875 \nQ 31.109375 20.453125 19.1875 8.296875 \nz\n\" id=\"DejaVuSans-50\"/>\n       </defs>\n       <use xlink:href=\"#DejaVuSans-50\"/>\n       <use x=\"63.623047\" xlink:href=\"#DejaVuSans-48\"/>\n       <use x=\"127.246094\" xlink:href=\"#DejaVuSans-48\"/>\n       <use x=\"190.869141\" xlink:href=\"#DejaVuSans-48\"/>\n       <use x=\"254.492188\" xlink:href=\"#DejaVuSans-48\"/>\n      </g>\n     </g>\n    </g>\n    <g id=\"xtick_6\">\n     <g id=\"line2d_6\">\n      <g>\n       <use style=\"stroke:#000000;stroke-width:0.8;\" x=\"304.054615\" xlink:href=\"#m4304bf6039\" y=\"224.64\"/>\n      </g>\n     </g>\n     <g id=\"text_6\">\n      <!-- 25000 -->\n      <g transform=\"translate(288.148365 239.238437)scale(0.1 -0.1)\">\n       <use xlink:href=\"#DejaVuSans-50\"/>\n       <use x=\"63.623047\" xlink:href=\"#DejaVuSans-53\"/>\n       <use x=\"127.246094\" xlink:href=\"#DejaVuSans-48\"/>\n       <use x=\"190.869141\" xlink:href=\"#DejaVuSans-48\"/>\n       <use x=\"254.492188\" xlink:href=\"#DejaVuSans-48\"/>\n      </g>\n     </g>\n    </g>\n    <g id=\"xtick_7\">\n     <g id=\"line2d_7\">\n      <g>\n       <use style=\"stroke:#000000;stroke-width:0.8;\" x=\"349.885609\" xlink:href=\"#m4304bf6039\" y=\"224.64\"/>\n      </g>\n     </g>\n     <g id=\"text_7\">\n      <!-- 30000 -->\n      <g transform=\"translate(333.979359 239.238437)scale(0.1 -0.1)\">\n       <defs>\n        <path d=\"M 40.578125 39.3125 \nQ 47.65625 37.796875 51.625 33 \nQ 55.609375 28.21875 55.609375 21.1875 \nQ 55.609375 10.40625 48.1875 4.484375 \nQ 40.765625 -1.421875 27.09375 -1.421875 \nQ 22.515625 -1.421875 17.65625 -0.515625 \nQ 12.796875 0.390625 7.625 2.203125 \nL 7.625 11.71875 \nQ 11.71875 9.328125 16.59375 8.109375 \nQ 21.484375 6.890625 26.8125 6.890625 \nQ 36.078125 6.890625 40.9375 10.546875 \nQ 45.796875 14.203125 45.796875 21.1875 \nQ 45.796875 27.640625 41.28125 31.265625 \nQ 36.765625 34.90625 28.71875 34.90625 \nL 20.21875 34.90625 \nL 20.21875 43.015625 \nL 29.109375 43.015625 \nQ 36.375 43.015625 40.234375 45.921875 \nQ 44.09375 48.828125 44.09375 54.296875 \nQ 44.09375 59.90625 40.109375 62.90625 \nQ 36.140625 65.921875 28.71875 65.921875 \nQ 24.65625 65.921875 20.015625 65.03125 \nQ 15.375 64.15625 9.8125 62.3125 \nL 9.8125 71.09375 \nQ 15.4375 72.65625 20.34375 73.4375 \nQ 25.25 74.21875 29.59375 74.21875 \nQ 40.828125 74.21875 47.359375 69.109375 \nQ 53.90625 64.015625 53.90625 55.328125 \nQ 53.90625 49.265625 50.4375 45.09375 \nQ 46.96875 40.921875 40.578125 39.3125 \nz\n\" id=\"DejaVuSans-51\"/>\n       </defs>\n       <use xlink:href=\"#DejaVuSans-51\"/>\n       <use x=\"63.623047\" xlink:href=\"#DejaVuSans-48\"/>\n       <use x=\"127.246094\" xlink:href=\"#DejaVuSans-48\"/>\n       <use x=\"190.869141\" xlink:href=\"#DejaVuSans-48\"/>\n       <use x=\"254.492188\" xlink:href=\"#DejaVuSans-48\"/>\n      </g>\n     </g>\n    </g>\n    <g id=\"text_8\">\n     <!-- rank of words -->\n     <g transform=\"translate(193.014063 252.916562)scale(0.1 -0.1)\">\n      <defs>\n       <path d=\"M 41.109375 46.296875 \nQ 39.59375 47.171875 37.8125 47.578125 \nQ 36.03125 48 33.890625 48 \nQ 26.265625 48 22.1875 43.046875 \nQ 18.109375 38.09375 18.109375 28.8125 \nL 18.109375 0 \nL 9.078125 0 \nL 9.078125 54.6875 \nL 18.109375 54.6875 \nL 18.109375 46.1875 \nQ 20.953125 51.171875 25.484375 53.578125 \nQ 30.03125 56 36.53125 56 \nQ 37.453125 56 38.578125 55.875 \nQ 39.703125 55.765625 41.0625 55.515625 \nz\n\" id=\"DejaVuSans-114\"/>\n       <path d=\"M 34.28125 27.484375 \nQ 23.390625 27.484375 19.1875 25 \nQ 14.984375 22.515625 14.984375 16.5 \nQ 14.984375 11.71875 18.140625 8.90625 \nQ 21.296875 6.109375 26.703125 6.109375 \nQ 34.1875 6.109375 38.703125 11.40625 \nQ 43.21875 16.703125 43.21875 25.484375 \nL 43.21875 27.484375 \nz\nM 52.203125 31.203125 \nL 52.203125 0 \nL 43.21875 0 \nL 43.21875 8.296875 \nQ 40.140625 3.328125 35.546875 0.953125 \nQ 30.953125 -1.421875 24.3125 -1.421875 \nQ 15.921875 -1.421875 10.953125 3.296875 \nQ 6 8.015625 6 15.921875 \nQ 6 25.140625 12.171875 29.828125 \nQ 18.359375 34.515625 30.609375 34.515625 \nL 43.21875 34.515625 \nL 43.21875 35.40625 \nQ 43.21875 41.609375 39.140625 45 \nQ 35.0625 48.390625 27.6875 48.390625 \nQ 23 48.390625 18.546875 47.265625 \nQ 14.109375 46.140625 10.015625 43.890625 \nL 10.015625 52.203125 \nQ 14.9375 54.109375 19.578125 55.046875 \nQ 24.21875 56 28.609375 56 \nQ 40.484375 56 46.34375 49.84375 \nQ 52.203125 43.703125 52.203125 31.203125 \nz\n\" id=\"DejaVuSans-97\"/>\n       <path d=\"M 54.890625 33.015625 \nL 54.890625 0 \nL 45.90625 0 \nL 45.90625 32.71875 \nQ 45.90625 40.484375 42.875 44.328125 \nQ 39.84375 48.1875 33.796875 48.1875 \nQ 26.515625 48.1875 22.3125 43.546875 \nQ 18.109375 38.921875 18.109375 30.90625 \nL 18.109375 0 \nL 9.078125 0 \nL 9.078125 54.6875 \nL 18.109375 54.6875 \nL 18.109375 46.1875 \nQ 21.34375 51.125 25.703125 53.5625 \nQ 30.078125 56 35.796875 56 \nQ 45.21875 56 50.046875 50.171875 \nQ 54.890625 44.34375 54.890625 33.015625 \nz\n\" id=\"DejaVuSans-110\"/>\n       <path d=\"M 9.078125 75.984375 \nL 18.109375 75.984375 \nL 18.109375 31.109375 \nL 44.921875 54.6875 \nL 56.390625 54.6875 \nL 27.390625 29.109375 \nL 57.625 0 \nL 45.90625 0 \nL 18.109375 26.703125 \nL 18.109375 0 \nL 9.078125 0 \nz\n\" id=\"DejaVuSans-107\"/>\n       <path id=\"DejaVuSans-32\"/>\n       <path d=\"M 30.609375 48.390625 \nQ 23.390625 48.390625 19.1875 42.75 \nQ 14.984375 37.109375 14.984375 27.296875 \nQ 14.984375 17.484375 19.15625 11.84375 \nQ 23.34375 6.203125 30.609375 6.203125 \nQ 37.796875 6.203125 41.984375 11.859375 \nQ 46.1875 17.53125 46.1875 27.296875 \nQ 46.1875 37.015625 41.984375 42.703125 \nQ 37.796875 48.390625 30.609375 48.390625 \nz\nM 30.609375 56 \nQ 42.328125 56 49.015625 48.375 \nQ 55.71875 40.765625 55.71875 27.296875 \nQ 55.71875 13.875 49.015625 6.21875 \nQ 42.328125 -1.421875 30.609375 -1.421875 \nQ 18.84375 -1.421875 12.171875 6.21875 \nQ 5.515625 13.875 5.515625 27.296875 \nQ 5.515625 40.765625 12.171875 48.375 \nQ 18.84375 56 30.609375 56 \nz\n\" id=\"DejaVuSans-111\"/>\n       <path d=\"M 37.109375 75.984375 \nL 37.109375 68.5 \nL 28.515625 68.5 \nQ 23.6875 68.5 21.796875 66.546875 \nQ 19.921875 64.59375 19.921875 59.515625 \nL 19.921875 54.6875 \nL 34.71875 54.6875 \nL 34.71875 47.703125 \nL 19.921875 47.703125 \nL 19.921875 0 \nL 10.890625 0 \nL 10.890625 47.703125 \nL 2.296875 47.703125 \nL 2.296875 54.6875 \nL 10.890625 54.6875 \nL 10.890625 58.5 \nQ 10.890625 67.625 15.140625 71.796875 \nQ 19.390625 75.984375 28.609375 75.984375 \nz\n\" id=\"DejaVuSans-102\"/>\n       <path d=\"M 4.203125 54.6875 \nL 13.1875 54.6875 \nL 24.421875 12.015625 \nL 35.59375 54.6875 \nL 46.1875 54.6875 \nL 57.421875 12.015625 \nL 68.609375 54.6875 \nL 77.59375 54.6875 \nL 63.28125 0 \nL 52.6875 0 \nL 40.921875 44.828125 \nL 29.109375 0 \nL 18.5 0 \nz\n\" id=\"DejaVuSans-119\"/>\n       <path d=\"M 45.40625 46.390625 \nL 45.40625 75.984375 \nL 54.390625 75.984375 \nL 54.390625 0 \nL 45.40625 0 \nL 45.40625 8.203125 \nQ 42.578125 3.328125 38.25 0.953125 \nQ 33.9375 -1.421875 27.875 -1.421875 \nQ 17.96875 -1.421875 11.734375 6.484375 \nQ 5.515625 14.40625 5.515625 27.296875 \nQ 5.515625 40.1875 11.734375 48.09375 \nQ 17.96875 56 27.875 56 \nQ 33.9375 56 38.25 53.625 \nQ 42.578125 51.265625 45.40625 46.390625 \nz\nM 14.796875 27.296875 \nQ 14.796875 17.390625 18.875 11.75 \nQ 22.953125 6.109375 30.078125 6.109375 \nQ 37.203125 6.109375 41.296875 11.75 \nQ 45.40625 17.390625 45.40625 27.296875 \nQ 45.40625 37.203125 41.296875 42.84375 \nQ 37.203125 48.484375 30.078125 48.484375 \nQ 22.953125 48.484375 18.875 42.84375 \nQ 14.796875 37.203125 14.796875 27.296875 \nz\n\" id=\"DejaVuSans-100\"/>\n       <path d=\"M 44.28125 53.078125 \nL 44.28125 44.578125 \nQ 40.484375 46.53125 36.375 47.5 \nQ 32.28125 48.484375 27.875 48.484375 \nQ 21.1875 48.484375 17.84375 46.4375 \nQ 14.5 44.390625 14.5 40.28125 \nQ 14.5 37.15625 16.890625 35.375 \nQ 19.28125 33.59375 26.515625 31.984375 \nL 29.59375 31.296875 \nQ 39.15625 29.25 43.1875 25.515625 \nQ 47.21875 21.78125 47.21875 15.09375 \nQ 47.21875 7.46875 41.1875 3.015625 \nQ 35.15625 -1.421875 24.609375 -1.421875 \nQ 20.21875 -1.421875 15.453125 -0.5625 \nQ 10.6875 0.296875 5.421875 2 \nL 5.421875 11.28125 \nQ 10.40625 8.6875 15.234375 7.390625 \nQ 20.0625 6.109375 24.8125 6.109375 \nQ 31.15625 6.109375 34.5625 8.28125 \nQ 37.984375 10.453125 37.984375 14.40625 \nQ 37.984375 18.0625 35.515625 20.015625 \nQ 33.0625 21.96875 24.703125 23.78125 \nL 21.578125 24.515625 \nQ 13.234375 26.265625 9.515625 29.90625 \nQ 5.8125 33.546875 5.8125 39.890625 \nQ 5.8125 47.609375 11.28125 51.796875 \nQ 16.75 56 26.8125 56 \nQ 31.78125 56 36.171875 55.265625 \nQ 40.578125 54.546875 44.28125 53.078125 \nz\n\" id=\"DejaVuSans-115\"/>\n      </defs>\n      <use xlink:href=\"#DejaVuSans-114\"/>\n      <use x=\"41.113281\" xlink:href=\"#DejaVuSans-97\"/>\n      <use x=\"102.392578\" xlink:href=\"#DejaVuSans-110\"/>\n      <use x=\"165.771484\" xlink:href=\"#DejaVuSans-107\"/>\n      <use x=\"223.681641\" xlink:href=\"#DejaVuSans-32\"/>\n      <use x=\"255.46875\" xlink:href=\"#DejaVuSans-111\"/>\n      <use x=\"316.650391\" xlink:href=\"#DejaVuSans-102\"/>\n      <use x=\"351.855469\" xlink:href=\"#DejaVuSans-32\"/>\n      <use x=\"383.642578\" xlink:href=\"#DejaVuSans-119\"/>\n      <use x=\"465.429688\" xlink:href=\"#DejaVuSans-111\"/>\n      <use x=\"526.611328\" xlink:href=\"#DejaVuSans-114\"/>\n      <use x=\"565.974609\" xlink:href=\"#DejaVuSans-100\"/>\n      <use x=\"629.451172\" xlink:href=\"#DejaVuSans-115\"/>\n     </g>\n    </g>\n   </g>\n   <g id=\"matplotlib.axis_2\">\n    <g id=\"ytick_1\">\n     <g id=\"line2d_8\">\n      <defs>\n       <path d=\"M 0 0 \nL -3.5 0 \n\" id=\"m72ee01af71\" style=\"stroke:#000000;stroke-width:0.8;\"/>\n      </defs>\n      <g>\n       <use style=\"stroke:#000000;stroke-width:0.8;\" x=\"59.690625\" xlink:href=\"#m72ee01af71\" y=\"214.759218\"/>\n      </g>\n     </g>\n     <g id=\"text_9\">\n      <!-- 0 -->\n      <g transform=\"translate(46.328125 218.558437)scale(0.1 -0.1)\">\n       <use xlink:href=\"#DejaVuSans-48\"/>\n      </g>\n     </g>\n    </g>\n    <g id=\"ytick_2\">\n     <g id=\"line2d_9\">\n      <g>\n       <use style=\"stroke:#000000;stroke-width:0.8;\" x=\"59.690625\" xlink:href=\"#m72ee01af71\" y=\"186.212359\"/>\n      </g>\n     </g>\n     <g id=\"text_10\">\n      <!-- 10000 -->\n      <g transform=\"translate(20.878125 190.011578)scale(0.1 -0.1)\">\n       <use xlink:href=\"#DejaVuSans-49\"/>\n       <use x=\"63.623047\" xlink:href=\"#DejaVuSans-48\"/>\n       <use x=\"127.246094\" xlink:href=\"#DejaVuSans-48\"/>\n       <use x=\"190.869141\" xlink:href=\"#DejaVuSans-48\"/>\n       <use x=\"254.492188\" xlink:href=\"#DejaVuSans-48\"/>\n      </g>\n     </g>\n    </g>\n    <g id=\"ytick_3\">\n     <g id=\"line2d_10\">\n      <g>\n       <use style=\"stroke:#000000;stroke-width:0.8;\" x=\"59.690625\" xlink:href=\"#m72ee01af71\" y=\"157.6655\"/>\n      </g>\n     </g>\n     <g id=\"text_11\">\n      <!-- 20000 -->\n      <g transform=\"translate(20.878125 161.464718)scale(0.1 -0.1)\">\n       <use xlink:href=\"#DejaVuSans-50\"/>\n       <use x=\"63.623047\" xlink:href=\"#DejaVuSans-48\"/>\n       <use x=\"127.246094\" xlink:href=\"#DejaVuSans-48\"/>\n       <use x=\"190.869141\" xlink:href=\"#DejaVuSans-48\"/>\n       <use x=\"254.492188\" xlink:href=\"#DejaVuSans-48\"/>\n      </g>\n     </g>\n    </g>\n    <g id=\"ytick_4\">\n     <g id=\"line2d_11\">\n      <g>\n       <use style=\"stroke:#000000;stroke-width:0.8;\" x=\"59.690625\" xlink:href=\"#m72ee01af71\" y=\"129.11864\"/>\n      </g>\n     </g>\n     <g id=\"text_12\">\n      <!-- 30000 -->\n      <g transform=\"translate(20.878125 132.917859)scale(0.1 -0.1)\">\n       <use xlink:href=\"#DejaVuSans-51\"/>\n       <use x=\"63.623047\" xlink:href=\"#DejaVuSans-48\"/>\n       <use x=\"127.246094\" xlink:href=\"#DejaVuSans-48\"/>\n       <use x=\"190.869141\" xlink:href=\"#DejaVuSans-48\"/>\n       <use x=\"254.492188\" xlink:href=\"#DejaVuSans-48\"/>\n      </g>\n     </g>\n    </g>\n    <g id=\"ytick_5\">\n     <g id=\"line2d_12\">\n      <g>\n       <use style=\"stroke:#000000;stroke-width:0.8;\" x=\"59.690625\" xlink:href=\"#m72ee01af71\" y=\"100.571781\"/>\n      </g>\n     </g>\n     <g id=\"text_13\">\n      <!-- 40000 -->\n      <g transform=\"translate(20.878125 104.371)scale(0.1 -0.1)\">\n       <defs>\n        <path d=\"M 37.796875 64.3125 \nL 12.890625 25.390625 \nL 37.796875 25.390625 \nz\nM 35.203125 72.90625 \nL 47.609375 72.90625 \nL 47.609375 25.390625 \nL 58.015625 25.390625 \nL 58.015625 17.1875 \nL 47.609375 17.1875 \nL 47.609375 0 \nL 37.796875 0 \nL 37.796875 17.1875 \nL 4.890625 17.1875 \nL 4.890625 26.703125 \nz\n\" id=\"DejaVuSans-52\"/>\n       </defs>\n       <use xlink:href=\"#DejaVuSans-52\"/>\n       <use x=\"63.623047\" xlink:href=\"#DejaVuSans-48\"/>\n       <use x=\"127.246094\" xlink:href=\"#DejaVuSans-48\"/>\n       <use x=\"190.869141\" xlink:href=\"#DejaVuSans-48\"/>\n       <use x=\"254.492188\" xlink:href=\"#DejaVuSans-48\"/>\n      </g>\n     </g>\n    </g>\n    <g id=\"ytick_6\">\n     <g id=\"line2d_13\">\n      <g>\n       <use style=\"stroke:#000000;stroke-width:0.8;\" x=\"59.690625\" xlink:href=\"#m72ee01af71\" y=\"72.024922\"/>\n      </g>\n     </g>\n     <g id=\"text_14\">\n      <!-- 50000 -->\n      <g transform=\"translate(20.878125 75.824141)scale(0.1 -0.1)\">\n       <use xlink:href=\"#DejaVuSans-53\"/>\n       <use x=\"63.623047\" xlink:href=\"#DejaVuSans-48\"/>\n       <use x=\"127.246094\" xlink:href=\"#DejaVuSans-48\"/>\n       <use x=\"190.869141\" xlink:href=\"#DejaVuSans-48\"/>\n       <use x=\"254.492188\" xlink:href=\"#DejaVuSans-48\"/>\n      </g>\n     </g>\n    </g>\n    <g id=\"ytick_7\">\n     <g id=\"line2d_14\">\n      <g>\n       <use style=\"stroke:#000000;stroke-width:0.8;\" x=\"59.690625\" xlink:href=\"#m72ee01af71\" y=\"43.478062\"/>\n      </g>\n     </g>\n     <g id=\"text_15\">\n      <!-- 60000 -->\n      <g transform=\"translate(20.878125 47.277281)scale(0.1 -0.1)\">\n       <defs>\n        <path d=\"M 33.015625 40.375 \nQ 26.375 40.375 22.484375 35.828125 \nQ 18.609375 31.296875 18.609375 23.390625 \nQ 18.609375 15.53125 22.484375 10.953125 \nQ 26.375 6.390625 33.015625 6.390625 \nQ 39.65625 6.390625 43.53125 10.953125 \nQ 47.40625 15.53125 47.40625 23.390625 \nQ 47.40625 31.296875 43.53125 35.828125 \nQ 39.65625 40.375 33.015625 40.375 \nz\nM 52.59375 71.296875 \nL 52.59375 62.3125 \nQ 48.875 64.0625 45.09375 64.984375 \nQ 41.3125 65.921875 37.59375 65.921875 \nQ 27.828125 65.921875 22.671875 59.328125 \nQ 17.53125 52.734375 16.796875 39.40625 \nQ 19.671875 43.65625 24.015625 45.921875 \nQ 28.375 48.1875 33.59375 48.1875 \nQ 44.578125 48.1875 50.953125 41.515625 \nQ 57.328125 34.859375 57.328125 23.390625 \nQ 57.328125 12.15625 50.6875 5.359375 \nQ 44.046875 -1.421875 33.015625 -1.421875 \nQ 20.359375 -1.421875 13.671875 8.265625 \nQ 6.984375 17.96875 6.984375 36.375 \nQ 6.984375 53.65625 15.1875 63.9375 \nQ 23.390625 74.21875 37.203125 74.21875 \nQ 40.921875 74.21875 44.703125 73.484375 \nQ 48.484375 72.75 52.59375 71.296875 \nz\n\" id=\"DejaVuSans-54\"/>\n       </defs>\n       <use xlink:href=\"#DejaVuSans-54\"/>\n       <use x=\"63.623047\" xlink:href=\"#DejaVuSans-48\"/>\n       <use x=\"127.246094\" xlink:href=\"#DejaVuSans-48\"/>\n       <use x=\"190.869141\" xlink:href=\"#DejaVuSans-48\"/>\n       <use x=\"254.492188\" xlink:href=\"#DejaVuSans-48\"/>\n      </g>\n     </g>\n    </g>\n    <g id=\"ytick_8\">\n     <g id=\"line2d_15\">\n      <g>\n       <use style=\"stroke:#000000;stroke-width:0.8;\" x=\"59.690625\" xlink:href=\"#m72ee01af71\" y=\"14.931203\"/>\n      </g>\n     </g>\n     <g id=\"text_16\">\n      <!-- 70000 -->\n      <g transform=\"translate(20.878125 18.730422)scale(0.1 -0.1)\">\n       <defs>\n        <path d=\"M 8.203125 72.90625 \nL 55.078125 72.90625 \nL 55.078125 68.703125 \nL 28.609375 0 \nL 18.3125 0 \nL 43.21875 64.59375 \nL 8.203125 64.59375 \nz\n\" id=\"DejaVuSans-55\"/>\n       </defs>\n       <use xlink:href=\"#DejaVuSans-55\"/>\n       <use x=\"63.623047\" xlink:href=\"#DejaVuSans-48\"/>\n       <use x=\"127.246094\" xlink:href=\"#DejaVuSans-48\"/>\n       <use x=\"190.869141\" xlink:href=\"#DejaVuSans-48\"/>\n       <use x=\"254.492188\" xlink:href=\"#DejaVuSans-48\"/>\n      </g>\n     </g>\n    </g>\n    <g id=\"text_17\">\n     <!-- frequency of words -->\n     <g transform=\"translate(14.798438 163.889531)rotate(-90)scale(0.1 -0.1)\">\n      <defs>\n       <path d=\"M 56.203125 29.59375 \nL 56.203125 25.203125 \nL 14.890625 25.203125 \nQ 15.484375 15.921875 20.484375 11.0625 \nQ 25.484375 6.203125 34.421875 6.203125 \nQ 39.59375 6.203125 44.453125 7.46875 \nQ 49.3125 8.734375 54.109375 11.28125 \nL 54.109375 2.78125 \nQ 49.265625 0.734375 44.1875 -0.34375 \nQ 39.109375 -1.421875 33.890625 -1.421875 \nQ 20.796875 -1.421875 13.15625 6.1875 \nQ 5.515625 13.8125 5.515625 26.8125 \nQ 5.515625 40.234375 12.765625 48.109375 \nQ 20.015625 56 32.328125 56 \nQ 43.359375 56 49.78125 48.890625 \nQ 56.203125 41.796875 56.203125 29.59375 \nz\nM 47.21875 32.234375 \nQ 47.125 39.59375 43.09375 43.984375 \nQ 39.0625 48.390625 32.421875 48.390625 \nQ 24.90625 48.390625 20.390625 44.140625 \nQ 15.875 39.890625 15.1875 32.171875 \nz\n\" id=\"DejaVuSans-101\"/>\n       <path d=\"M 14.796875 27.296875 \nQ 14.796875 17.390625 18.875 11.75 \nQ 22.953125 6.109375 30.078125 6.109375 \nQ 37.203125 6.109375 41.296875 11.75 \nQ 45.40625 17.390625 45.40625 27.296875 \nQ 45.40625 37.203125 41.296875 42.84375 \nQ 37.203125 48.484375 30.078125 48.484375 \nQ 22.953125 48.484375 18.875 42.84375 \nQ 14.796875 37.203125 14.796875 27.296875 \nz\nM 45.40625 8.203125 \nQ 42.578125 3.328125 38.25 0.953125 \nQ 33.9375 -1.421875 27.875 -1.421875 \nQ 17.96875 -1.421875 11.734375 6.484375 \nQ 5.515625 14.40625 5.515625 27.296875 \nQ 5.515625 40.1875 11.734375 48.09375 \nQ 17.96875 56 27.875 56 \nQ 33.9375 56 38.25 53.625 \nQ 42.578125 51.265625 45.40625 46.390625 \nL 45.40625 54.6875 \nL 54.390625 54.6875 \nL 54.390625 -20.796875 \nL 45.40625 -20.796875 \nz\n\" id=\"DejaVuSans-113\"/>\n       <path d=\"M 8.5 21.578125 \nL 8.5 54.6875 \nL 17.484375 54.6875 \nL 17.484375 21.921875 \nQ 17.484375 14.15625 20.5 10.265625 \nQ 23.53125 6.390625 29.59375 6.390625 \nQ 36.859375 6.390625 41.078125 11.03125 \nQ 45.3125 15.671875 45.3125 23.6875 \nL 45.3125 54.6875 \nL 54.296875 54.6875 \nL 54.296875 0 \nL 45.3125 0 \nL 45.3125 8.40625 \nQ 42.046875 3.421875 37.71875 1 \nQ 33.40625 -1.421875 27.6875 -1.421875 \nQ 18.265625 -1.421875 13.375 4.4375 \nQ 8.5 10.296875 8.5 21.578125 \nz\nM 31.109375 56 \nz\n\" id=\"DejaVuSans-117\"/>\n       <path d=\"M 48.78125 52.59375 \nL 48.78125 44.1875 \nQ 44.96875 46.296875 41.140625 47.34375 \nQ 37.3125 48.390625 33.40625 48.390625 \nQ 24.65625 48.390625 19.8125 42.84375 \nQ 14.984375 37.3125 14.984375 27.296875 \nQ 14.984375 17.28125 19.8125 11.734375 \nQ 24.65625 6.203125 33.40625 6.203125 \nQ 37.3125 6.203125 41.140625 7.25 \nQ 44.96875 8.296875 48.78125 10.40625 \nL 48.78125 2.09375 \nQ 45.015625 0.34375 40.984375 -0.53125 \nQ 36.96875 -1.421875 32.421875 -1.421875 \nQ 20.0625 -1.421875 12.78125 6.34375 \nQ 5.515625 14.109375 5.515625 27.296875 \nQ 5.515625 40.671875 12.859375 48.328125 \nQ 20.21875 56 33.015625 56 \nQ 37.15625 56 41.109375 55.140625 \nQ 45.0625 54.296875 48.78125 52.59375 \nz\n\" id=\"DejaVuSans-99\"/>\n       <path d=\"M 32.171875 -5.078125 \nQ 28.375 -14.84375 24.75 -17.8125 \nQ 21.140625 -20.796875 15.09375 -20.796875 \nL 7.90625 -20.796875 \nL 7.90625 -13.28125 \nL 13.1875 -13.28125 \nQ 16.890625 -13.28125 18.9375 -11.515625 \nQ 21 -9.765625 23.484375 -3.21875 \nL 25.09375 0.875 \nL 2.984375 54.6875 \nL 12.5 54.6875 \nL 29.59375 11.921875 \nL 46.6875 54.6875 \nL 56.203125 54.6875 \nz\n\" id=\"DejaVuSans-121\"/>\n      </defs>\n      <use xlink:href=\"#DejaVuSans-102\"/>\n      <use x=\"35.205078\" xlink:href=\"#DejaVuSans-114\"/>\n      <use x=\"74.068359\" xlink:href=\"#DejaVuSans-101\"/>\n      <use x=\"135.591797\" xlink:href=\"#DejaVuSans-113\"/>\n      <use x=\"199.068359\" xlink:href=\"#DejaVuSans-117\"/>\n      <use x=\"262.447266\" xlink:href=\"#DejaVuSans-101\"/>\n      <use x=\"323.970703\" xlink:href=\"#DejaVuSans-110\"/>\n      <use x=\"387.349609\" xlink:href=\"#DejaVuSans-99\"/>\n      <use x=\"442.330078\" xlink:href=\"#DejaVuSans-121\"/>\n      <use x=\"501.509766\" xlink:href=\"#DejaVuSans-32\"/>\n      <use x=\"533.296875\" xlink:href=\"#DejaVuSans-111\"/>\n      <use x=\"594.478516\" xlink:href=\"#DejaVuSans-102\"/>\n      <use x=\"629.683594\" xlink:href=\"#DejaVuSans-32\"/>\n      <use x=\"661.470703\" xlink:href=\"#DejaVuSans-119\"/>\n      <use x=\"743.257812\" xlink:href=\"#DejaVuSans-111\"/>\n      <use x=\"804.439453\" xlink:href=\"#DejaVuSans-114\"/>\n      <use x=\"843.802734\" xlink:href=\"#DejaVuSans-100\"/>\n      <use x=\"907.279297\" xlink:href=\"#DejaVuSans-115\"/>\n     </g>\n    </g>\n   </g>\n   <g id=\"line2d_16\">\n    <path clip-path=\"url(#pbb89929e72)\" d=\"M 74.908807 17.083636 \nL 75.027967 186.866082 \nL 75.192959 199.892014 \nL 75.614604 209.035573 \nL 75.88959 210.699855 \nL 76.42123 212.010156 \nL 76.641218 212.170018 \nL 76.797044 212.324171 \nL 77.768661 213.080663 \nL 78.703613 213.537413 \nL 79.171089 213.645891 \nL 79.409411 213.720113 \nL 80.289366 213.879975 \nL 80.903501 213.988453 \nL 81.545135 214.074094 \nL 82.645079 214.182572 \nL 83.204217 214.24252 \nL 84.954961 214.350998 \nL 85.376606 214.368126 \nL 88.089801 214.476604 \nL 88.493114 214.488023 \nL 94.643633 214.596501 \nL 95.028614 214.602211 \nL 120.235661 214.710689 \nL 120.611475 214.713543 \nL 379.272443 214.756364 \nL 379.272443 214.756364 \n\" style=\"fill:none;stroke:#1f77b4;stroke-linecap:square;stroke-width:1.5;\"/>\n   </g>\n   <g id=\"patch_3\">\n    <path d=\"M 59.690625 224.64 \nL 59.690625 7.2 \n\" style=\"fill:none;stroke:#000000;stroke-linecap:square;stroke-linejoin:miter;stroke-width:0.8;\"/>\n   </g>\n   <g id=\"patch_4\">\n    <path d=\"M 394.490625 224.64 \nL 394.490625 7.2 \n\" style=\"fill:none;stroke:#000000;stroke-linecap:square;stroke-linejoin:miter;stroke-width:0.8;\"/>\n   </g>\n   <g id=\"patch_5\">\n    <path d=\"M 59.690625 224.64 \nL 394.490625 224.64 \n\" style=\"fill:none;stroke:#000000;stroke-linecap:square;stroke-linejoin:miter;stroke-width:0.8;\"/>\n   </g>\n   <g id=\"patch_6\">\n    <path d=\"M 59.690625 7.2 \nL 394.490625 7.2 \n\" style=\"fill:none;stroke:#000000;stroke-linecap:square;stroke-linejoin:miter;stroke-width:0.8;\"/>\n   </g>\n  </g>\n </g>\n <defs>\n  <clipPath id=\"pbb89929e72\">\n   <rect height=\"217.44\" width=\"334.8\" x=\"59.690625\" y=\"7.2\"/>\n  </clipPath>\n </defs>\n</svg>\n",
      "image/png": "[encoded data removed]"
     },
     "metadata": {
      "needs_background": "light"
     }
    }
   ],
   "source": [
    "importlib.reload(lab1)\n",
    "lab1.plot_zipf(freqs)"
   ]
  },
  {
   "cell_type": "markdown",
   "metadata": {},
   "source": [
    "## Exercise 4: Type-to-Token Ratio (TTR)"
   ]
  },
  {
   "cell_type": "markdown",
   "metadata": {},
   "source": [
    "Another way of measuring the richenss of vocabulary is by looking at the type-token distribution of words in a language. Word types are unique words in a corpus, whereas the tokens are the words in a corpus with repetition. And so, a sentence such as \"I am taking this class because I love taking on challenges\" has 11 tokens, but 9 types since the words \"I\" and \"taking\" are repeated twice. Accordingly, Type-to-Token Ratio (TTR) is the ratio of types to tokens, and the higher it is, the less words are repeated, and the richer is the language.\n",
    "\n",
    "**Total points: 15 points**\n",
    "\n",
    "a. In this exercise we will be exploring, for every language, the amount of \"types\" explored as we explore larger portions of the corpus, or tokens. We will be considering the Universal Declaration of Human Rights in 4 languages. Particularly, we will be plotting the amount of types explored per language as we explore 100 more tokens. For this exercise, complete the following function \"get_TTRs\" which takes in as an input a predefined set of languages, and returns as an output the dictionary TTR, which has a language as the key, and the value as a list showing the count of types as we explore 100 tokens, 200 tokens, 300 tokens, up until 1300 tokens of the respective corpus. Accordingly, each list in the dictionary should be made of 13 data points. Do not forget to lowercase, but you do not need to perform tokenization as the corpora now are actually a list of words instead of one string.  (15 points)"
   ]
  },
  {
   "cell_type": "code",
   "execution_count": 77,
   "metadata": {
    "nbgrader": {
     "grade": false,
     "grade_id": "cell-f89f433ea4675fed",
     "locked": false,
     "schema_version": 3,
     "solution": true,
     "task": false
    }
   },
   "outputs": [],
   "source": [
    "from nltk.corpus import udhr\n",
    "languages = ['Italian-Latin1', 'English-Latin1', 'German_Deutsch-Latin1', 'Finnish_Suomi-Latin1']"
   ]
  },
  {
   "cell_type": "code",
   "execution_count": 79,
   "metadata": {},
   "outputs": [
    {
     "output_type": "stream",
     "name": "stdout",
     "text": [
      "{'Italian-Latin1': [64, 110, 143, 179, 221, 260, 286, 326, 355, 386, 412, 426, 451], 'English-Latin1': [57, 99, 133, 167, 207, 231, 262, 292, 318, 339, 358, 381, 403], 'German_Deutsch-Latin1': [63, 113, 155, 204, 254, 284, 324, 358, 388, 418, 446, 475, 504], 'Finnish_Suomi-Latin1': [74, 137, 192, 252, 303, 356, 406, 459, 491, 537, 586, 631, 675]}\n"
     ]
    }
   ],
   "source": [
    "importlib.reload(lab1)\n",
    "TTRs = lab1.get_TTRs(languages)\n",
    "print(TTRs)"
   ]
  },
  {
   "cell_type": "code",
   "execution_count": 80,
   "metadata": {
    "nbgrader": {
     "grade": true,
     "grade_id": "cell-65fae85d3536e61a",
     "locked": true,
     "points": 15,
     "schema_version": 3,
     "solution": false,
     "task": false
    }
   },
   "outputs": [],
   "source": [
    "### BEGIN HIDDEN TESTS\n",
    "assert TTRs['Italian-Latin1'] == [64, 110, 143, 179, 221, 260, 286, 326, 355, 386, 412, 426, 451]\n",
    "assert TTRs['English-Latin1'] == [57, 99, 133, 167, 207, 231, 262, 292, 318, 339, 358, 381, 403]\n",
    "assert TTRs['German_Deutsch-Latin1'] == [63, 113, 155, 204, 254, 284, 324, 358, 388, 418, 446, 475, 504]\n",
    "assert TTRs['Finnish_Suomi-Latin1'] == [74, 137, 192, 252, 303, 356, 406, 459, 491, 537, 586, 631, 675]\n",
    "### END HIDDEN TESTS"
   ]
  },
  {
   "cell_type": "markdown",
   "metadata": {},
   "source": [
    "b. Next, plot a line graph (one line for every language, four lines in total) that shows the count of types discovered on the y-axis and the amount of tokens in the corpus discovered on the x-axis, in increments of 100 tokens, up to 1300. (Ungraded)"
   ]
  },
  {
   "cell_type": "code",
   "execution_count": 81,
   "metadata": {
    "nbgrader": {
     "grade": true,
     "grade_id": "cell-8260219dae07a1cd",
     "locked": false,
     "points": 5,
     "schema_version": 3,
     "solution": true,
     "task": false
    }
   },
   "outputs": [
    {
     "output_type": "display_data",
     "data": {
      "text/plain": "<Figure size 432x288 with 1 Axes>",
      "image/svg+xml": "<?xml version=\"1.0\" encoding=\"utf-8\" standalone=\"no\"?>\n<!DOCTYPE svg PUBLIC \"-//W3C//DTD SVG 1.1//EN\"\n  \"http://www.w3.org/Graphics/SVG/1.1/DTD/svg11.dtd\">\n<!-- Created with matplotlib (https://matplotlib.org/) -->\n<svg height=\"264.108302pt\" version=\"1.1\" viewBox=\"0 0 388.965625 264.108302\" width=\"388.965625pt\" xmlns=\"http://www.w3.org/2000/svg\" xmlns:xlink=\"http://www.w3.org/1999/xlink\">\n <metadata>\n  <rdf:RDF xmlns:cc=\"http://creativecommons.org/ns#\" xmlns:dc=\"http://purl.org/dc/elements/1.1/\" xmlns:rdf=\"http://www.w3.org/1999/02/22-rdf-syntax-ns#\">\n   <cc:Work>\n    <dc:type rdf:resource=\"http://purl.org/dc/dcmitype/StillImage\"/>\n    <dc:date>2021-04-14T19:09:41.736977</dc:date>\n    <dc:format>image/svg+xml</dc:format>\n    <dc:creator>\n     <cc:Agent>\n      <dc:title>Matplotlib v3.3.3, https://matplotlib.org/</dc:title>\n     </cc:Agent>\n    </dc:creator>\n   </cc:Work>\n  </rdf:RDF>\n </metadata>\n <defs>\n  <style type=\"text/css\">*{stroke-linecap:butt;stroke-linejoin:round;}</style>\n </defs>\n <g id=\"figure_1\">\n  <g id=\"patch_1\">\n   <path d=\"M 0 264.108302 \nL 388.965625 264.108302 \nL 388.965625 0 \nL 0 0 \nz\n\" style=\"fill:none;\"/>\n  </g>\n  <g id=\"axes_1\">\n   <g id=\"patch_2\">\n    <path d=\"M 46.965625 226.552052 \nL 381.765625 226.552052 \nL 381.765625 9.112052 \nL 46.965625 9.112052 \nz\n\" style=\"fill:#ffffff;\"/>\n   </g>\n   <g id=\"matplotlib.axis_1\">\n    <g id=\"xtick_1\">\n     <g id=\"line2d_1\">\n      <defs>\n       <path d=\"M 0 0 \nL 0 3.5 \n\" id=\"m6525213314\" style=\"stroke:#000000;stroke-width:0.8;\"/>\n      </defs>\n      <g>\n       <use style=\"stroke:#000000;stroke-width:0.8;\" x=\"87.547443\" xlink:href=\"#m6525213314\" y=\"226.552052\"/>\n      </g>\n     </g>\n     <g id=\"text_1\">\n      <!-- 200 -->\n      <g transform=\"translate(78.003693 241.150489)scale(0.1 -0.1)\">\n       <defs>\n        <path d=\"M 19.1875 8.296875 \nL 53.609375 8.296875 \nL 53.609375 0 \nL 7.328125 0 \nL 7.328125 8.296875 \nQ 12.9375 14.109375 22.625 23.890625 \nQ 32.328125 33.6875 34.8125 36.53125 \nQ 39.546875 41.84375 41.421875 45.53125 \nQ 43.3125 49.21875 43.3125 52.78125 \nQ 43.3125 58.59375 39.234375 62.25 \nQ 35.15625 65.921875 28.609375 65.921875 \nQ 23.96875 65.921875 18.8125 64.3125 \nQ 13.671875 62.703125 7.8125 59.421875 \nL 7.8125 69.390625 \nQ 13.765625 71.78125 18.9375 73 \nQ 24.125 74.21875 28.421875 74.21875 \nQ 39.75 74.21875 46.484375 68.546875 \nQ 53.21875 62.890625 53.21875 53.421875 \nQ 53.21875 48.921875 51.53125 44.890625 \nQ 49.859375 40.875 45.40625 35.40625 \nQ 44.1875 33.984375 37.640625 27.21875 \nQ 31.109375 20.453125 19.1875 8.296875 \nz\n\" id=\"DejaVuSans-50\"/>\n        <path d=\"M 31.78125 66.40625 \nQ 24.171875 66.40625 20.328125 58.90625 \nQ 16.5 51.421875 16.5 36.375 \nQ 16.5 21.390625 20.328125 13.890625 \nQ 24.171875 6.390625 31.78125 6.390625 \nQ 39.453125 6.390625 43.28125 13.890625 \nQ 47.125 21.390625 47.125 36.375 \nQ 47.125 51.421875 43.28125 58.90625 \nQ 39.453125 66.40625 31.78125 66.40625 \nz\nM 31.78125 74.21875 \nQ 44.046875 74.21875 50.515625 64.515625 \nQ 56.984375 54.828125 56.984375 36.375 \nQ 56.984375 17.96875 50.515625 8.265625 \nQ 44.046875 -1.421875 31.78125 -1.421875 \nQ 19.53125 -1.421875 13.0625 8.265625 \nQ 6.59375 17.96875 6.59375 36.375 \nQ 6.59375 54.828125 13.0625 64.515625 \nQ 19.53125 74.21875 31.78125 74.21875 \nz\n\" id=\"DejaVuSans-48\"/>\n       </defs>\n       <use xlink:href=\"#DejaVuSans-50\"/>\n       <use x=\"63.623047\" xlink:href=\"#DejaVuSans-48\"/>\n       <use x=\"127.246094\" xlink:href=\"#DejaVuSans-48\"/>\n      </g>\n     </g>\n    </g>\n    <g id=\"xtick_2\">\n     <g id=\"line2d_2\">\n      <g>\n       <use style=\"stroke:#000000;stroke-width:0.8;\" x=\"138.274716\" xlink:href=\"#m6525213314\" y=\"226.552052\"/>\n      </g>\n     </g>\n     <g id=\"text_2\">\n      <!-- 400 -->\n      <g transform=\"translate(128.730966 241.150489)scale(0.1 -0.1)\">\n       <defs>\n        <path d=\"M 37.796875 64.3125 \nL 12.890625 25.390625 \nL 37.796875 25.390625 \nz\nM 35.203125 72.90625 \nL 47.609375 72.90625 \nL 47.609375 25.390625 \nL 58.015625 25.390625 \nL 58.015625 17.1875 \nL 47.609375 17.1875 \nL 47.609375 0 \nL 37.796875 0 \nL 37.796875 17.1875 \nL 4.890625 17.1875 \nL 4.890625 26.703125 \nz\n\" id=\"DejaVuSans-52\"/>\n       </defs>\n       <use xlink:href=\"#DejaVuSans-52\"/>\n       <use x=\"63.623047\" xlink:href=\"#DejaVuSans-48\"/>\n       <use x=\"127.246094\" xlink:href=\"#DejaVuSans-48\"/>\n      </g>\n     </g>\n    </g>\n    <g id=\"xtick_3\">\n     <g id=\"line2d_3\">\n      <g>\n       <use style=\"stroke:#000000;stroke-width:0.8;\" x=\"189.001989\" xlink:href=\"#m6525213314\" y=\"226.552052\"/>\n      </g>\n     </g>\n     <g id=\"text_3\">\n      <!-- 600 -->\n      <g transform=\"translate(179.458239 241.150489)scale(0.1 -0.1)\">\n       <defs>\n        <path d=\"M 33.015625 40.375 \nQ 26.375 40.375 22.484375 35.828125 \nQ 18.609375 31.296875 18.609375 23.390625 \nQ 18.609375 15.53125 22.484375 10.953125 \nQ 26.375 6.390625 33.015625 6.390625 \nQ 39.65625 6.390625 43.53125 10.953125 \nQ 47.40625 15.53125 47.40625 23.390625 \nQ 47.40625 31.296875 43.53125 35.828125 \nQ 39.65625 40.375 33.015625 40.375 \nz\nM 52.59375 71.296875 \nL 52.59375 62.3125 \nQ 48.875 64.0625 45.09375 64.984375 \nQ 41.3125 65.921875 37.59375 65.921875 \nQ 27.828125 65.921875 22.671875 59.328125 \nQ 17.53125 52.734375 16.796875 39.40625 \nQ 19.671875 43.65625 24.015625 45.921875 \nQ 28.375 48.1875 33.59375 48.1875 \nQ 44.578125 48.1875 50.953125 41.515625 \nQ 57.328125 34.859375 57.328125 23.390625 \nQ 57.328125 12.15625 50.6875 5.359375 \nQ 44.046875 -1.421875 33.015625 -1.421875 \nQ 20.359375 -1.421875 13.671875 8.265625 \nQ 6.984375 17.96875 6.984375 36.375 \nQ 6.984375 53.65625 15.1875 63.9375 \nQ 23.390625 74.21875 37.203125 74.21875 \nQ 40.921875 74.21875 44.703125 73.484375 \nQ 48.484375 72.75 52.59375 71.296875 \nz\n\" id=\"DejaVuSans-54\"/>\n       </defs>\n       <use xlink:href=\"#DejaVuSans-54\"/>\n       <use x=\"63.623047\" xlink:href=\"#DejaVuSans-48\"/>\n       <use x=\"127.246094\" xlink:href=\"#DejaVuSans-48\"/>\n      </g>\n     </g>\n    </g>\n    <g id=\"xtick_4\">\n     <g id=\"line2d_4\">\n      <g>\n       <use style=\"stroke:#000000;stroke-width:0.8;\" x=\"239.729261\" xlink:href=\"#m6525213314\" y=\"226.552052\"/>\n      </g>\n     </g>\n     <g id=\"text_4\">\n      <!-- 800 -->\n      <g transform=\"translate(230.185511 241.150489)scale(0.1 -0.1)\">\n       <defs>\n        <path d=\"M 31.78125 34.625 \nQ 24.75 34.625 20.71875 30.859375 \nQ 16.703125 27.09375 16.703125 20.515625 \nQ 16.703125 13.921875 20.71875 10.15625 \nQ 24.75 6.390625 31.78125 6.390625 \nQ 38.8125 6.390625 42.859375 10.171875 \nQ 46.921875 13.96875 46.921875 20.515625 \nQ 46.921875 27.09375 42.890625 30.859375 \nQ 38.875 34.625 31.78125 34.625 \nz\nM 21.921875 38.8125 \nQ 15.578125 40.375 12.03125 44.71875 \nQ 8.5 49.078125 8.5 55.328125 \nQ 8.5 64.0625 14.71875 69.140625 \nQ 20.953125 74.21875 31.78125 74.21875 \nQ 42.671875 74.21875 48.875 69.140625 \nQ 55.078125 64.0625 55.078125 55.328125 \nQ 55.078125 49.078125 51.53125 44.71875 \nQ 48 40.375 41.703125 38.8125 \nQ 48.828125 37.15625 52.796875 32.3125 \nQ 56.78125 27.484375 56.78125 20.515625 \nQ 56.78125 9.90625 50.3125 4.234375 \nQ 43.84375 -1.421875 31.78125 -1.421875 \nQ 19.734375 -1.421875 13.25 4.234375 \nQ 6.78125 9.90625 6.78125 20.515625 \nQ 6.78125 27.484375 10.78125 32.3125 \nQ 14.796875 37.15625 21.921875 38.8125 \nz\nM 18.3125 54.390625 \nQ 18.3125 48.734375 21.84375 45.5625 \nQ 25.390625 42.390625 31.78125 42.390625 \nQ 38.140625 42.390625 41.71875 45.5625 \nQ 45.3125 48.734375 45.3125 54.390625 \nQ 45.3125 60.0625 41.71875 63.234375 \nQ 38.140625 66.40625 31.78125 66.40625 \nQ 25.390625 66.40625 21.84375 63.234375 \nQ 18.3125 60.0625 18.3125 54.390625 \nz\n\" id=\"DejaVuSans-56\"/>\n       </defs>\n       <use xlink:href=\"#DejaVuSans-56\"/>\n       <use x=\"63.623047\" xlink:href=\"#DejaVuSans-48\"/>\n       <use x=\"127.246094\" xlink:href=\"#DejaVuSans-48\"/>\n      </g>\n     </g>\n    </g>\n    <g id=\"xtick_5\">\n     <g id=\"line2d_5\">\n      <g>\n       <use style=\"stroke:#000000;stroke-width:0.8;\" x=\"290.456534\" xlink:href=\"#m6525213314\" y=\"226.552052\"/>\n      </g>\n     </g>\n     <g id=\"text_5\">\n      <!-- 1000 -->\n      <g transform=\"translate(277.731534 241.150489)scale(0.1 -0.1)\">\n       <defs>\n        <path d=\"M 12.40625 8.296875 \nL 28.515625 8.296875 \nL 28.515625 63.921875 \nL 10.984375 60.40625 \nL 10.984375 69.390625 \nL 28.421875 72.90625 \nL 38.28125 72.90625 \nL 38.28125 8.296875 \nL 54.390625 8.296875 \nL 54.390625 0 \nL 12.40625 0 \nz\n\" id=\"DejaVuSans-49\"/>\n       </defs>\n       <use xlink:href=\"#DejaVuSans-49\"/>\n       <use x=\"63.623047\" xlink:href=\"#DejaVuSans-48\"/>\n       <use x=\"127.246094\" xlink:href=\"#DejaVuSans-48\"/>\n       <use x=\"190.869141\" xlink:href=\"#DejaVuSans-48\"/>\n      </g>\n     </g>\n    </g>\n    <g id=\"xtick_6\">\n     <g id=\"line2d_6\">\n      <g>\n       <use style=\"stroke:#000000;stroke-width:0.8;\" x=\"341.183807\" xlink:href=\"#m6525213314\" y=\"226.552052\"/>\n      </g>\n     </g>\n     <g id=\"text_6\">\n      <!-- 1200 -->\n      <g transform=\"translate(328.458807 241.150489)scale(0.1 -0.1)\">\n       <use xlink:href=\"#DejaVuSans-49\"/>\n       <use x=\"63.623047\" xlink:href=\"#DejaVuSans-50\"/>\n       <use x=\"127.246094\" xlink:href=\"#DejaVuSans-48\"/>\n       <use x=\"190.869141\" xlink:href=\"#DejaVuSans-48\"/>\n      </g>\n     </g>\n    </g>\n    <g id=\"text_7\">\n     <!-- amount of tokens -->\n     <g transform=\"translate(170.492969 254.828614)scale(0.1 -0.1)\">\n      <defs>\n       <path d=\"M 34.28125 27.484375 \nQ 23.390625 27.484375 19.1875 25 \nQ 14.984375 22.515625 14.984375 16.5 \nQ 14.984375 11.71875 18.140625 8.90625 \nQ 21.296875 6.109375 26.703125 6.109375 \nQ 34.1875 6.109375 38.703125 11.40625 \nQ 43.21875 16.703125 43.21875 25.484375 \nL 43.21875 27.484375 \nz\nM 52.203125 31.203125 \nL 52.203125 0 \nL 43.21875 0 \nL 43.21875 8.296875 \nQ 40.140625 3.328125 35.546875 0.953125 \nQ 30.953125 -1.421875 24.3125 -1.421875 \nQ 15.921875 -1.421875 10.953125 3.296875 \nQ 6 8.015625 6 15.921875 \nQ 6 25.140625 12.171875 29.828125 \nQ 18.359375 34.515625 30.609375 34.515625 \nL 43.21875 34.515625 \nL 43.21875 35.40625 \nQ 43.21875 41.609375 39.140625 45 \nQ 35.0625 48.390625 27.6875 48.390625 \nQ 23 48.390625 18.546875 47.265625 \nQ 14.109375 46.140625 10.015625 43.890625 \nL 10.015625 52.203125 \nQ 14.9375 54.109375 19.578125 55.046875 \nQ 24.21875 56 28.609375 56 \nQ 40.484375 56 46.34375 49.84375 \nQ 52.203125 43.703125 52.203125 31.203125 \nz\n\" id=\"DejaVuSans-97\"/>\n       <path d=\"M 52 44.1875 \nQ 55.375 50.25 60.0625 53.125 \nQ 64.75 56 71.09375 56 \nQ 79.640625 56 84.28125 50.015625 \nQ 88.921875 44.046875 88.921875 33.015625 \nL 88.921875 0 \nL 79.890625 0 \nL 79.890625 32.71875 \nQ 79.890625 40.578125 77.09375 44.375 \nQ 74.3125 48.1875 68.609375 48.1875 \nQ 61.625 48.1875 57.5625 43.546875 \nQ 53.515625 38.921875 53.515625 30.90625 \nL 53.515625 0 \nL 44.484375 0 \nL 44.484375 32.71875 \nQ 44.484375 40.625 41.703125 44.40625 \nQ 38.921875 48.1875 33.109375 48.1875 \nQ 26.21875 48.1875 22.15625 43.53125 \nQ 18.109375 38.875 18.109375 30.90625 \nL 18.109375 0 \nL 9.078125 0 \nL 9.078125 54.6875 \nL 18.109375 54.6875 \nL 18.109375 46.1875 \nQ 21.1875 51.21875 25.484375 53.609375 \nQ 29.78125 56 35.6875 56 \nQ 41.65625 56 45.828125 52.96875 \nQ 50 49.953125 52 44.1875 \nz\n\" id=\"DejaVuSans-109\"/>\n       <path d=\"M 30.609375 48.390625 \nQ 23.390625 48.390625 19.1875 42.75 \nQ 14.984375 37.109375 14.984375 27.296875 \nQ 14.984375 17.484375 19.15625 11.84375 \nQ 23.34375 6.203125 30.609375 6.203125 \nQ 37.796875 6.203125 41.984375 11.859375 \nQ 46.1875 17.53125 46.1875 27.296875 \nQ 46.1875 37.015625 41.984375 42.703125 \nQ 37.796875 48.390625 30.609375 48.390625 \nz\nM 30.609375 56 \nQ 42.328125 56 49.015625 48.375 \nQ 55.71875 40.765625 55.71875 27.296875 \nQ 55.71875 13.875 49.015625 6.21875 \nQ 42.328125 -1.421875 30.609375 -1.421875 \nQ 18.84375 -1.421875 12.171875 6.21875 \nQ 5.515625 13.875 5.515625 27.296875 \nQ 5.515625 40.765625 12.171875 48.375 \nQ 18.84375 56 30.609375 56 \nz\n\" id=\"DejaVuSans-111\"/>\n       <path d=\"M 8.5 21.578125 \nL 8.5 54.6875 \nL 17.484375 54.6875 \nL 17.484375 21.921875 \nQ 17.484375 14.15625 20.5 10.265625 \nQ 23.53125 6.390625 29.59375 6.390625 \nQ 36.859375 6.390625 41.078125 11.03125 \nQ 45.3125 15.671875 45.3125 23.6875 \nL 45.3125 54.6875 \nL 54.296875 54.6875 \nL 54.296875 0 \nL 45.3125 0 \nL 45.3125 8.40625 \nQ 42.046875 3.421875 37.71875 1 \nQ 33.40625 -1.421875 27.6875 -1.421875 \nQ 18.265625 -1.421875 13.375 4.4375 \nQ 8.5 10.296875 8.5 21.578125 \nz\nM 31.109375 56 \nz\n\" id=\"DejaVuSans-117\"/>\n       <path d=\"M 54.890625 33.015625 \nL 54.890625 0 \nL 45.90625 0 \nL 45.90625 32.71875 \nQ 45.90625 40.484375 42.875 44.328125 \nQ 39.84375 48.1875 33.796875 48.1875 \nQ 26.515625 48.1875 22.3125 43.546875 \nQ 18.109375 38.921875 18.109375 30.90625 \nL 18.109375 0 \nL 9.078125 0 \nL 9.078125 54.6875 \nL 18.109375 54.6875 \nL 18.109375 46.1875 \nQ 21.34375 51.125 25.703125 53.5625 \nQ 30.078125 56 35.796875 56 \nQ 45.21875 56 50.046875 50.171875 \nQ 54.890625 44.34375 54.890625 33.015625 \nz\n\" id=\"DejaVuSans-110\"/>\n       <path d=\"M 18.3125 70.21875 \nL 18.3125 54.6875 \nL 36.8125 54.6875 \nL 36.8125 47.703125 \nL 18.3125 47.703125 \nL 18.3125 18.015625 \nQ 18.3125 11.328125 20.140625 9.421875 \nQ 21.96875 7.515625 27.59375 7.515625 \nL 36.8125 7.515625 \nL 36.8125 0 \nL 27.59375 0 \nQ 17.1875 0 13.234375 3.875 \nQ 9.28125 7.765625 9.28125 18.015625 \nL 9.28125 47.703125 \nL 2.6875 47.703125 \nL 2.6875 54.6875 \nL 9.28125 54.6875 \nL 9.28125 70.21875 \nz\n\" id=\"DejaVuSans-116\"/>\n       <path id=\"DejaVuSans-32\"/>\n       <path d=\"M 37.109375 75.984375 \nL 37.109375 68.5 \nL 28.515625 68.5 \nQ 23.6875 68.5 21.796875 66.546875 \nQ 19.921875 64.59375 19.921875 59.515625 \nL 19.921875 54.6875 \nL 34.71875 54.6875 \nL 34.71875 47.703125 \nL 19.921875 47.703125 \nL 19.921875 0 \nL 10.890625 0 \nL 10.890625 47.703125 \nL 2.296875 47.703125 \nL 2.296875 54.6875 \nL 10.890625 54.6875 \nL 10.890625 58.5 \nQ 10.890625 67.625 15.140625 71.796875 \nQ 19.390625 75.984375 28.609375 75.984375 \nz\n\" id=\"DejaVuSans-102\"/>\n       <path d=\"M 9.078125 75.984375 \nL 18.109375 75.984375 \nL 18.109375 31.109375 \nL 44.921875 54.6875 \nL 56.390625 54.6875 \nL 27.390625 29.109375 \nL 57.625 0 \nL 45.90625 0 \nL 18.109375 26.703125 \nL 18.109375 0 \nL 9.078125 0 \nz\n\" id=\"DejaVuSans-107\"/>\n       <path d=\"M 56.203125 29.59375 \nL 56.203125 25.203125 \nL 14.890625 25.203125 \nQ 15.484375 15.921875 20.484375 11.0625 \nQ 25.484375 6.203125 34.421875 6.203125 \nQ 39.59375 6.203125 44.453125 7.46875 \nQ 49.3125 8.734375 54.109375 11.28125 \nL 54.109375 2.78125 \nQ 49.265625 0.734375 44.1875 -0.34375 \nQ 39.109375 -1.421875 33.890625 -1.421875 \nQ 20.796875 -1.421875 13.15625 6.1875 \nQ 5.515625 13.8125 5.515625 26.8125 \nQ 5.515625 40.234375 12.765625 48.109375 \nQ 20.015625 56 32.328125 56 \nQ 43.359375 56 49.78125 48.890625 \nQ 56.203125 41.796875 56.203125 29.59375 \nz\nM 47.21875 32.234375 \nQ 47.125 39.59375 43.09375 43.984375 \nQ 39.0625 48.390625 32.421875 48.390625 \nQ 24.90625 48.390625 20.390625 44.140625 \nQ 15.875 39.890625 15.1875 32.171875 \nz\n\" id=\"DejaVuSans-101\"/>\n       <path d=\"M 44.28125 53.078125 \nL 44.28125 44.578125 \nQ 40.484375 46.53125 36.375 47.5 \nQ 32.28125 48.484375 27.875 48.484375 \nQ 21.1875 48.484375 17.84375 46.4375 \nQ 14.5 44.390625 14.5 40.28125 \nQ 14.5 37.15625 16.890625 35.375 \nQ 19.28125 33.59375 26.515625 31.984375 \nL 29.59375 31.296875 \nQ 39.15625 29.25 43.1875 25.515625 \nQ 47.21875 21.78125 47.21875 15.09375 \nQ 47.21875 7.46875 41.1875 3.015625 \nQ 35.15625 -1.421875 24.609375 -1.421875 \nQ 20.21875 -1.421875 15.453125 -0.5625 \nQ 10.6875 0.296875 5.421875 2 \nL 5.421875 11.28125 \nQ 10.40625 8.6875 15.234375 7.390625 \nQ 20.0625 6.109375 24.8125 6.109375 \nQ 31.15625 6.109375 34.5625 8.28125 \nQ 37.984375 10.453125 37.984375 14.40625 \nQ 37.984375 18.0625 35.515625 20.015625 \nQ 33.0625 21.96875 24.703125 23.78125 \nL 21.578125 24.515625 \nQ 13.234375 26.265625 9.515625 29.90625 \nQ 5.8125 33.546875 5.8125 39.890625 \nQ 5.8125 47.609375 11.28125 51.796875 \nQ 16.75 56 26.8125 56 \nQ 31.78125 56 36.171875 55.265625 \nQ 40.578125 54.546875 44.28125 53.078125 \nz\n\" id=\"DejaVuSans-115\"/>\n      </defs>\n      <use xlink:href=\"#DejaVuSans-97\"/>\n      <use x=\"61.279297\" xlink:href=\"#DejaVuSans-109\"/>\n      <use x=\"158.691406\" xlink:href=\"#DejaVuSans-111\"/>\n      <use x=\"219.873047\" xlink:href=\"#DejaVuSans-117\"/>\n      <use x=\"283.251953\" xlink:href=\"#DejaVuSans-110\"/>\n      <use x=\"346.630859\" xlink:href=\"#DejaVuSans-116\"/>\n      <use x=\"385.839844\" xlink:href=\"#DejaVuSans-32\"/>\n      <use x=\"417.626953\" xlink:href=\"#DejaVuSans-111\"/>\n      <use x=\"478.808594\" xlink:href=\"#DejaVuSans-102\"/>\n      <use x=\"514.013672\" xlink:href=\"#DejaVuSans-32\"/>\n      <use x=\"545.800781\" xlink:href=\"#DejaVuSans-116\"/>\n      <use x=\"585.009766\" xlink:href=\"#DejaVuSans-111\"/>\n      <use x=\"646.191406\" xlink:href=\"#DejaVuSans-107\"/>\n      <use x=\"700.476562\" xlink:href=\"#DejaVuSans-101\"/>\n      <use x=\"762\" xlink:href=\"#DejaVuSans-110\"/>\n      <use x=\"825.378906\" xlink:href=\"#DejaVuSans-115\"/>\n     </g>\n    </g>\n   </g>\n   <g id=\"matplotlib.axis_2\">\n    <g id=\"ytick_1\">\n     <g id=\"line2d_7\">\n      <defs>\n       <path d=\"M 0 0 \nL -3.5 0 \n\" id=\"m9f1de493a0\" style=\"stroke:#000000;stroke-width:0.8;\"/>\n      </defs>\n      <g>\n       <use style=\"stroke:#000000;stroke-width:0.8;\" x=\"46.965625\" xlink:href=\"#m9f1de493a0\" y=\"202.914488\"/>\n      </g>\n     </g>\n     <g id=\"text_8\">\n      <!-- 100 -->\n      <g transform=\"translate(20.878125 206.713707)scale(0.1 -0.1)\">\n       <use xlink:href=\"#DejaVuSans-49\"/>\n       <use x=\"63.623047\" xlink:href=\"#DejaVuSans-48\"/>\n       <use x=\"127.246094\" xlink:href=\"#DejaVuSans-48\"/>\n      </g>\n     </g>\n    </g>\n    <g id=\"ytick_2\">\n     <g id=\"line2d_8\">\n      <g>\n       <use style=\"stroke:#000000;stroke-width:0.8;\" x=\"46.965625\" xlink:href=\"#m9f1de493a0\" y=\"170.92861\"/>\n      </g>\n     </g>\n     <g id=\"text_9\">\n      <!-- 200 -->\n      <g transform=\"translate(20.878125 174.727828)scale(0.1 -0.1)\">\n       <use xlink:href=\"#DejaVuSans-50\"/>\n       <use x=\"63.623047\" xlink:href=\"#DejaVuSans-48\"/>\n       <use x=\"127.246094\" xlink:href=\"#DejaVuSans-48\"/>\n      </g>\n     </g>\n    </g>\n    <g id=\"ytick_3\">\n     <g id=\"line2d_9\">\n      <g>\n       <use style=\"stroke:#000000;stroke-width:0.8;\" x=\"46.965625\" xlink:href=\"#m9f1de493a0\" y=\"138.942732\"/>\n      </g>\n     </g>\n     <g id=\"text_10\">\n      <!-- 300 -->\n      <g transform=\"translate(20.878125 142.74195)scale(0.1 -0.1)\">\n       <defs>\n        <path d=\"M 40.578125 39.3125 \nQ 47.65625 37.796875 51.625 33 \nQ 55.609375 28.21875 55.609375 21.1875 \nQ 55.609375 10.40625 48.1875 4.484375 \nQ 40.765625 -1.421875 27.09375 -1.421875 \nQ 22.515625 -1.421875 17.65625 -0.515625 \nQ 12.796875 0.390625 7.625 2.203125 \nL 7.625 11.71875 \nQ 11.71875 9.328125 16.59375 8.109375 \nQ 21.484375 6.890625 26.8125 6.890625 \nQ 36.078125 6.890625 40.9375 10.546875 \nQ 45.796875 14.203125 45.796875 21.1875 \nQ 45.796875 27.640625 41.28125 31.265625 \nQ 36.765625 34.90625 28.71875 34.90625 \nL 20.21875 34.90625 \nL 20.21875 43.015625 \nL 29.109375 43.015625 \nQ 36.375 43.015625 40.234375 45.921875 \nQ 44.09375 48.828125 44.09375 54.296875 \nQ 44.09375 59.90625 40.109375 62.90625 \nQ 36.140625 65.921875 28.71875 65.921875 \nQ 24.65625 65.921875 20.015625 65.03125 \nQ 15.375 64.15625 9.8125 62.3125 \nL 9.8125 71.09375 \nQ 15.4375 72.65625 20.34375 73.4375 \nQ 25.25 74.21875 29.59375 74.21875 \nQ 40.828125 74.21875 47.359375 69.109375 \nQ 53.90625 64.015625 53.90625 55.328125 \nQ 53.90625 49.265625 50.4375 45.09375 \nQ 46.96875 40.921875 40.578125 39.3125 \nz\n\" id=\"DejaVuSans-51\"/>\n       </defs>\n       <use xlink:href=\"#DejaVuSans-51\"/>\n       <use x=\"63.623047\" xlink:href=\"#DejaVuSans-48\"/>\n       <use x=\"127.246094\" xlink:href=\"#DejaVuSans-48\"/>\n      </g>\n     </g>\n    </g>\n    <g id=\"ytick_4\">\n     <g id=\"line2d_10\">\n      <g>\n       <use style=\"stroke:#000000;stroke-width:0.8;\" x=\"46.965625\" xlink:href=\"#m9f1de493a0\" y=\"106.956853\"/>\n      </g>\n     </g>\n     <g id=\"text_11\">\n      <!-- 400 -->\n      <g transform=\"translate(20.878125 110.756072)scale(0.1 -0.1)\">\n       <use xlink:href=\"#DejaVuSans-52\"/>\n       <use x=\"63.623047\" xlink:href=\"#DejaVuSans-48\"/>\n       <use x=\"127.246094\" xlink:href=\"#DejaVuSans-48\"/>\n      </g>\n     </g>\n    </g>\n    <g id=\"ytick_5\">\n     <g id=\"line2d_11\">\n      <g>\n       <use style=\"stroke:#000000;stroke-width:0.8;\" x=\"46.965625\" xlink:href=\"#m9f1de493a0\" y=\"74.970975\"/>\n      </g>\n     </g>\n     <g id=\"text_12\">\n      <!-- 500 -->\n      <g transform=\"translate(20.878125 78.770194)scale(0.1 -0.1)\">\n       <defs>\n        <path d=\"M 10.796875 72.90625 \nL 49.515625 72.90625 \nL 49.515625 64.59375 \nL 19.828125 64.59375 \nL 19.828125 46.734375 \nQ 21.96875 47.46875 24.109375 47.828125 \nQ 26.265625 48.1875 28.421875 48.1875 \nQ 40.625 48.1875 47.75 41.5 \nQ 54.890625 34.8125 54.890625 23.390625 \nQ 54.890625 11.625 47.5625 5.09375 \nQ 40.234375 -1.421875 26.90625 -1.421875 \nQ 22.3125 -1.421875 17.546875 -0.640625 \nQ 12.796875 0.140625 7.71875 1.703125 \nL 7.71875 11.625 \nQ 12.109375 9.234375 16.796875 8.0625 \nQ 21.484375 6.890625 26.703125 6.890625 \nQ 35.15625 6.890625 40.078125 11.328125 \nQ 45.015625 15.765625 45.015625 23.390625 \nQ 45.015625 31 40.078125 35.4375 \nQ 35.15625 39.890625 26.703125 39.890625 \nQ 22.75 39.890625 18.8125 39.015625 \nQ 14.890625 38.140625 10.796875 36.28125 \nz\n\" id=\"DejaVuSans-53\"/>\n       </defs>\n       <use xlink:href=\"#DejaVuSans-53\"/>\n       <use x=\"63.623047\" xlink:href=\"#DejaVuSans-48\"/>\n       <use x=\"127.246094\" xlink:href=\"#DejaVuSans-48\"/>\n      </g>\n     </g>\n    </g>\n    <g id=\"ytick_6\">\n     <g id=\"line2d_12\">\n      <g>\n       <use style=\"stroke:#000000;stroke-width:0.8;\" x=\"46.965625\" xlink:href=\"#m9f1de493a0\" y=\"42.985097\"/>\n      </g>\n     </g>\n     <g id=\"text_13\">\n      <!-- 600 -->\n      <g transform=\"translate(20.878125 46.784316)scale(0.1 -0.1)\">\n       <use xlink:href=\"#DejaVuSans-54\"/>\n       <use x=\"63.623047\" xlink:href=\"#DejaVuSans-48\"/>\n       <use x=\"127.246094\" xlink:href=\"#DejaVuSans-48\"/>\n      </g>\n     </g>\n    </g>\n    <g id=\"ytick_7\">\n     <g id=\"line2d_13\">\n      <g>\n       <use style=\"stroke:#000000;stroke-width:0.8;\" x=\"46.965625\" xlink:href=\"#m9f1de493a0\" y=\"10.999219\"/>\n      </g>\n     </g>\n     <g id=\"text_14\">\n      <!-- 700 -->\n      <g transform=\"translate(20.878125 14.798437)scale(0.1 -0.1)\">\n       <defs>\n        <path d=\"M 8.203125 72.90625 \nL 55.078125 72.90625 \nL 55.078125 68.703125 \nL 28.609375 0 \nL 18.3125 0 \nL 43.21875 64.59375 \nL 8.203125 64.59375 \nz\n\" id=\"DejaVuSans-55\"/>\n       </defs>\n       <use xlink:href=\"#DejaVuSans-55\"/>\n       <use x=\"63.623047\" xlink:href=\"#DejaVuSans-48\"/>\n       <use x=\"127.246094\" xlink:href=\"#DejaVuSans-48\"/>\n      </g>\n     </g>\n    </g>\n    <g id=\"text_15\">\n     <!-- count of types -->\n     <g transform=\"translate(14.798438 153.710958)rotate(-90)scale(0.1 -0.1)\">\n      <defs>\n       <path d=\"M 48.78125 52.59375 \nL 48.78125 44.1875 \nQ 44.96875 46.296875 41.140625 47.34375 \nQ 37.3125 48.390625 33.40625 48.390625 \nQ 24.65625 48.390625 19.8125 42.84375 \nQ 14.984375 37.3125 14.984375 27.296875 \nQ 14.984375 17.28125 19.8125 11.734375 \nQ 24.65625 6.203125 33.40625 6.203125 \nQ 37.3125 6.203125 41.140625 7.25 \nQ 44.96875 8.296875 48.78125 10.40625 \nL 48.78125 2.09375 \nQ 45.015625 0.34375 40.984375 -0.53125 \nQ 36.96875 -1.421875 32.421875 -1.421875 \nQ 20.0625 -1.421875 12.78125 6.34375 \nQ 5.515625 14.109375 5.515625 27.296875 \nQ 5.515625 40.671875 12.859375 48.328125 \nQ 20.21875 56 33.015625 56 \nQ 37.15625 56 41.109375 55.140625 \nQ 45.0625 54.296875 48.78125 52.59375 \nz\n\" id=\"DejaVuSans-99\"/>\n       <path d=\"M 32.171875 -5.078125 \nQ 28.375 -14.84375 24.75 -17.8125 \nQ 21.140625 -20.796875 15.09375 -20.796875 \nL 7.90625 -20.796875 \nL 7.90625 -13.28125 \nL 13.1875 -13.28125 \nQ 16.890625 -13.28125 18.9375 -11.515625 \nQ 21 -9.765625 23.484375 -3.21875 \nL 25.09375 0.875 \nL 2.984375 54.6875 \nL 12.5 54.6875 \nL 29.59375 11.921875 \nL 46.6875 54.6875 \nL 56.203125 54.6875 \nz\n\" id=\"DejaVuSans-121\"/>\n       <path d=\"M 18.109375 8.203125 \nL 18.109375 -20.796875 \nL 9.078125 -20.796875 \nL 9.078125 54.6875 \nL 18.109375 54.6875 \nL 18.109375 46.390625 \nQ 20.953125 51.265625 25.265625 53.625 \nQ 29.59375 56 35.59375 56 \nQ 45.5625 56 51.78125 48.09375 \nQ 58.015625 40.1875 58.015625 27.296875 \nQ 58.015625 14.40625 51.78125 6.484375 \nQ 45.5625 -1.421875 35.59375 -1.421875 \nQ 29.59375 -1.421875 25.265625 0.953125 \nQ 20.953125 3.328125 18.109375 8.203125 \nz\nM 48.6875 27.296875 \nQ 48.6875 37.203125 44.609375 42.84375 \nQ 40.53125 48.484375 33.40625 48.484375 \nQ 26.265625 48.484375 22.1875 42.84375 \nQ 18.109375 37.203125 18.109375 27.296875 \nQ 18.109375 17.390625 22.1875 11.75 \nQ 26.265625 6.109375 33.40625 6.109375 \nQ 40.53125 6.109375 44.609375 11.75 \nQ 48.6875 17.390625 48.6875 27.296875 \nz\n\" id=\"DejaVuSans-112\"/>\n      </defs>\n      <use xlink:href=\"#DejaVuSans-99\"/>\n      <use x=\"54.980469\" xlink:href=\"#DejaVuSans-111\"/>\n      <use x=\"116.162109\" xlink:href=\"#DejaVuSans-117\"/>\n      <use x=\"179.541016\" xlink:href=\"#DejaVuSans-110\"/>\n      <use x=\"242.919922\" xlink:href=\"#DejaVuSans-116\"/>\n      <use x=\"282.128906\" xlink:href=\"#DejaVuSans-32\"/>\n      <use x=\"313.916016\" xlink:href=\"#DejaVuSans-111\"/>\n      <use x=\"375.097656\" xlink:href=\"#DejaVuSans-102\"/>\n      <use x=\"410.302734\" xlink:href=\"#DejaVuSans-32\"/>\n      <use x=\"442.089844\" xlink:href=\"#DejaVuSans-116\"/>\n      <use x=\"481.298828\" xlink:href=\"#DejaVuSans-121\"/>\n      <use x=\"540.478516\" xlink:href=\"#DejaVuSans-112\"/>\n      <use x=\"603.955078\" xlink:href=\"#DejaVuSans-101\"/>\n      <use x=\"665.478516\" xlink:href=\"#DejaVuSans-115\"/>\n     </g>\n    </g>\n   </g>\n   <g id=\"line2d_14\">\n    <path clip-path=\"url(#p7e36e1d5b5)\" d=\"M 62.183807 214.429404 \nL 87.547443 199.7159 \nL 112.91108 189.16056 \nL 138.274716 177.645644 \nL 163.638352 164.211575 \nL 189.001989 151.737083 \nL 214.365625 143.420754 \nL 239.729261 130.626403 \nL 265.092898 121.350499 \nL 290.456534 111.434876 \nL 315.82017 103.118548 \nL 341.183807 98.640525 \nL 366.547443 90.644055 \n\" style=\"fill:none;stroke:#1f77b4;stroke-linecap:square;stroke-width:1.5;\"/>\n   </g>\n   <g id=\"line2d_15\">\n    <path clip-path=\"url(#p7e36e1d5b5)\" d=\"M 62.183807 216.668416 \nL 87.547443 203.234347 \nL 112.91108 192.359148 \nL 138.274716 181.48395 \nL 163.638352 168.689598 \nL 189.001989 161.012988 \nL 214.365625 151.097365 \nL 239.729261 141.501602 \nL 265.092898 133.185273 \nL 290.456534 126.468239 \nL 315.82017 120.390922 \nL 341.183807 113.03417 \nL 366.547443 105.997277 \n\" style=\"fill:none;stroke:#ff7f0e;stroke-linecap:square;stroke-width:1.5;\"/>\n   </g>\n   <g id=\"line2d_16\">\n    <path clip-path=\"url(#p7e36e1d5b5)\" d=\"M 62.183807 214.749263 \nL 87.547443 198.756324 \nL 112.91108 185.322255 \nL 138.274716 169.649175 \nL 163.638352 153.656236 \nL 189.001989 144.060472 \nL 214.365625 131.266121 \nL 239.729261 120.390922 \nL 265.092898 110.795159 \nL 290.456534 101.199395 \nL 315.82017 92.243349 \nL 341.183807 82.967445 \nL 366.547443 73.69154 \n\" style=\"fill:none;stroke:#2ca02c;stroke-linecap:square;stroke-width:1.5;\"/>\n   </g>\n   <g id=\"line2d_17\">\n    <path clip-path=\"url(#p7e36e1d5b5)\" d=\"M 62.183807 211.230816 \nL 87.547443 191.079713 \nL 112.91108 173.48748 \nL 138.274716 154.295953 \nL 163.638352 137.983155 \nL 189.001989 121.03064 \nL 214.365625 105.037701 \nL 239.729261 88.085185 \nL 265.092898 77.849704 \nL 290.456534 63.1362 \nL 315.82017 47.46312 \nL 341.183807 33.069475 \nL 366.547443 18.995688 \n\" style=\"fill:none;stroke:#d62728;stroke-linecap:square;stroke-width:1.5;\"/>\n   </g>\n   <g id=\"patch_3\">\n    <path d=\"M 46.965625 226.552052 \nL 46.965625 9.112052 \n\" style=\"fill:none;stroke:#000000;stroke-linecap:square;stroke-linejoin:miter;stroke-width:0.8;\"/>\n   </g>\n   <g id=\"patch_4\">\n    <path d=\"M 381.765625 226.552052 \nL 381.765625 9.112052 \n\" style=\"fill:none;stroke:#000000;stroke-linecap:square;stroke-linejoin:miter;stroke-width:0.8;\"/>\n   </g>\n   <g id=\"patch_5\">\n    <path d=\"M 46.965625 226.552052 \nL 381.765625 226.552052 \n\" style=\"fill:none;stroke:#000000;stroke-linecap:square;stroke-linejoin:miter;stroke-width:0.8;\"/>\n   </g>\n   <g id=\"patch_6\">\n    <path d=\"M 46.965625 9.112052 \nL 381.765625 9.112052 \n\" style=\"fill:none;stroke:#000000;stroke-linecap:square;stroke-linejoin:miter;stroke-width:0.8;\"/>\n   </g>\n   <g id=\"legend_1\">\n    <g id=\"patch_7\">\n     <path d=\"M 53.965625 76.380802 \nL 206.871875 76.380802 \nQ 208.871875 76.380802 208.871875 74.380802 \nL 208.871875 16.112052 \nQ 208.871875 14.112052 206.871875 14.112052 \nL 53.965625 14.112052 \nQ 51.965625 14.112052 51.965625 16.112052 \nL 51.965625 74.380802 \nQ 51.965625 76.380802 53.965625 76.380802 \nz\n\" style=\"fill:#ffffff;opacity:0.8;stroke:#cccccc;stroke-linejoin:miter;\"/>\n    </g>\n    <g id=\"line2d_18\">\n     <path d=\"M 55.965625 22.210489 \nL 75.965625 22.210489 \n\" style=\"fill:none;stroke:#1f77b4;stroke-linecap:square;stroke-width:1.5;\"/>\n    </g>\n    <g id=\"line2d_19\"/>\n    <g id=\"text_16\">\n     <!-- Italian-Latin1 -->\n     <g transform=\"translate(83.965625 25.710489)scale(0.1 -0.1)\">\n      <defs>\n       <path d=\"M 9.8125 72.90625 \nL 19.671875 72.90625 \nL 19.671875 0 \nL 9.8125 0 \nz\n\" id=\"DejaVuSans-73\"/>\n       <path d=\"M 9.421875 75.984375 \nL 18.40625 75.984375 \nL 18.40625 0 \nL 9.421875 0 \nz\n\" id=\"DejaVuSans-108\"/>\n       <path d=\"M 9.421875 54.6875 \nL 18.40625 54.6875 \nL 18.40625 0 \nL 9.421875 0 \nz\nM 9.421875 75.984375 \nL 18.40625 75.984375 \nL 18.40625 64.59375 \nL 9.421875 64.59375 \nz\n\" id=\"DejaVuSans-105\"/>\n       <path d=\"M 4.890625 31.390625 \nL 31.203125 31.390625 \nL 31.203125 23.390625 \nL 4.890625 23.390625 \nz\n\" id=\"DejaVuSans-45\"/>\n       <path d=\"M 9.8125 72.90625 \nL 19.671875 72.90625 \nL 19.671875 8.296875 \nL 55.171875 8.296875 \nL 55.171875 0 \nL 9.8125 0 \nz\n\" id=\"DejaVuSans-76\"/>\n      </defs>\n      <use xlink:href=\"#DejaVuSans-73\"/>\n      <use x=\"29.492188\" xlink:href=\"#DejaVuSans-116\"/>\n      <use x=\"68.701172\" xlink:href=\"#DejaVuSans-97\"/>\n      <use x=\"129.980469\" xlink:href=\"#DejaVuSans-108\"/>\n      <use x=\"157.763672\" xlink:href=\"#DejaVuSans-105\"/>\n      <use x=\"185.546875\" xlink:href=\"#DejaVuSans-97\"/>\n      <use x=\"246.826172\" xlink:href=\"#DejaVuSans-110\"/>\n      <use x=\"310.205078\" xlink:href=\"#DejaVuSans-45\"/>\n      <use x=\"346.289062\" xlink:href=\"#DejaVuSans-76\"/>\n      <use x=\"402.001953\" xlink:href=\"#DejaVuSans-97\"/>\n      <use x=\"463.28125\" xlink:href=\"#DejaVuSans-116\"/>\n      <use x=\"502.490234\" xlink:href=\"#DejaVuSans-105\"/>\n      <use x=\"530.273438\" xlink:href=\"#DejaVuSans-110\"/>\n      <use x=\"593.652344\" xlink:href=\"#DejaVuSans-49\"/>\n     </g>\n    </g>\n    <g id=\"line2d_20\">\n     <path d=\"M 55.965625 36.888614 \nL 75.965625 36.888614 \n\" style=\"fill:none;stroke:#ff7f0e;stroke-linecap:square;stroke-width:1.5;\"/>\n    </g>\n    <g id=\"line2d_21\"/>\n    <g id=\"text_17\">\n     <!-- English-Latin1 -->\n     <g transform=\"translate(83.965625 40.388614)scale(0.1 -0.1)\">\n      <defs>\n       <path d=\"M 9.8125 72.90625 \nL 55.90625 72.90625 \nL 55.90625 64.59375 \nL 19.671875 64.59375 \nL 19.671875 43.015625 \nL 54.390625 43.015625 \nL 54.390625 34.71875 \nL 19.671875 34.71875 \nL 19.671875 8.296875 \nL 56.78125 8.296875 \nL 56.78125 0 \nL 9.8125 0 \nz\n\" id=\"DejaVuSans-69\"/>\n       <path d=\"M 45.40625 27.984375 \nQ 45.40625 37.75 41.375 43.109375 \nQ 37.359375 48.484375 30.078125 48.484375 \nQ 22.859375 48.484375 18.828125 43.109375 \nQ 14.796875 37.75 14.796875 27.984375 \nQ 14.796875 18.265625 18.828125 12.890625 \nQ 22.859375 7.515625 30.078125 7.515625 \nQ 37.359375 7.515625 41.375 12.890625 \nQ 45.40625 18.265625 45.40625 27.984375 \nz\nM 54.390625 6.78125 \nQ 54.390625 -7.171875 48.1875 -13.984375 \nQ 42 -20.796875 29.203125 -20.796875 \nQ 24.46875 -20.796875 20.265625 -20.09375 \nQ 16.0625 -19.390625 12.109375 -17.921875 \nL 12.109375 -9.1875 \nQ 16.0625 -11.328125 19.921875 -12.34375 \nQ 23.78125 -13.375 27.78125 -13.375 \nQ 36.625 -13.375 41.015625 -8.765625 \nQ 45.40625 -4.15625 45.40625 5.171875 \nL 45.40625 9.625 \nQ 42.625 4.78125 38.28125 2.390625 \nQ 33.9375 0 27.875 0 \nQ 17.828125 0 11.671875 7.65625 \nQ 5.515625 15.328125 5.515625 27.984375 \nQ 5.515625 40.671875 11.671875 48.328125 \nQ 17.828125 56 27.875 56 \nQ 33.9375 56 38.28125 53.609375 \nQ 42.625 51.21875 45.40625 46.390625 \nL 45.40625 54.6875 \nL 54.390625 54.6875 \nz\n\" id=\"DejaVuSans-103\"/>\n       <path d=\"M 54.890625 33.015625 \nL 54.890625 0 \nL 45.90625 0 \nL 45.90625 32.71875 \nQ 45.90625 40.484375 42.875 44.328125 \nQ 39.84375 48.1875 33.796875 48.1875 \nQ 26.515625 48.1875 22.3125 43.546875 \nQ 18.109375 38.921875 18.109375 30.90625 \nL 18.109375 0 \nL 9.078125 0 \nL 9.078125 75.984375 \nL 18.109375 75.984375 \nL 18.109375 46.1875 \nQ 21.34375 51.125 25.703125 53.5625 \nQ 30.078125 56 35.796875 56 \nQ 45.21875 56 50.046875 50.171875 \nQ 54.890625 44.34375 54.890625 33.015625 \nz\n\" id=\"DejaVuSans-104\"/>\n      </defs>\n      <use xlink:href=\"#DejaVuSans-69\"/>\n      <use x=\"63.183594\" xlink:href=\"#DejaVuSans-110\"/>\n      <use x=\"126.5625\" xlink:href=\"#DejaVuSans-103\"/>\n      <use x=\"190.039062\" xlink:href=\"#DejaVuSans-108\"/>\n      <use x=\"217.822266\" xlink:href=\"#DejaVuSans-105\"/>\n      <use x=\"245.605469\" xlink:href=\"#DejaVuSans-115\"/>\n      <use x=\"297.705078\" xlink:href=\"#DejaVuSans-104\"/>\n      <use x=\"361.083984\" xlink:href=\"#DejaVuSans-45\"/>\n      <use x=\"397.167969\" xlink:href=\"#DejaVuSans-76\"/>\n      <use x=\"452.880859\" xlink:href=\"#DejaVuSans-97\"/>\n      <use x=\"514.160156\" xlink:href=\"#DejaVuSans-116\"/>\n      <use x=\"553.369141\" xlink:href=\"#DejaVuSans-105\"/>\n      <use x=\"581.152344\" xlink:href=\"#DejaVuSans-110\"/>\n      <use x=\"644.53125\" xlink:href=\"#DejaVuSans-49\"/>\n     </g>\n    </g>\n    <g id=\"line2d_22\">\n     <path d=\"M 55.965625 51.566739 \nL 75.965625 51.566739 \n\" style=\"fill:none;stroke:#2ca02c;stroke-linecap:square;stroke-width:1.5;\"/>\n    </g>\n    <g id=\"line2d_23\"/>\n    <g id=\"text_18\">\n     <!-- German_Deutsch-Latin1 -->\n     <g transform=\"translate(83.965625 55.066739)scale(0.1 -0.1)\">\n      <defs>\n       <path d=\"M 59.515625 10.40625 \nL 59.515625 29.984375 \nL 43.40625 29.984375 \nL 43.40625 38.09375 \nL 69.28125 38.09375 \nL 69.28125 6.78125 \nQ 63.578125 2.734375 56.6875 0.65625 \nQ 49.8125 -1.421875 42 -1.421875 \nQ 24.90625 -1.421875 15.25 8.5625 \nQ 5.609375 18.5625 5.609375 36.375 \nQ 5.609375 54.25 15.25 64.234375 \nQ 24.90625 74.21875 42 74.21875 \nQ 49.125 74.21875 55.546875 72.453125 \nQ 61.96875 70.703125 67.390625 67.28125 \nL 67.390625 56.78125 \nQ 61.921875 61.421875 55.765625 63.765625 \nQ 49.609375 66.109375 42.828125 66.109375 \nQ 29.4375 66.109375 22.71875 58.640625 \nQ 16.015625 51.171875 16.015625 36.375 \nQ 16.015625 21.625 22.71875 14.15625 \nQ 29.4375 6.6875 42.828125 6.6875 \nQ 48.046875 6.6875 52.140625 7.59375 \nQ 56.25 8.5 59.515625 10.40625 \nz\n\" id=\"DejaVuSans-71\"/>\n       <path d=\"M 41.109375 46.296875 \nQ 39.59375 47.171875 37.8125 47.578125 \nQ 36.03125 48 33.890625 48 \nQ 26.265625 48 22.1875 43.046875 \nQ 18.109375 38.09375 18.109375 28.8125 \nL 18.109375 0 \nL 9.078125 0 \nL 9.078125 54.6875 \nL 18.109375 54.6875 \nL 18.109375 46.1875 \nQ 20.953125 51.171875 25.484375 53.578125 \nQ 30.03125 56 36.53125 56 \nQ 37.453125 56 38.578125 55.875 \nQ 39.703125 55.765625 41.0625 55.515625 \nz\n\" id=\"DejaVuSans-114\"/>\n       <path d=\"M 50.984375 -16.609375 \nL 50.984375 -23.578125 \nL -0.984375 -23.578125 \nL -0.984375 -16.609375 \nz\n\" id=\"DejaVuSans-95\"/>\n       <path d=\"M 19.671875 64.796875 \nL 19.671875 8.109375 \nL 31.59375 8.109375 \nQ 46.6875 8.109375 53.6875 14.9375 \nQ 60.6875 21.78125 60.6875 36.53125 \nQ 60.6875 51.171875 53.6875 57.984375 \nQ 46.6875 64.796875 31.59375 64.796875 \nz\nM 9.8125 72.90625 \nL 30.078125 72.90625 \nQ 51.265625 72.90625 61.171875 64.09375 \nQ 71.09375 55.28125 71.09375 36.53125 \nQ 71.09375 17.671875 61.125 8.828125 \nQ 51.171875 0 30.078125 0 \nL 9.8125 0 \nz\n\" id=\"DejaVuSans-68\"/>\n      </defs>\n      <use xlink:href=\"#DejaVuSans-71\"/>\n      <use x=\"77.490234\" xlink:href=\"#DejaVuSans-101\"/>\n      <use x=\"139.013672\" xlink:href=\"#DejaVuSans-114\"/>\n      <use x=\"178.376953\" xlink:href=\"#DejaVuSans-109\"/>\n      <use x=\"275.789062\" xlink:href=\"#DejaVuSans-97\"/>\n      <use x=\"337.068359\" xlink:href=\"#DejaVuSans-110\"/>\n      <use x=\"400.447266\" xlink:href=\"#DejaVuSans-95\"/>\n      <use x=\"450.447266\" xlink:href=\"#DejaVuSans-68\"/>\n      <use x=\"527.449219\" xlink:href=\"#DejaVuSans-101\"/>\n      <use x=\"588.972656\" xlink:href=\"#DejaVuSans-117\"/>\n      <use x=\"652.351562\" xlink:href=\"#DejaVuSans-116\"/>\n      <use x=\"691.560547\" xlink:href=\"#DejaVuSans-115\"/>\n      <use x=\"743.660156\" xlink:href=\"#DejaVuSans-99\"/>\n      <use x=\"798.640625\" xlink:href=\"#DejaVuSans-104\"/>\n      <use x=\"862.019531\" xlink:href=\"#DejaVuSans-45\"/>\n      <use x=\"898.103516\" xlink:href=\"#DejaVuSans-76\"/>\n      <use x=\"953.816406\" xlink:href=\"#DejaVuSans-97\"/>\n      <use x=\"1015.095703\" xlink:href=\"#DejaVuSans-116\"/>\n      <use x=\"1054.304688\" xlink:href=\"#DejaVuSans-105\"/>\n      <use x=\"1082.087891\" xlink:href=\"#DejaVuSans-110\"/>\n      <use x=\"1145.466797\" xlink:href=\"#DejaVuSans-49\"/>\n     </g>\n    </g>\n    <g id=\"line2d_24\">\n     <path d=\"M 55.965625 66.522989 \nL 75.965625 66.522989 \n\" style=\"fill:none;stroke:#d62728;stroke-linecap:square;stroke-width:1.5;\"/>\n    </g>\n    <g id=\"line2d_25\"/>\n    <g id=\"text_19\">\n     <!-- Finnish_Suomi-Latin1 -->\n     <g transform=\"translate(83.965625 70.022989)scale(0.1 -0.1)\">\n      <defs>\n       <path d=\"M 9.8125 72.90625 \nL 51.703125 72.90625 \nL 51.703125 64.59375 \nL 19.671875 64.59375 \nL 19.671875 43.109375 \nL 48.578125 43.109375 \nL 48.578125 34.8125 \nL 19.671875 34.8125 \nL 19.671875 0 \nL 9.8125 0 \nz\n\" id=\"DejaVuSans-70\"/>\n       <path d=\"M 53.515625 70.515625 \nL 53.515625 60.890625 \nQ 47.90625 63.578125 42.921875 64.890625 \nQ 37.9375 66.21875 33.296875 66.21875 \nQ 25.25 66.21875 20.875 63.09375 \nQ 16.5 59.96875 16.5 54.203125 \nQ 16.5 49.359375 19.40625 46.890625 \nQ 22.3125 44.4375 30.421875 42.921875 \nL 36.375 41.703125 \nQ 47.40625 39.59375 52.65625 34.296875 \nQ 57.90625 29 57.90625 20.125 \nQ 57.90625 9.515625 50.796875 4.046875 \nQ 43.703125 -1.421875 29.984375 -1.421875 \nQ 24.8125 -1.421875 18.96875 -0.25 \nQ 13.140625 0.921875 6.890625 3.21875 \nL 6.890625 13.375 \nQ 12.890625 10.015625 18.65625 8.296875 \nQ 24.421875 6.59375 29.984375 6.59375 \nQ 38.421875 6.59375 43.015625 9.90625 \nQ 47.609375 13.234375 47.609375 19.390625 \nQ 47.609375 24.75 44.3125 27.78125 \nQ 41.015625 30.8125 33.5 32.328125 \nL 27.484375 33.5 \nQ 16.453125 35.6875 11.515625 40.375 \nQ 6.59375 45.0625 6.59375 53.421875 \nQ 6.59375 63.09375 13.40625 68.65625 \nQ 20.21875 74.21875 32.171875 74.21875 \nQ 37.3125 74.21875 42.625 73.28125 \nQ 47.953125 72.359375 53.515625 70.515625 \nz\n\" id=\"DejaVuSans-83\"/>\n      </defs>\n      <use xlink:href=\"#DejaVuSans-70\"/>\n      <use x=\"50.269531\" xlink:href=\"#DejaVuSans-105\"/>\n      <use x=\"78.052734\" xlink:href=\"#DejaVuSans-110\"/>\n      <use x=\"141.431641\" xlink:href=\"#DejaVuSans-110\"/>\n      <use x=\"204.810547\" xlink:href=\"#DejaVuSans-105\"/>\n      <use x=\"232.59375\" xlink:href=\"#DejaVuSans-115\"/>\n      <use x=\"284.693359\" xlink:href=\"#DejaVuSans-104\"/>\n      <use x=\"348.072266\" xlink:href=\"#DejaVuSans-95\"/>\n      <use x=\"398.072266\" xlink:href=\"#DejaVuSans-83\"/>\n      <use x=\"461.548828\" xlink:href=\"#DejaVuSans-117\"/>\n      <use x=\"524.927734\" xlink:href=\"#DejaVuSans-111\"/>\n      <use x=\"586.109375\" xlink:href=\"#DejaVuSans-109\"/>\n      <use x=\"683.521484\" xlink:href=\"#DejaVuSans-105\"/>\n      <use x=\"711.304688\" xlink:href=\"#DejaVuSans-45\"/>\n      <use x=\"747.388672\" xlink:href=\"#DejaVuSans-76\"/>\n      <use x=\"803.101562\" xlink:href=\"#DejaVuSans-97\"/>\n      <use x=\"864.380859\" xlink:href=\"#DejaVuSans-116\"/>\n      <use x=\"903.589844\" xlink:href=\"#DejaVuSans-105\"/>\n      <use x=\"931.373047\" xlink:href=\"#DejaVuSans-110\"/>\n      <use x=\"994.751953\" xlink:href=\"#DejaVuSans-49\"/>\n     </g>\n    </g>\n   </g>\n  </g>\n </g>\n <defs>\n  <clipPath id=\"p7e36e1d5b5\">\n   <rect height=\"217.44\" width=\"334.8\" x=\"46.965625\" y=\"9.112052\"/>\n  </clipPath>\n </defs>\n</svg>\n",
      "image/png": "[encoded data removed]"
     },
     "metadata": {
      "needs_background": "light"
     }
    }
   ],
   "source": [
    "import matplotlib.pyplot as plt\n",
    "importlib.reload(lab1)\n",
    "lab1.plot_TTRs(TTRs)"
   ]
  },
  {
   "cell_type": "markdown",
   "metadata": {},
   "source": [
    "c. Which language has the highest TTR? What could be driving the TTR? Share your thoughts in the textbox below: (Ungraded)"
   ]
  },
  {
   "cell_type": "markdown",
   "metadata": {
    "nbgrader": {
     "grade": true,
     "grade_id": "cell-97883af5aa5d83f4",
     "locked": false,
     "points": 5,
     "schema_version": 3,
     "solution": true,
     "task": false
    }
   },
   "source": [
    "**Share your thoughts here:** "
   ]
  },
  {
   "cell_type": "code",
   "execution_count": null,
   "metadata": {},
   "outputs": [],
   "source": []
  }
 ],
 "metadata": {
  "celltoolbar": "Create Assignment",
  "kernelspec": {
   "display_name": "Python 3",
   "language": "python",
   "name": "python3"
  },
  "language_info": {
   "codemirror_mode": {
    "name": "ipython",
    "version": 3
   },
   "file_extension": ".py",
   "mimetype": "text/x-python",
   "name": "python",
   "nbconvert_exporter": "python",
   "pygments_lexer": "ipython3",
   "version": "3.9.1-final"
  }
 },
 "nbformat": 4,
 "nbformat_minor": 2
}